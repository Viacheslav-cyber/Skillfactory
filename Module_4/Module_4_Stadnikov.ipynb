{
 "cells": [
  {
   "cell_type": "code",
   "execution_count": 68,
   "metadata": {},
   "outputs": [],
   "source": [
    "import pandas as pd\n",
    "from datetime import datetime as dt\n",
    "import matplotlib.pyplot as plt\n",
    "%matplotlib inline\n",
    "df = pd.read_csv('SQL_Avia.csv')"
   ]
  },
  {
   "cell_type": "code",
   "execution_count": 69,
   "metadata": {},
   "outputs": [
    {
     "name": "stdout",
     "output_type": "stream",
     "text": [
      "<class 'pandas.core.frame.DataFrame'>\n",
      "RangeIndex: 360 entries, 0 to 359\n",
      "Data columns (total 12 columns):\n",
      " #   Column             Non-Null Count  Dtype  \n",
      "---  ------             --------------  -----  \n",
      " 0   flight_id          360 non-null    int64  \n",
      " 1   flight_no          360 non-null    object \n",
      " 2   actual_departure   360 non-null    object \n",
      " 3   actual_arrival     360 non-null    object \n",
      " 4   aircraft_code      360 non-null    object \n",
      " 5   departure_airport  360 non-null    object \n",
      " 6   arrival_airport    360 non-null    object \n",
      " 7   fare_conditions    360 non-null    object \n",
      " 8   total_seats        360 non-null    int64  \n",
      " 9   sum_amount         360 non-null    float64\n",
      " 10  ticket_count       360 non-null    int64  \n",
      " 11  travel_time        360 non-null    float64\n",
      "dtypes: float64(2), int64(3), object(7)\n",
      "memory usage: 33.9+ KB\n"
     ]
    }
   ],
   "source": [
    "df.info()"
   ]
  },
  {
   "cell_type": "code",
   "execution_count": 70,
   "metadata": {},
   "outputs": [
    {
     "data": {
      "text/html": [
       "<div>\n",
       "<style scoped>\n",
       "    .dataframe tbody tr th:only-of-type {\n",
       "        vertical-align: middle;\n",
       "    }\n",
       "\n",
       "    .dataframe tbody tr th {\n",
       "        vertical-align: top;\n",
       "    }\n",
       "\n",
       "    .dataframe thead th {\n",
       "        text-align: right;\n",
       "    }\n",
       "</style>\n",
       "<table border=\"1\" class=\"dataframe\">\n",
       "  <thead>\n",
       "    <tr style=\"text-align: right;\">\n",
       "      <th></th>\n",
       "      <th>flight_id</th>\n",
       "      <th>flight_no</th>\n",
       "      <th>actual_departure</th>\n",
       "      <th>actual_arrival</th>\n",
       "      <th>aircraft_code</th>\n",
       "      <th>departure_airport</th>\n",
       "      <th>arrival_airport</th>\n",
       "      <th>fare_conditions</th>\n",
       "      <th>total_seats</th>\n",
       "      <th>sum_amount</th>\n",
       "      <th>ticket_count</th>\n",
       "      <th>travel_time</th>\n",
       "    </tr>\n",
       "  </thead>\n",
       "  <tbody>\n",
       "    <tr>\n",
       "      <th>0</th>\n",
       "      <td>136119</td>\n",
       "      <td>PG0252</td>\n",
       "      <td>2017-01-03T10:08:00Z</td>\n",
       "      <td>2017-01-03T11:49:00Z</td>\n",
       "      <td>733</td>\n",
       "      <td>AAQ</td>\n",
       "      <td>SVO</td>\n",
       "      <td>Business</td>\n",
       "      <td>12</td>\n",
       "      <td>402600.0</td>\n",
       "      <td>11</td>\n",
       "      <td>101.0</td>\n",
       "    </tr>\n",
       "    <tr>\n",
       "      <th>1</th>\n",
       "      <td>136119</td>\n",
       "      <td>PG0252</td>\n",
       "      <td>2017-01-03T10:08:00Z</td>\n",
       "      <td>2017-01-03T11:49:00Z</td>\n",
       "      <td>733</td>\n",
       "      <td>AAQ</td>\n",
       "      <td>SVO</td>\n",
       "      <td>Economy</td>\n",
       "      <td>118</td>\n",
       "      <td>1250400.0</td>\n",
       "      <td>102</td>\n",
       "      <td>101.0</td>\n",
       "    </tr>\n",
       "    <tr>\n",
       "      <th>2</th>\n",
       "      <td>136120</td>\n",
       "      <td>PG0252</td>\n",
       "      <td>2017-02-24T10:07:00Z</td>\n",
       "      <td>2017-02-24T11:46:00Z</td>\n",
       "      <td>733</td>\n",
       "      <td>AAQ</td>\n",
       "      <td>SVO</td>\n",
       "      <td>Business</td>\n",
       "      <td>12</td>\n",
       "      <td>402600.0</td>\n",
       "      <td>11</td>\n",
       "      <td>99.0</td>\n",
       "    </tr>\n",
       "    <tr>\n",
       "      <th>3</th>\n",
       "      <td>136120</td>\n",
       "      <td>PG0252</td>\n",
       "      <td>2017-02-24T10:07:00Z</td>\n",
       "      <td>2017-02-24T11:46:00Z</td>\n",
       "      <td>733</td>\n",
       "      <td>AAQ</td>\n",
       "      <td>SVO</td>\n",
       "      <td>Economy</td>\n",
       "      <td>118</td>\n",
       "      <td>1202800.0</td>\n",
       "      <td>98</td>\n",
       "      <td>99.0</td>\n",
       "    </tr>\n",
       "    <tr>\n",
       "      <th>4</th>\n",
       "      <td>136122</td>\n",
       "      <td>PG0252</td>\n",
       "      <td>2017-01-08T10:08:00Z</td>\n",
       "      <td>2017-01-08T11:48:00Z</td>\n",
       "      <td>733</td>\n",
       "      <td>AAQ</td>\n",
       "      <td>SVO</td>\n",
       "      <td>Business</td>\n",
       "      <td>12</td>\n",
       "      <td>366000.0</td>\n",
       "      <td>10</td>\n",
       "      <td>100.0</td>\n",
       "    </tr>\n",
       "  </tbody>\n",
       "</table>\n",
       "</div>"
      ],
      "text/plain": [
       "   flight_id flight_no      actual_departure        actual_arrival  \\\n",
       "0     136119    PG0252  2017-01-03T10:08:00Z  2017-01-03T11:49:00Z   \n",
       "1     136119    PG0252  2017-01-03T10:08:00Z  2017-01-03T11:49:00Z   \n",
       "2     136120    PG0252  2017-02-24T10:07:00Z  2017-02-24T11:46:00Z   \n",
       "3     136120    PG0252  2017-02-24T10:07:00Z  2017-02-24T11:46:00Z   \n",
       "4     136122    PG0252  2017-01-08T10:08:00Z  2017-01-08T11:48:00Z   \n",
       "\n",
       "  aircraft_code departure_airport arrival_airport fare_conditions  \\\n",
       "0           733               AAQ             SVO        Business   \n",
       "1           733               AAQ             SVO         Economy   \n",
       "2           733               AAQ             SVO        Business   \n",
       "3           733               AAQ             SVO         Economy   \n",
       "4           733               AAQ             SVO        Business   \n",
       "\n",
       "   total_seats  sum_amount  ticket_count  travel_time  \n",
       "0           12    402600.0            11        101.0  \n",
       "1          118   1250400.0           102        101.0  \n",
       "2           12    402600.0            11         99.0  \n",
       "3          118   1202800.0            98         99.0  \n",
       "4           12    366000.0            10        100.0  "
      ]
     },
     "execution_count": 70,
     "metadata": {},
     "output_type": "execute_result"
    }
   ],
   "source": [
    "df.head()"
   ]
  },
  {
   "cell_type": "markdown",
   "metadata": {},
   "source": [
    "## Определяем наличие пропусков в данных"
   ]
  },
  {
   "cell_type": "code",
   "execution_count": 71,
   "metadata": {},
   "outputs": [
    {
     "data": {
      "text/plain": [
       "flight_id            False\n",
       "flight_no            False\n",
       "actual_departure     False\n",
       "actual_arrival       False\n",
       "aircraft_code        False\n",
       "departure_airport    False\n",
       "arrival_airport      False\n",
       "fare_conditions      False\n",
       "total_seats          False\n",
       "sum_amount           False\n",
       "ticket_count         False\n",
       "travel_time          False\n",
       "dtype: bool"
      ]
     },
     "execution_count": 71,
     "metadata": {},
     "output_type": "execute_result"
    }
   ],
   "source": [
    "df.isnull().any()"
   ]
  },
  {
   "cell_type": "markdown",
   "metadata": {},
   "source": [
    "### Проверим столбец 'aircraft_code' на особенности данных:"
   ]
  },
  {
   "cell_type": "code",
   "execution_count": 72,
   "metadata": {},
   "outputs": [
    {
     "data": {
      "text/plain": [
       "SU9    180\n",
       "733    180\n",
       "Name: aircraft_code, dtype: int64"
      ]
     },
     "metadata": {},
     "output_type": "display_data"
    }
   ],
   "source": [
    "display(df['aircraft_code'].value_counts())"
   ]
  },
  {
   "cell_type": "markdown",
   "metadata": {},
   "source": [
    "### Наблюдаем наличие двух самолетов (aircraft_code 733 и SU9), выполняющих рейрсы."
   ]
  },
  {
   "cell_type": "code",
   "execution_count": null,
   "metadata": {},
   "outputs": [],
   "source": []
  },
  {
   "cell_type": "markdown",
   "metadata": {},
   "source": [
    "## Рассмотрим количество мест, по отношению к классу обслуживания:"
   ]
  },
  {
   "cell_type": "code",
   "execution_count": 73,
   "metadata": {},
   "outputs": [
    {
     "data": {
      "text/plain": [
       "<AxesSubplot:xlabel='aircraft_code,fare_conditions'>"
      ]
     },
     "execution_count": 73,
     "metadata": {},
     "output_type": "execute_result"
    },
    {
     "data": {
      "image/png": "[encoded data removed]",
      "text/plain": [
       "<Figure size 432x288 with 1 Axes>"
      ]
     },
     "metadata": {
      "needs_background": "light"
     },
     "output_type": "display_data"
    }
   ],
   "source": [
    "df.groupby(by = ['aircraft_code', 'fare_conditions'])['total_seats'].sum().plot(kind = 'bar', grid= True)"
   ]
  },
  {
   "cell_type": "markdown",
   "metadata": {},
   "source": [
    "### На самолете кода 733, что сответствует согласно перечня Boeing 737-300, больше мест эконом класса, чем на SU9 (Sukhoi Superjet-100)"
   ]
  },
  {
   "cell_type": "markdown",
   "metadata": {},
   "source": [
    "### Проверяем столбец рейсов:"
   ]
  },
  {
   "cell_type": "code",
   "execution_count": 74,
   "metadata": {},
   "outputs": [
    {
     "data": {
      "text/plain": [
       "PG0252    180\n",
       "PG0480    180\n",
       "Name: flight_no, dtype: int64"
      ]
     },
     "metadata": {},
     "output_type": "display_data"
    }
   ],
   "source": [
    "display(df['flight_no'].value_counts())"
   ]
  },
  {
   "cell_type": "markdown",
   "metadata": {},
   "source": [
    "### Наблюдается два рейса в таблице данных по следующем направлениям:"
   ]
  },
  {
   "cell_type": "code",
   "execution_count": 75,
   "metadata": {},
   "outputs": [
    {
     "data": {
      "text/plain": [
       "SVO    180\n",
       "EGO    180\n",
       "Name: arrival_airport, dtype: int64"
      ]
     },
     "metadata": {},
     "output_type": "display_data"
    }
   ],
   "source": [
    "display(df['arrival_airport'].value_counts())"
   ]
  },
  {
   "cell_type": "markdown",
   "metadata": {},
   "source": [
    "### Соответственно имеем два направления SVO - Москва и EGO - Белгород "
   ]
  },
  {
   "cell_type": "markdown",
   "metadata": {},
   "source": [
    "## Кол-во мест на рейсах:"
   ]
  },
  {
   "cell_type": "code",
   "execution_count": 76,
   "metadata": {},
   "outputs": [
    {
     "data": {
      "text/plain": [
       "<AxesSubplot:xlabel='aircraft_code,flight_no'>"
      ]
     },
     "execution_count": 76,
     "metadata": {},
     "output_type": "execute_result"
    },
    {
     "data": {
      "image/png": "[encoded data removed]",
      "text/plain": [
       "<Figure size 432x288 with 1 Axes>"
      ]
     },
     "metadata": {
      "needs_background": "light"
     },
     "output_type": "display_data"
    }
   ],
   "source": [
    "df.groupby(by = ['aircraft_code', 'flight_no'])['total_seats'].sum().plot(kind = 'bar', grid= True)"
   ]
  },
  {
   "cell_type": "markdown",
   "metadata": {},
   "source": [
    "## Рассмотрим соотношение проданных билетов к классу обслуживания:"
   ]
  },
  {
   "cell_type": "code",
   "execution_count": 96,
   "metadata": {},
   "outputs": [
    {
     "data": {
      "text/plain": [
       "<AxesSubplot:xlabel='aircraft_code,fare_conditions'>"
      ]
     },
     "execution_count": 96,
     "metadata": {},
     "output_type": "execute_result"
    },
    {
     "data": {
      "image/png": "[encoded data removed]",
      "text/plain": [
       "<Figure size 432x288 with 1 Axes>"
      ]
     },
     "metadata": {
      "needs_background": "light"
     },
     "output_type": "display_data"
    }
   ],
   "source": [
    "df.groupby(by = ['aircraft_code', 'fare_conditions'])['sum_amount'].sum().plot(kind = 'bar', grid= True)"
   ]
  },
  {
   "cell_type": "markdown",
   "metadata": {},
   "source": [
    "## Рассмотрим среднюю загруженность самолетов:"
   ]
  },
  {
   "cell_type": "code",
   "execution_count": 98,
   "metadata": {},
   "outputs": [
    {
     "data": {
      "text/plain": [
       "<AxesSubplot:xlabel='aircraft_code,fare_conditions,total_seats'>"
      ]
     },
     "execution_count": 98,
     "metadata": {},
     "output_type": "execute_result"
    },
    {
     "data": {
      "image/png": "[encoded data removed]",
      "text/plain": [
       "<Figure size 432x288 with 1 Axes>"
      ]
     },
     "metadata": {
      "needs_background": "light"
     },
     "output_type": "display_data"
    }
   ],
   "source": [
    "df.groupby(by = ['aircraft_code', 'fare_conditions', 'total_seats'])['ticket_count'].mean().plot(kind = 'bar', grid= True)"
   ]
  },
  {
   "cell_type": "markdown",
   "metadata": {},
   "source": [
    "## Решение задачи с прибыльностью рейсов."
   ]
  },
  {
   "cell_type": "markdown",
   "metadata": {},
   "source": [
    "### Новая колонка по расходу топлива. Boeing 737-300 потребляет 2600 литров/час, а Sukhoi Superjet-100 - 1700 л./час:"
   ]
  },
  {
   "cell_type": "code",
   "execution_count": 78,
   "metadata": {},
   "outputs": [],
   "source": [
    "fuel = {'733': 2600, 'SU9': 1700}\n",
    "df['fuel_hour'] = df['aircraft_code'].map(fuel)"
   ]
  },
  {
   "cell_type": "code",
   "execution_count": 79,
   "metadata": {},
   "outputs": [],
   "source": [
    "df['travel_time']=df['travel_time']/60 # перевод времени в часы для расчета"
   ]
  },
  {
   "cell_type": "markdown",
   "metadata": {},
   "source": [
    "### Добавим значение стоимости авиационного топлива за литр с НДС в декабре 2017 = 53 рубля"
   ]
  },
  {
   "cell_type": "code",
   "execution_count": 80,
   "metadata": {},
   "outputs": [],
   "source": [
    "fuel_ltr = 53\n",
    "df['fuel_ltr'] = fuel_ltr"
   ]
  },
  {
   "cell_type": "markdown",
   "metadata": {},
   "source": [
    "### Расходы на топливо и прибыльность:"
   ]
  },
  {
   "cell_type": "code",
   "execution_count": 91,
   "metadata": {},
   "outputs": [],
   "source": [
    "df['fuel_cons'] = round(df['travel_time']*(df['fuel_ltr']*df['fuel_hour']), 0)\n",
    "df['profit'] = df['sum_amount'] - df['fuel_cons']"
   ]
  },
  {
   "cell_type": "markdown",
   "metadata": {},
   "source": [
    "### Средняя прибыль за зимний период:"
   ]
  },
  {
   "cell_type": "code",
   "execution_count": 94,
   "metadata": {},
   "outputs": [
    {
     "data": {
      "text/html": [
       "<div>\n",
       "<style scoped>\n",
       "    .dataframe tbody tr th:only-of-type {\n",
       "        vertical-align: middle;\n",
       "    }\n",
       "\n",
       "    .dataframe tbody tr th {\n",
       "        vertical-align: top;\n",
       "    }\n",
       "\n",
       "    .dataframe thead th {\n",
       "        text-align: right;\n",
       "    }\n",
       "</style>\n",
       "<table border=\"1\" class=\"dataframe\">\n",
       "  <thead>\n",
       "    <tr style=\"text-align: right;\">\n",
       "      <th></th>\n",
       "      <th>profit</th>\n",
       "    </tr>\n",
       "    <tr>\n",
       "      <th>arrival_airport</th>\n",
       "      <th></th>\n",
       "    </tr>\n",
       "  </thead>\n",
       "  <tbody>\n",
       "    <tr>\n",
       "      <th>EGO</th>\n",
       "      <td>281098.0</td>\n",
       "    </tr>\n",
       "    <tr>\n",
       "      <th>SVO</th>\n",
       "      <td>593859.0</td>\n",
       "    </tr>\n",
       "  </tbody>\n",
       "</table>\n",
       "</div>"
      ],
      "text/plain": [
       "                   profit\n",
       "arrival_airport          \n",
       "EGO              281098.0\n",
       "SVO              593859.0"
      ]
     },
     "execution_count": 94,
     "metadata": {},
     "output_type": "execute_result"
    }
   ],
   "source": [
    "mean_profit = round(pd.DataFrame(df.groupby(['arrival_airport']).profit.mean()), 0)\n",
    "mean_profit"
   ]
  },
  {
   "cell_type": "markdown",
   "metadata": {},
   "source": [
    "## При оценке рентабельности рейсов не были учтены расходы на содержание и ремонт авиапарка и наземных служб компании. \n",
    "\n",
    "## На лицо убыточность рейсов из Анапы в зимний период."
   ]
  },
  {
   "cell_type": "markdown",
   "metadata": {},
   "source": [
    "df"
   ]
  }
 ],
 "metadata": {
  "kernelspec": {
   "display_name": "Python 3",
   "language": "python",
   "name": "python3"
  },
  "language_info": {
   "codemirror_mode": {
    "name": "ipython",
    "version": 3
   },
   "file_extension": ".py",
   "mimetype": "text/x-python",
   "name": "python",
   "nbconvert_exporter": "python",
   "pygments_lexer": "ipython3",
   "version": "3.8.5"
  }
 },
 "nbformat": 4,
 "nbformat_minor": 4
}
