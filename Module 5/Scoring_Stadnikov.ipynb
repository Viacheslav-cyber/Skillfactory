{
 "cells": [
  {
   "cell_type": "markdown",
   "metadata": {
    "papermill": {
     "duration": 0.07065,
     "end_time": "2021-01-03T12:25:27.933709",
     "exception": false,
     "start_time": "2021-01-03T12:25:27.863059",
     "status": "completed"
    },
    "tags": []
   },
   "source": [
    "# **1. Импорт библиотек**"
   ]
  },
  {
   "cell_type": "code",
   "execution_count": 2,
   "metadata": {
    "execution": {
     "iopub.execute_input": "2021-01-03T12:25:28.076568Z",
     "iopub.status.busy": "2021-01-03T12:25:28.075874Z",
     "iopub.status.idle": "2021-01-03T12:25:29.471522Z",
     "shell.execute_reply": "2021-01-03T12:25:29.472089Z"
    },
    "papermill": {
     "duration": 1.470204,
     "end_time": "2021-01-03T12:25:29.472271",
     "exception": false,
     "start_time": "2021-01-03T12:25:28.002067",
     "status": "completed"
    },
    "tags": []
   },
   "outputs": [],
   "source": [
    "from pandas import Series\n",
    "import pandas as pd\n",
    "import numpy as np\n",
    "\n",
    "import matplotlib.pyplot as plt\n",
    "import seaborn as sns\n",
    "\n",
    "from sklearn.feature_selection import f_classif, mutual_info_classif\n",
    "from sklearn.preprocessing import LabelEncoder, OneHotEncoder, StandardScaler\n",
    "\n",
    "from sklearn.model_selection import train_test_split\n",
    "from sklearn.metrics import accuracy_score, precision_score, recall_score, f1_score\n",
    "from sklearn.linear_model import LogisticRegression\n",
    "\n",
    "from sklearn.metrics import confusion_matrix\n",
    "from sklearn.metrics import auc, roc_auc_score, roc_curve"
   ]
  },
  {
   "cell_type": "code",
   "execution_count": 3,
   "metadata": {
    "execution": {
     "iopub.execute_input": "2021-01-03T12:25:29.613387Z",
     "iopub.status.busy": "2021-01-03T12:25:29.612388Z",
     "iopub.status.idle": "2021-01-03T12:25:29.620929Z",
     "shell.execute_reply": "2021-01-03T12:25:29.621462Z"
    },
    "papermill": {
     "duration": 0.079864,
     "end_time": "2021-01-03T12:25:29.621640",
     "exception": false,
     "start_time": "2021-01-03T12:25:29.541776",
     "status": "completed"
    },
    "tags": []
   },
   "outputs": [],
   "source": [
    "import os\n",
    "for dirname, _, filenames in os.walk('/kaggle/input'):\n",
    "    for filename in filenames:\n",
    "        print(os.path.join(dirname, filename))"
   ]
  },
  {
   "cell_type": "code",
   "execution_count": 4,
   "metadata": {
    "execution": {
     "iopub.execute_input": "2021-01-03T12:25:29.760420Z",
     "iopub.status.busy": "2021-01-03T12:25:29.759764Z",
     "iopub.status.idle": "2021-01-03T12:25:32.573646Z",
     "shell.execute_reply": "2021-01-03T12:25:32.572200Z"
    },
    "papermill": {
     "duration": 2.883763,
     "end_time": "2021-01-03T12:25:32.573794",
     "exception": false,
     "start_time": "2021-01-03T12:25:29.690031",
     "status": "completed"
    },
    "tags": []
   },
   "outputs": [],
   "source": [
    "!pip freeze > requirements.txt"
   ]
  },
  {
   "cell_type": "markdown",
   "metadata": {
    "papermill": {
     "duration": 0.06731,
     "end_time": "2021-01-03T12:25:32.709404",
     "exception": false,
     "start_time": "2021-01-03T12:25:32.642094",
     "status": "completed"
    },
    "tags": []
   },
   "source": [
    "# **2. Выгружаем данные**"
   ]
  },
  {
   "cell_type": "code",
   "execution_count": 6,
   "metadata": {
    "execution": {
     "iopub.execute_input": "2021-01-03T12:25:32.857653Z",
     "iopub.status.busy": "2021-01-03T12:25:32.856882Z",
     "iopub.status.idle": "2021-01-03T12:25:33.172773Z",
     "shell.execute_reply": "2021-01-03T12:25:33.173313Z"
    },
    "papermill": {
     "duration": 0.393203,
     "end_time": "2021-01-03T12:25:33.173459",
     "exception": false,
     "start_time": "2021-01-03T12:25:32.780256",
     "status": "completed"
    },
    "tags": []
   },
   "outputs": [],
   "source": [
    "train = pd.read_csv('train.csv')\n",
    "test = pd.read_csv('test.csv')\n",
    "\n",
    "sample_submission = pd.read_csv('sample_submission.csv')"
   ]
  },
  {
   "cell_type": "code",
   "execution_count": 8,
   "metadata": {
    "execution": {
     "iopub.execute_input": "2021-01-03T12:25:33.312284Z",
     "iopub.status.busy": "2021-01-03T12:25:33.311622Z",
     "iopub.status.idle": "2021-01-03T12:25:33.319221Z",
     "shell.execute_reply": "2021-01-03T12:25:33.320113Z"
    },
    "papermill": {
     "duration": 0.079154,
     "end_time": "2021-01-03T12:25:33.320273",
     "exception": false,
     "start_time": "2021-01-03T12:25:33.241119",
     "status": "completed"
    },
    "tags": []
   },
   "outputs": [
    {
     "data": {
      "text/plain": [
       "(73799, 19)"
      ]
     },
     "execution_count": 8,
     "metadata": {},
     "output_type": "execute_result"
    }
   ],
   "source": [
    "train.shape"
   ]
  },
  {
   "cell_type": "code",
   "execution_count": 9,
   "metadata": {
    "execution": {
     "iopub.execute_input": "2021-01-03T12:25:33.515626Z",
     "iopub.status.busy": "2021-01-03T12:25:33.468425Z",
     "iopub.status.idle": "2021-01-03T12:25:33.548744Z",
     "shell.execute_reply": "2021-01-03T12:25:33.548155Z"
    },
    "papermill": {
     "duration": 0.159725,
     "end_time": "2021-01-03T12:25:33.548870",
     "exception": false,
     "start_time": "2021-01-03T12:25:33.389145",
     "status": "completed"
    },
    "tags": []
   },
   "outputs": [
    {
     "name": "stdout",
     "output_type": "stream",
     "text": [
      "<class 'pandas.core.frame.DataFrame'>\n",
      "RangeIndex: 73799 entries, 0 to 73798\n",
      "Data columns (total 19 columns):\n",
      " #   Column            Non-Null Count  Dtype  \n",
      "---  ------            --------------  -----  \n",
      " 0   client_id         73799 non-null  int64  \n",
      " 1   app_date          73799 non-null  object \n",
      " 2   education         73492 non-null  object \n",
      " 3   sex               73799 non-null  object \n",
      " 4   age               73799 non-null  int64  \n",
      " 5   car               73799 non-null  object \n",
      " 6   car_type          73799 non-null  object \n",
      " 7   decline_app_cnt   73799 non-null  int64  \n",
      " 8   good_work         73799 non-null  int64  \n",
      " 9   score_bki         73799 non-null  float64\n",
      " 10  bki_request_cnt   73799 non-null  int64  \n",
      " 11  region_rating     73799 non-null  int64  \n",
      " 12  home_address      73799 non-null  int64  \n",
      " 13  work_address      73799 non-null  int64  \n",
      " 14  income            73799 non-null  int64  \n",
      " 15  sna               73799 non-null  int64  \n",
      " 16  first_time        73799 non-null  int64  \n",
      " 17  foreign_passport  73799 non-null  object \n",
      " 18  default           73799 non-null  int64  \n",
      "dtypes: float64(1), int64(12), object(6)\n",
      "memory usage: 10.7+ MB\n"
     ]
    },
    {
     "data": {
      "text/plain": [
       "None"
      ]
     },
     "metadata": {},
     "output_type": "display_data"
    }
   ],
   "source": [
    "display(train.info())"
   ]
  },
  {
   "cell_type": "code",
   "execution_count": 10,
   "metadata": {
    "execution": {
     "iopub.execute_input": "2021-01-03T12:25:33.696195Z",
     "iopub.status.busy": "2021-01-03T12:25:33.695304Z",
     "iopub.status.idle": "2021-01-03T12:25:33.700003Z",
     "shell.execute_reply": "2021-01-03T12:25:33.699487Z"
    },
    "papermill": {
     "duration": 0.079815,
     "end_time": "2021-01-03T12:25:33.700116",
     "exception": false,
     "start_time": "2021-01-03T12:25:33.620301",
     "status": "completed"
    },
    "tags": []
   },
   "outputs": [
    {
     "data": {
      "text/plain": [
       "(36349, 18)"
      ]
     },
     "execution_count": 10,
     "metadata": {},
     "output_type": "execute_result"
    }
   ],
   "source": [
    "# Размерность тестового датасета:\n",
    "test.shape"
   ]
  },
  {
   "cell_type": "code",
   "execution_count": 11,
   "metadata": {
    "execution": {
     "iopub.execute_input": "2021-01-03T12:25:33.848434Z",
     "iopub.status.busy": "2021-01-03T12:25:33.847773Z",
     "iopub.status.idle": "2021-01-03T12:25:33.897929Z",
     "shell.execute_reply": "2021-01-03T12:25:33.893751Z"
    },
    "papermill": {
     "duration": 0.127832,
     "end_time": "2021-01-03T12:25:33.898120",
     "exception": false,
     "start_time": "2021-01-03T12:25:33.770288",
     "status": "completed"
    },
    "tags": []
   },
   "outputs": [
    {
     "name": "stdout",
     "output_type": "stream",
     "text": [
      "<class 'pandas.core.frame.DataFrame'>\n",
      "RangeIndex: 36349 entries, 0 to 36348\n",
      "Data columns (total 18 columns):\n",
      " #   Column            Non-Null Count  Dtype  \n",
      "---  ------            --------------  -----  \n",
      " 0   client_id         36349 non-null  int64  \n",
      " 1   app_date          36349 non-null  object \n",
      " 2   education         36178 non-null  object \n",
      " 3   sex               36349 non-null  object \n",
      " 4   age               36349 non-null  int64  \n",
      " 5   car               36349 non-null  object \n",
      " 6   car_type          36349 non-null  object \n",
      " 7   decline_app_cnt   36349 non-null  int64  \n",
      " 8   good_work         36349 non-null  int64  \n",
      " 9   score_bki         36349 non-null  float64\n",
      " 10  bki_request_cnt   36349 non-null  int64  \n",
      " 11  region_rating     36349 non-null  int64  \n",
      " 12  home_address      36349 non-null  int64  \n",
      " 13  work_address      36349 non-null  int64  \n",
      " 14  income            36349 non-null  int64  \n",
      " 15  sna               36349 non-null  int64  \n",
      " 16  first_time        36349 non-null  int64  \n",
      " 17  foreign_passport  36349 non-null  object \n",
      "dtypes: float64(1), int64(11), object(6)\n",
      "memory usage: 5.0+ MB\n"
     ]
    },
    {
     "data": {
      "text/plain": [
       "None"
      ]
     },
     "metadata": {},
     "output_type": "display_data"
    }
   ],
   "source": [
    "display(test.info())"
   ]
  },
  {
   "cell_type": "markdown",
   "metadata": {
    "papermill": {
     "duration": 0.080385,
     "end_time": "2021-01-03T12:25:34.081727",
     "exception": false,
     "start_time": "2021-01-03T12:25:34.001342",
     "status": "completed"
    },
    "tags": []
   },
   "source": [
    "### В датасете test нет перемнной \"default\". Мы должны предсказать значение указанной переменной, предварительно заполним ее нулями. Для корректной обработки признаков объединим датасеты train и test, предварительно в новой переменной \"train\" указав, какие записи относятся к датасету train."
   ]
  },
  {
   "cell_type": "code",
   "execution_count": 13,
   "metadata": {
    "execution": {
     "iopub.execute_input": "2021-01-03T12:25:34.232398Z",
     "iopub.status.busy": "2021-01-03T12:25:34.231057Z",
     "iopub.status.idle": "2021-01-03T12:25:34.294202Z",
     "shell.execute_reply": "2021-01-03T12:25:34.293617Z"
    },
    "papermill": {
     "duration": 0.141799,
     "end_time": "2021-01-03T12:25:34.294315",
     "exception": false,
     "start_time": "2021-01-03T12:25:34.152516",
     "status": "completed"
    },
    "tags": []
   },
   "outputs": [],
   "source": [
    "test['default'] = 0 # заполняем переменную нудями\n",
    "test['train'] = 0 # указываем, что записи не принадлежат датасету train\n",
    "train['train'] = 1 # указываем, что записи принадлежат датасету train\n",
    "data = train.append(test, sort = False).reset_index(drop=True) # объединяем датасеты в один"
   ]
  },
  {
   "cell_type": "markdown",
   "metadata": {
    "papermill": {
     "duration": 0.071428,
     "end_time": "2021-01-03T12:25:34.437929",
     "exception": false,
     "start_time": "2021-01-03T12:25:34.366501",
     "status": "completed"
    },
    "tags": []
   },
   "source": [
    "# **3. Предварительный анализ данных**"
   ]
  },
  {
   "cell_type": "code",
   "execution_count": 14,
   "metadata": {
    "execution": {
     "iopub.execute_input": "2021-01-03T12:25:34.602465Z",
     "iopub.status.busy": "2021-01-03T12:25:34.590330Z",
     "iopub.status.idle": "2021-01-03T12:25:34.620598Z",
     "shell.execute_reply": "2021-01-03T12:25:34.621350Z"
    },
    "papermill": {
     "duration": 0.112707,
     "end_time": "2021-01-03T12:25:34.621503",
     "exception": false,
     "start_time": "2021-01-03T12:25:34.508796",
     "status": "completed"
    },
    "tags": []
   },
   "outputs": [
    {
     "data": {
      "text/html": [
       "<div>\n",
       "<style scoped>\n",
       "    .dataframe tbody tr th:only-of-type {\n",
       "        vertical-align: middle;\n",
       "    }\n",
       "\n",
       "    .dataframe tbody tr th {\n",
       "        vertical-align: top;\n",
       "    }\n",
       "\n",
       "    .dataframe thead th {\n",
       "        text-align: right;\n",
       "    }\n",
       "</style>\n",
       "<table border=\"1\" class=\"dataframe\">\n",
       "  <thead>\n",
       "    <tr style=\"text-align: right;\">\n",
       "      <th></th>\n",
       "      <th>client_id</th>\n",
       "      <th>app_date</th>\n",
       "      <th>education</th>\n",
       "      <th>sex</th>\n",
       "      <th>age</th>\n",
       "      <th>car</th>\n",
       "      <th>car_type</th>\n",
       "      <th>decline_app_cnt</th>\n",
       "      <th>good_work</th>\n",
       "      <th>score_bki</th>\n",
       "      <th>bki_request_cnt</th>\n",
       "      <th>region_rating</th>\n",
       "      <th>home_address</th>\n",
       "      <th>work_address</th>\n",
       "      <th>income</th>\n",
       "      <th>sna</th>\n",
       "      <th>first_time</th>\n",
       "      <th>foreign_passport</th>\n",
       "      <th>default</th>\n",
       "      <th>train</th>\n",
       "    </tr>\n",
       "  </thead>\n",
       "  <tbody>\n",
       "    <tr>\n",
       "      <th>0</th>\n",
       "      <td>25905</td>\n",
       "      <td>01FEB2014</td>\n",
       "      <td>SCH</td>\n",
       "      <td>M</td>\n",
       "      <td>62</td>\n",
       "      <td>Y</td>\n",
       "      <td>Y</td>\n",
       "      <td>0</td>\n",
       "      <td>0</td>\n",
       "      <td>-2.008753</td>\n",
       "      <td>1</td>\n",
       "      <td>50</td>\n",
       "      <td>1</td>\n",
       "      <td>2</td>\n",
       "      <td>18000</td>\n",
       "      <td>4</td>\n",
       "      <td>1</td>\n",
       "      <td>N</td>\n",
       "      <td>0</td>\n",
       "      <td>1</td>\n",
       "    </tr>\n",
       "    <tr>\n",
       "      <th>1</th>\n",
       "      <td>63161</td>\n",
       "      <td>12MAR2014</td>\n",
       "      <td>SCH</td>\n",
       "      <td>F</td>\n",
       "      <td>59</td>\n",
       "      <td>N</td>\n",
       "      <td>N</td>\n",
       "      <td>0</td>\n",
       "      <td>0</td>\n",
       "      <td>-1.532276</td>\n",
       "      <td>3</td>\n",
       "      <td>50</td>\n",
       "      <td>2</td>\n",
       "      <td>3</td>\n",
       "      <td>19000</td>\n",
       "      <td>4</td>\n",
       "      <td>1</td>\n",
       "      <td>N</td>\n",
       "      <td>0</td>\n",
       "      <td>1</td>\n",
       "    </tr>\n",
       "    <tr>\n",
       "      <th>2</th>\n",
       "      <td>25887</td>\n",
       "      <td>01FEB2014</td>\n",
       "      <td>SCH</td>\n",
       "      <td>M</td>\n",
       "      <td>25</td>\n",
       "      <td>Y</td>\n",
       "      <td>N</td>\n",
       "      <td>2</td>\n",
       "      <td>0</td>\n",
       "      <td>-1.408142</td>\n",
       "      <td>1</td>\n",
       "      <td>80</td>\n",
       "      <td>1</td>\n",
       "      <td>2</td>\n",
       "      <td>30000</td>\n",
       "      <td>1</td>\n",
       "      <td>4</td>\n",
       "      <td>Y</td>\n",
       "      <td>0</td>\n",
       "      <td>1</td>\n",
       "    </tr>\n",
       "    <tr>\n",
       "      <th>3</th>\n",
       "      <td>16222</td>\n",
       "      <td>23JAN2014</td>\n",
       "      <td>SCH</td>\n",
       "      <td>F</td>\n",
       "      <td>53</td>\n",
       "      <td>N</td>\n",
       "      <td>N</td>\n",
       "      <td>0</td>\n",
       "      <td>0</td>\n",
       "      <td>-2.057471</td>\n",
       "      <td>2</td>\n",
       "      <td>50</td>\n",
       "      <td>2</td>\n",
       "      <td>3</td>\n",
       "      <td>10000</td>\n",
       "      <td>1</td>\n",
       "      <td>3</td>\n",
       "      <td>N</td>\n",
       "      <td>0</td>\n",
       "      <td>1</td>\n",
       "    </tr>\n",
       "    <tr>\n",
       "      <th>4</th>\n",
       "      <td>101655</td>\n",
       "      <td>18APR2014</td>\n",
       "      <td>GRD</td>\n",
       "      <td>M</td>\n",
       "      <td>48</td>\n",
       "      <td>N</td>\n",
       "      <td>N</td>\n",
       "      <td>0</td>\n",
       "      <td>1</td>\n",
       "      <td>-1.244723</td>\n",
       "      <td>1</td>\n",
       "      <td>60</td>\n",
       "      <td>2</td>\n",
       "      <td>3</td>\n",
       "      <td>30000</td>\n",
       "      <td>1</td>\n",
       "      <td>4</td>\n",
       "      <td>Y</td>\n",
       "      <td>0</td>\n",
       "      <td>1</td>\n",
       "    </tr>\n",
       "    <tr>\n",
       "      <th>...</th>\n",
       "      <td>...</td>\n",
       "      <td>...</td>\n",
       "      <td>...</td>\n",
       "      <td>...</td>\n",
       "      <td>...</td>\n",
       "      <td>...</td>\n",
       "      <td>...</td>\n",
       "      <td>...</td>\n",
       "      <td>...</td>\n",
       "      <td>...</td>\n",
       "      <td>...</td>\n",
       "      <td>...</td>\n",
       "      <td>...</td>\n",
       "      <td>...</td>\n",
       "      <td>...</td>\n",
       "      <td>...</td>\n",
       "      <td>...</td>\n",
       "      <td>...</td>\n",
       "      <td>...</td>\n",
       "      <td>...</td>\n",
       "    </tr>\n",
       "    <tr>\n",
       "      <th>110143</th>\n",
       "      <td>83775</td>\n",
       "      <td>31MAR2014</td>\n",
       "      <td>SCH</td>\n",
       "      <td>F</td>\n",
       "      <td>37</td>\n",
       "      <td>N</td>\n",
       "      <td>N</td>\n",
       "      <td>1</td>\n",
       "      <td>0</td>\n",
       "      <td>-1.744976</td>\n",
       "      <td>3</td>\n",
       "      <td>50</td>\n",
       "      <td>2</td>\n",
       "      <td>3</td>\n",
       "      <td>15000</td>\n",
       "      <td>4</td>\n",
       "      <td>1</td>\n",
       "      <td>N</td>\n",
       "      <td>0</td>\n",
       "      <td>0</td>\n",
       "    </tr>\n",
       "    <tr>\n",
       "      <th>110144</th>\n",
       "      <td>106254</td>\n",
       "      <td>25APR2014</td>\n",
       "      <td>GRD</td>\n",
       "      <td>F</td>\n",
       "      <td>64</td>\n",
       "      <td>Y</td>\n",
       "      <td>Y</td>\n",
       "      <td>0</td>\n",
       "      <td>0</td>\n",
       "      <td>-2.293781</td>\n",
       "      <td>3</td>\n",
       "      <td>60</td>\n",
       "      <td>1</td>\n",
       "      <td>2</td>\n",
       "      <td>200000</td>\n",
       "      <td>1</td>\n",
       "      <td>4</td>\n",
       "      <td>N</td>\n",
       "      <td>0</td>\n",
       "      <td>0</td>\n",
       "    </tr>\n",
       "    <tr>\n",
       "      <th>110145</th>\n",
       "      <td>81852</td>\n",
       "      <td>30MAR2014</td>\n",
       "      <td>GRD</td>\n",
       "      <td>M</td>\n",
       "      <td>31</td>\n",
       "      <td>N</td>\n",
       "      <td>N</td>\n",
       "      <td>2</td>\n",
       "      <td>0</td>\n",
       "      <td>-0.940752</td>\n",
       "      <td>1</td>\n",
       "      <td>50</td>\n",
       "      <td>1</td>\n",
       "      <td>2</td>\n",
       "      <td>60000</td>\n",
       "      <td>4</td>\n",
       "      <td>2</td>\n",
       "      <td>N</td>\n",
       "      <td>0</td>\n",
       "      <td>0</td>\n",
       "    </tr>\n",
       "    <tr>\n",
       "      <th>110146</th>\n",
       "      <td>1971</td>\n",
       "      <td>07JAN2014</td>\n",
       "      <td>UGR</td>\n",
       "      <td>F</td>\n",
       "      <td>27</td>\n",
       "      <td>N</td>\n",
       "      <td>N</td>\n",
       "      <td>1</td>\n",
       "      <td>0</td>\n",
       "      <td>-1.242392</td>\n",
       "      <td>2</td>\n",
       "      <td>80</td>\n",
       "      <td>2</td>\n",
       "      <td>3</td>\n",
       "      <td>30000</td>\n",
       "      <td>1</td>\n",
       "      <td>1</td>\n",
       "      <td>N</td>\n",
       "      <td>0</td>\n",
       "      <td>0</td>\n",
       "    </tr>\n",
       "    <tr>\n",
       "      <th>110147</th>\n",
       "      <td>69044</td>\n",
       "      <td>17MAR2014</td>\n",
       "      <td>SCH</td>\n",
       "      <td>M</td>\n",
       "      <td>38</td>\n",
       "      <td>N</td>\n",
       "      <td>N</td>\n",
       "      <td>0</td>\n",
       "      <td>0</td>\n",
       "      <td>-1.507549</td>\n",
       "      <td>2</td>\n",
       "      <td>50</td>\n",
       "      <td>1</td>\n",
       "      <td>2</td>\n",
       "      <td>15000</td>\n",
       "      <td>4</td>\n",
       "      <td>2</td>\n",
       "      <td>N</td>\n",
       "      <td>0</td>\n",
       "      <td>0</td>\n",
       "    </tr>\n",
       "  </tbody>\n",
       "</table>\n",
       "<p>110148 rows × 20 columns</p>\n",
       "</div>"
      ],
      "text/plain": [
       "        client_id   app_date education sex  age car car_type  decline_app_cnt  \\\n",
       "0           25905  01FEB2014       SCH   M   62   Y        Y                0   \n",
       "1           63161  12MAR2014       SCH   F   59   N        N                0   \n",
       "2           25887  01FEB2014       SCH   M   25   Y        N                2   \n",
       "3           16222  23JAN2014       SCH   F   53   N        N                0   \n",
       "4          101655  18APR2014       GRD   M   48   N        N                0   \n",
       "...           ...        ...       ...  ..  ...  ..      ...              ...   \n",
       "110143      83775  31MAR2014       SCH   F   37   N        N                1   \n",
       "110144     106254  25APR2014       GRD   F   64   Y        Y                0   \n",
       "110145      81852  30MAR2014       GRD   M   31   N        N                2   \n",
       "110146       1971  07JAN2014       UGR   F   27   N        N                1   \n",
       "110147      69044  17MAR2014       SCH   M   38   N        N                0   \n",
       "\n",
       "        good_work  score_bki  bki_request_cnt  region_rating  home_address  \\\n",
       "0               0  -2.008753                1             50             1   \n",
       "1               0  -1.532276                3             50             2   \n",
       "2               0  -1.408142                1             80             1   \n",
       "3               0  -2.057471                2             50             2   \n",
       "4               1  -1.244723                1             60             2   \n",
       "...           ...        ...              ...            ...           ...   \n",
       "110143          0  -1.744976                3             50             2   \n",
       "110144          0  -2.293781                3             60             1   \n",
       "110145          0  -0.940752                1             50             1   \n",
       "110146          0  -1.242392                2             80             2   \n",
       "110147          0  -1.507549                2             50             1   \n",
       "\n",
       "        work_address  income  sna  first_time foreign_passport  default  train  \n",
       "0                  2   18000    4           1                N        0      1  \n",
       "1                  3   19000    4           1                N        0      1  \n",
       "2                  2   30000    1           4                Y        0      1  \n",
       "3                  3   10000    1           3                N        0      1  \n",
       "4                  3   30000    1           4                Y        0      1  \n",
       "...              ...     ...  ...         ...              ...      ...    ...  \n",
       "110143             3   15000    4           1                N        0      0  \n",
       "110144             2  200000    1           4                N        0      0  \n",
       "110145             2   60000    4           2                N        0      0  \n",
       "110146             3   30000    1           1                N        0      0  \n",
       "110147             2   15000    4           2                N        0      0  \n",
       "\n",
       "[110148 rows x 20 columns]"
      ]
     },
     "metadata": {},
     "output_type": "display_data"
    }
   ],
   "source": [
    "display(data)"
   ]
  },
  {
   "cell_type": "code",
   "execution_count": 15,
   "metadata": {
    "execution": {
     "iopub.execute_input": "2021-01-03T12:25:34.920592Z",
     "iopub.status.busy": "2021-01-03T12:25:34.919893Z",
     "iopub.status.idle": "2021-01-03T12:25:35.043964Z",
     "shell.execute_reply": "2021-01-03T12:25:35.042456Z"
    },
    "papermill": {
     "duration": 0.204232,
     "end_time": "2021-01-03T12:25:35.044148",
     "exception": false,
     "start_time": "2021-01-03T12:25:34.839916",
     "status": "completed"
    },
    "tags": []
   },
   "outputs": [
    {
     "name": "stdout",
     "output_type": "stream",
     "text": [
      "<class 'pandas.core.frame.DataFrame'>\n",
      "RangeIndex: 110148 entries, 0 to 110147\n",
      "Data columns (total 20 columns):\n",
      " #   Column            Non-Null Count   Dtype  \n",
      "---  ------            --------------   -----  \n",
      " 0   client_id         110148 non-null  int64  \n",
      " 1   app_date          110148 non-null  object \n",
      " 2   education         109670 non-null  object \n",
      " 3   sex               110148 non-null  object \n",
      " 4   age               110148 non-null  int64  \n",
      " 5   car               110148 non-null  object \n",
      " 6   car_type          110148 non-null  object \n",
      " 7   decline_app_cnt   110148 non-null  int64  \n",
      " 8   good_work         110148 non-null  int64  \n",
      " 9   score_bki         110148 non-null  float64\n",
      " 10  bki_request_cnt   110148 non-null  int64  \n",
      " 11  region_rating     110148 non-null  int64  \n",
      " 12  home_address      110148 non-null  int64  \n",
      " 13  work_address      110148 non-null  int64  \n",
      " 14  income            110148 non-null  int64  \n",
      " 15  sna               110148 non-null  int64  \n",
      " 16  first_time        110148 non-null  int64  \n",
      " 17  foreign_passport  110148 non-null  object \n",
      " 18  default           110148 non-null  int64  \n",
      " 19  train             110148 non-null  int64  \n",
      "dtypes: float64(1), int64(13), object(6)\n",
      "memory usage: 16.8+ MB\n"
     ]
    }
   ],
   "source": [
    "data.info()"
   ]
  },
  {
   "cell_type": "markdown",
   "metadata": {
    "papermill": {
     "duration": 0.071932,
     "end_time": "2021-01-03T12:25:35.192074",
     "exception": false,
     "start_time": "2021-01-03T12:25:35.120142",
     "status": "completed"
    },
    "tags": []
   },
   "source": [
    "### Видим наличие пропусков в переменной \"education\". Поработаем с ней."
   ]
  },
  {
   "cell_type": "code",
   "execution_count": 17,
   "metadata": {
    "execution": {
     "iopub.execute_input": "2021-01-03T12:25:35.356821Z",
     "iopub.status.busy": "2021-01-03T12:25:35.356122Z",
     "iopub.status.idle": "2021-01-03T12:25:35.375840Z",
     "shell.execute_reply": "2021-01-03T12:25:35.375229Z"
    },
    "papermill": {
     "duration": 0.111156,
     "end_time": "2021-01-03T12:25:35.375960",
     "exception": false,
     "start_time": "2021-01-03T12:25:35.264804",
     "status": "completed"
    },
    "tags": []
   },
   "outputs": [
    {
     "data": {
      "text/plain": [
       "client_id             0\n",
       "app_date              0\n",
       "education           478\n",
       "sex                   0\n",
       "age                   0\n",
       "car                   0\n",
       "car_type              0\n",
       "decline_app_cnt       0\n",
       "good_work             0\n",
       "score_bki             0\n",
       "bki_request_cnt       0\n",
       "region_rating         0\n",
       "home_address          0\n",
       "work_address          0\n",
       "income                0\n",
       "sna                   0\n",
       "first_time            0\n",
       "foreign_passport      0\n",
       "default               0\n",
       "train                 0\n",
       "dtype: int64"
      ]
     },
     "execution_count": 17,
     "metadata": {},
     "output_type": "execute_result"
    }
   ],
   "source": [
    "data.isna().sum()"
   ]
  },
  {
   "cell_type": "code",
   "execution_count": 18,
   "metadata": {
    "execution": {
     "iopub.execute_input": "2021-01-03T12:25:35.676758Z",
     "iopub.status.busy": "2021-01-03T12:25:35.676071Z",
     "iopub.status.idle": "2021-01-03T12:25:35.905500Z",
     "shell.execute_reply": "2021-01-03T12:25:35.904935Z"
    },
    "papermill": {
     "duration": 0.306869,
     "end_time": "2021-01-03T12:25:35.905644",
     "exception": false,
     "start_time": "2021-01-03T12:25:35.598775",
     "status": "completed"
    },
    "tags": []
   },
   "outputs": [
    {
     "data": {
      "text/plain": [
       "<AxesSubplot:>"
      ]
     },
     "execution_count": 18,
     "metadata": {},
     "output_type": "execute_result"
    },
    {
     "data": {
      "image/png": "[encoded data removed]",
      "text/plain": [
       "<Figure size 432x288 with 1 Axes>"
      ]
     },
     "metadata": {
      "needs_background": "light"
     },
     "output_type": "display_data"
    }
   ],
   "source": [
    "# определяем наиболее часто встречающимся значением в переменной 'education'\n",
    "train['education'].value_counts().plot.barh()"
   ]
  },
  {
   "cell_type": "code",
   "execution_count": 19,
   "metadata": {
    "execution": {
     "iopub.execute_input": "2021-01-03T12:25:36.072107Z",
     "iopub.status.busy": "2021-01-03T12:25:36.071173Z",
     "iopub.status.idle": "2021-01-03T12:25:36.110418Z",
     "shell.execute_reply": "2021-01-03T12:25:36.110935Z"
    },
    "papermill": {
     "duration": 0.130754,
     "end_time": "2021-01-03T12:25:36.111091",
     "exception": false,
     "start_time": "2021-01-03T12:25:35.980337",
     "status": "completed"
    },
    "tags": []
   },
   "outputs": [],
   "source": [
    "# заполням пропущенные значения в переменной 'education' значением \"SCH\"\n",
    "data[data['education'].isnull()] = data[data['education'].isnull()].fillna('SCH')"
   ]
  },
  {
   "cell_type": "code",
   "execution_count": 15,
   "metadata": {
    "execution": {
     "iopub.execute_input": "2021-01-03T12:25:36.414748Z",
     "iopub.status.busy": "2021-01-03T12:25:36.413822Z",
     "iopub.status.idle": "2021-01-03T12:25:36.492393Z",
     "shell.execute_reply": "2021-01-03T12:25:36.491852Z"
    },
    "papermill": {
     "duration": 0.158477,
     "end_time": "2021-01-03T12:25:36.492516",
     "exception": false,
     "start_time": "2021-01-03T12:25:36.334039",
     "status": "completed"
    },
    "tags": []
   },
   "outputs": [
    {
     "data": {
      "text/plain": [
       "client_id           110148\n",
       "app_date               120\n",
       "education                5\n",
       "sex                      2\n",
       "age                     52\n",
       "car                      2\n",
       "car_type                 2\n",
       "decline_app_cnt         24\n",
       "good_work                2\n",
       "score_bki           102618\n",
       "bki_request_cnt         40\n",
       "region_rating            7\n",
       "home_address             3\n",
       "work_address             3\n",
       "income                1207\n",
       "sna                      4\n",
       "first_time               4\n",
       "foreign_passport         2\n",
       "default                  2\n",
       "train                    2\n",
       "dtype: int64"
      ]
     },
     "execution_count": 15,
     "metadata": {},
     "output_type": "execute_result"
    }
   ],
   "source": [
    "# посмотрим количество уникальных значений в каждой переменной датасета\n",
    "data.nunique()"
   ]
  },
  {
   "cell_type": "markdown",
   "metadata": {
    "papermill": {
     "duration": 0.074746,
     "end_time": "2021-01-03T12:25:36.642067",
     "exception": false,
     "start_time": "2021-01-03T12:25:36.567321",
     "status": "completed"
    },
    "tags": []
   },
   "source": [
    "### Выделим из датасета бинарные (за исключением 'default' и 'train'), категориальные и числовые признаки (за исключением 'client_id')."
   ]
  },
  {
   "cell_type": "code",
   "execution_count": 29,
   "metadata": {
    "execution": {
     "iopub.execute_input": "2021-01-03T12:25:36.800193Z",
     "iopub.status.busy": "2021-01-03T12:25:36.799485Z",
     "iopub.status.idle": "2021-01-03T12:25:36.802634Z",
     "shell.execute_reply": "2021-01-03T12:25:36.801953Z"
    },
    "papermill": {
     "duration": 0.085002,
     "end_time": "2021-01-03T12:25:36.802748",
     "exception": false,
     "start_time": "2021-01-03T12:25:36.717746",
     "status": "completed"
    },
    "tags": []
   },
   "outputs": [],
   "source": [
    "# бинарные переменные\n",
    "bin_cols = ['sex', 'car', 'car_type', 'good_work', 'foreign_passport']\n",
    "\n",
    "# категориальные переменные\n",
    "cat_cols = ['education', 'home_address', 'work_address', 'sna', 'first_time']\n",
    "\n",
    "# числовые переменные\n",
    "num_cols = ['age', 'decline_app_cnt', 'score_bki', 'bki_request_cnt', 'region_rating', 'income']"
   ]
  },
  {
   "cell_type": "markdown",
   "metadata": {
    "papermill": {
     "duration": 0.077826,
     "end_time": "2021-01-03T12:25:37.113413",
     "exception": false,
     "start_time": "2021-01-03T12:25:37.035587",
     "status": "completed"
    },
    "tags": []
   },
   "source": [
    "# **4. Анализ и преобразование данных**"
   ]
  },
  {
   "cell_type": "markdown",
   "metadata": {
    "papermill": {
     "duration": 0.074919,
     "end_time": "2021-01-03T12:25:37.264341",
     "exception": false,
     "start_time": "2021-01-03T12:25:37.189422",
     "status": "completed"
    },
    "tags": []
   },
   "source": [
    "**4.1 Целевая переменная 'default'**"
   ]
  },
  {
   "cell_type": "code",
   "execution_count": 17,
   "metadata": {
    "execution": {
     "iopub.execute_input": "2021-01-03T12:25:37.572816Z",
     "iopub.status.busy": "2021-01-03T12:25:37.572158Z",
     "iopub.status.idle": "2021-01-03T12:25:37.713694Z",
     "shell.execute_reply": "2021-01-03T12:25:37.714168Z"
    },
    "papermill": {
     "duration": 0.224263,
     "end_time": "2021-01-03T12:25:37.714324",
     "exception": false,
     "start_time": "2021-01-03T12:25:37.490061",
     "status": "completed"
    },
    "tags": []
   },
   "outputs": [
    {
     "data": {
      "text/plain": [
       "<matplotlib.axes._subplots.AxesSubplot at 0x7fdbdeb1e110>"
      ]
     },
     "execution_count": 17,
     "metadata": {},
     "output_type": "execute_result"
    },
    {
     "data": {
      "image/png": "[encoded data removed]",
      "text/plain": [
       "<Figure size 432x288 with 1 Axes>"
      ]
     },
     "metadata": {
      "needs_background": "light"
     },
     "output_type": "display_data"
    }
   ],
   "source": [
    "sns.countplot(x='default', data=data[data['train'] == 1])"
   ]
  },
  {
   "cell_type": "markdown",
   "metadata": {
    "papermill": {
     "duration": 0.07689,
     "end_time": "2021-01-03T12:25:38.025087",
     "exception": false,
     "start_time": "2021-01-03T12:25:37.948197",
     "status": "completed"
    },
    "tags": []
   },
   "source": [
    "**4.2 Переменная 'app_date'**"
   ]
  },
  {
   "cell_type": "code",
   "execution_count": 18,
   "metadata": {
    "execution": {
     "iopub.execute_input": "2021-01-03T12:25:38.181633Z",
     "iopub.status.busy": "2021-01-03T12:25:38.180825Z",
     "iopub.status.idle": "2021-01-03T12:25:38.232124Z",
     "shell.execute_reply": "2021-01-03T12:25:38.231561Z"
    },
    "papermill": {
     "duration": 0.13052,
     "end_time": "2021-01-03T12:25:38.232252",
     "exception": false,
     "start_time": "2021-01-03T12:25:38.101732",
     "status": "completed"
    },
    "tags": []
   },
   "outputs": [
    {
     "data": {
      "text/plain": [
       "0        2014-02-01\n",
       "1        2014-03-12\n",
       "2        2014-02-01\n",
       "3        2014-01-23\n",
       "4        2014-04-18\n",
       "            ...    \n",
       "110143   2014-03-31\n",
       "110144   2014-04-25\n",
       "110145   2014-03-30\n",
       "110146   2014-01-07\n",
       "110147   2014-03-17\n",
       "Name: app_date, Length: 110148, dtype: datetime64[ns]"
      ]
     },
     "execution_count": 18,
     "metadata": {},
     "output_type": "execute_result"
    }
   ],
   "source": [
    "# пребразуем значения переменной в формат datetime\n",
    "data.app_date = pd.to_datetime(data.app_date)\n",
    "data.app_date"
   ]
  },
  {
   "cell_type": "markdown",
   "metadata": {
    "papermill": {
     "duration": 0.076592,
     "end_time": "2021-01-03T12:25:38.387111",
     "exception": false,
     "start_time": "2021-01-03T12:25:38.310519",
     "status": "completed"
    },
    "tags": []
   },
   "source": [
    "### Первый ризнак, который нас интересует - кол-во заявок поданных за каждый день рассматриваемого периода."
   ]
  },
  {
   "cell_type": "code",
   "execution_count": 22,
   "metadata": {
    "execution": {
     "iopub.execute_input": "2021-01-03T12:25:38.546942Z",
     "iopub.status.busy": "2021-01-03T12:25:38.546182Z",
     "iopub.status.idle": "2021-01-03T12:25:38.554387Z",
     "shell.execute_reply": "2021-01-03T12:25:38.554961Z"
    },
    "papermill": {
     "duration": 0.09059,
     "end_time": "2021-01-03T12:25:38.555123",
     "exception": false,
     "start_time": "2021-01-03T12:25:38.464533",
     "status": "completed"
    },
    "tags": []
   },
   "outputs": [
    {
     "data": {
      "text/plain": [
       "18MAR2014    1018\n",
       "17MAR2014     911\n",
       "19MAR2014     909\n",
       "31MAR2014     904\n",
       "07APR2014     882\n",
       "             ... \n",
       "20APR2014     243\n",
       "07JAN2014     228\n",
       "03JAN2014     193\n",
       "02JAN2014     137\n",
       "01JAN2014      43\n",
       "Name: app_date, Length: 120, dtype: int64"
      ]
     },
     "execution_count": 22,
     "metadata": {},
     "output_type": "execute_result"
    }
   ],
   "source": [
    "num_of_app_train = data['app_date'][data['train']==1].value_counts()\n",
    "num_of_app_train"
   ]
  },
  {
   "cell_type": "code",
   "execution_count": 23,
   "metadata": {
    "execution": {
     "iopub.execute_input": "2021-01-03T12:25:38.867864Z",
     "iopub.status.busy": "2021-01-03T12:25:38.867190Z",
     "iopub.status.idle": "2021-01-03T12:25:39.332368Z",
     "shell.execute_reply": "2021-01-03T12:25:39.332934Z"
    },
    "papermill": {
     "duration": 0.546403,
     "end_time": "2021-01-03T12:25:39.333079",
     "exception": false,
     "start_time": "2021-01-03T12:25:38.786676",
     "status": "completed"
    },
    "tags": []
   },
   "outputs": [
    {
     "data": {
      "image/png": "[encoded data removed]",
      "text/plain": [
       "<Figure size 432x288 with 1 Axes>"
      ]
     },
     "metadata": {
      "needs_background": "light"
     },
     "output_type": "display_data"
    }
   ],
   "source": [
    "plt.bar(num_of_app_train.index, num_of_app_train)\n",
    "plt.show()"
   ]
  },
  {
   "cell_type": "markdown",
   "metadata": {
    "papermill": {
     "duration": 0.078717,
     "end_time": "2021-01-03T12:25:39.489967",
     "exception": false,
     "start_time": "2021-01-03T12:25:39.411250",
     "status": "completed"
    },
    "tags": []
   },
   "source": [
    "### Кол-во заявок в начеле года больше. Ближе к концу рассматриваемого периода наметился тренд на снижение."
   ]
  },
  {
   "cell_type": "markdown",
   "metadata": {
    "papermill": {
     "duration": 0.078869,
     "end_time": "2021-01-03T12:25:39.647601",
     "exception": false,
     "start_time": "2021-01-03T12:25:39.568732",
     "status": "completed"
    },
    "tags": []
   },
   "source": [
    "### Сделующий признак - распределение дефолтов по дате подачи заявки."
   ]
  },
  {
   "cell_type": "code",
   "execution_count": 24,
   "metadata": {
    "execution": {
     "iopub.execute_input": "2021-01-03T12:25:39.806732Z",
     "iopub.status.busy": "2021-01-03T12:25:39.806078Z",
     "iopub.status.idle": "2021-01-03T12:25:39.818402Z",
     "shell.execute_reply": "2021-01-03T12:25:39.817849Z"
    },
    "papermill": {
     "duration": 0.092884,
     "end_time": "2021-01-03T12:25:39.818513",
     "exception": false,
     "start_time": "2021-01-03T12:25:39.725629",
     "status": "completed"
    },
    "tags": []
   },
   "outputs": [
    {
     "data": {
      "text/plain": [
       "28JAN2014    129\n",
       "17MAR2014    129\n",
       "23JAN2014    122\n",
       "18MAR2014    121\n",
       "02APR2014    119\n",
       "            ... \n",
       "20APR2014     25\n",
       "03JAN2014     24\n",
       "13APR2014     20\n",
       "02JAN2014     18\n",
       "01JAN2014      6\n",
       "Name: app_date, Length: 120, dtype: int64"
      ]
     },
     "execution_count": 24,
     "metadata": {},
     "output_type": "execute_result"
    }
   ],
   "source": [
    "num_of_def_train = data['app_date'][(data['train']==1) & (data['default'] == 1)].value_counts()\n",
    "num_of_def_train"
   ]
  },
  {
   "cell_type": "markdown",
   "metadata": {
    "papermill": {
     "duration": 0.080402,
     "end_time": "2021-01-03T12:25:39.977273",
     "exception": false,
     "start_time": "2021-01-03T12:25:39.896871",
     "status": "completed"
    },
    "tags": []
   },
   "source": [
    "### Посмотрим на распределение кол-ва дефолтов по дате выдачи заявки."
   ]
  },
  {
   "cell_type": "code",
   "execution_count": 22,
   "metadata": {
    "execution": {
     "iopub.execute_input": "2021-01-03T12:25:40.144209Z",
     "iopub.status.busy": "2021-01-03T12:25:40.143562Z",
     "iopub.status.idle": "2021-01-03T12:25:40.522394Z",
     "shell.execute_reply": "2021-01-03T12:25:40.522975Z"
    },
    "papermill": {
     "duration": 0.466767,
     "end_time": "2021-01-03T12:25:40.523116",
     "exception": false,
     "start_time": "2021-01-03T12:25:40.056349",
     "status": "completed"
    },
    "tags": []
   },
   "outputs": [
    {
     "data": {
      "image/png": "[encoded data removed]",
      "text/plain": [
       "<Figure size 432x288 with 1 Axes>"
      ]
     },
     "metadata": {
      "needs_background": "light"
     },
     "output_type": "display_data"
    }
   ],
   "source": [
    "plt.bar(num_of_def_train.index, num_of_def_train)\n",
    "plt.show()"
   ]
  },
  {
   "cell_type": "markdown",
   "metadata": {
    "papermill": {
     "duration": 0.080568,
     "end_time": "2021-01-03T12:25:40.683401",
     "exception": false,
     "start_time": "2021-01-03T12:25:40.602833",
     "status": "completed"
    },
    "tags": []
   },
   "source": [
    "### По графику видно, что в начале кол-во дефолтов росло. Ближе к концу рассматриваемого периода наметился тренд на снижение. Можно сделать вывод, что банк стал лучше работать со временем: он стал меньше выдавать потенциально проблемных кредитов и кол-во дефолтов снизилось."
   ]
  },
  {
   "cell_type": "markdown",
   "metadata": {
    "papermill": {
     "duration": 0.078785,
     "end_time": "2021-01-03T12:25:40.841292",
     "exception": false,
     "start_time": "2021-01-03T12:25:40.762507",
     "status": "completed"
    },
    "tags": []
   },
   "source": [
    "### Создадим новые признаки на основе переменной 'app_date'."
   ]
  },
  {
   "cell_type": "code",
   "execution_count": 25,
   "metadata": {
    "execution": {
     "iopub.execute_input": "2021-01-03T12:25:41.004608Z",
     "iopub.status.busy": "2021-01-03T12:25:41.003939Z",
     "iopub.status.idle": "2021-01-03T12:25:43.014202Z",
     "shell.execute_reply": "2021-01-03T12:25:43.013528Z"
    },
    "papermill": {
     "duration": 2.094051,
     "end_time": "2021-01-03T12:25:43.014313",
     "exception": false,
     "start_time": "2021-01-03T12:25:40.920262",
     "status": "completed"
    },
    "tags": []
   },
   "outputs": [
    {
     "data": {
      "text/html": [
       "<div>\n",
       "<style scoped>\n",
       "    .dataframe tbody tr th:only-of-type {\n",
       "        vertical-align: middle;\n",
       "    }\n",
       "\n",
       "    .dataframe tbody tr th {\n",
       "        vertical-align: top;\n",
       "    }\n",
       "\n",
       "    .dataframe thead th {\n",
       "        text-align: right;\n",
       "    }\n",
       "</style>\n",
       "<table border=\"1\" class=\"dataframe\">\n",
       "  <thead>\n",
       "    <tr style=\"text-align: right;\">\n",
       "      <th></th>\n",
       "      <th>client_id</th>\n",
       "      <th>app_date</th>\n",
       "      <th>education</th>\n",
       "      <th>sex</th>\n",
       "      <th>age</th>\n",
       "      <th>car</th>\n",
       "      <th>car_type</th>\n",
       "      <th>decline_app_cnt</th>\n",
       "      <th>good_work</th>\n",
       "      <th>score_bki</th>\n",
       "      <th>...</th>\n",
       "      <th>work_address</th>\n",
       "      <th>income</th>\n",
       "      <th>sna</th>\n",
       "      <th>first_time</th>\n",
       "      <th>foreign_passport</th>\n",
       "      <th>default</th>\n",
       "      <th>train</th>\n",
       "      <th>num_of_app</th>\n",
       "      <th>num_of_def</th>\n",
       "      <th>share_of_def</th>\n",
       "    </tr>\n",
       "  </thead>\n",
       "  <tbody>\n",
       "    <tr>\n",
       "      <th>0</th>\n",
       "      <td>25905</td>\n",
       "      <td>01FEB2014</td>\n",
       "      <td>SCH</td>\n",
       "      <td>M</td>\n",
       "      <td>62</td>\n",
       "      <td>Y</td>\n",
       "      <td>Y</td>\n",
       "      <td>0</td>\n",
       "      <td>0</td>\n",
       "      <td>-2.008753</td>\n",
       "      <td>...</td>\n",
       "      <td>2</td>\n",
       "      <td>18000</td>\n",
       "      <td>4</td>\n",
       "      <td>1</td>\n",
       "      <td>N</td>\n",
       "      <td>0</td>\n",
       "      <td>1</td>\n",
       "      <td>542</td>\n",
       "      <td>63</td>\n",
       "      <td>0.116236</td>\n",
       "    </tr>\n",
       "    <tr>\n",
       "      <th>1</th>\n",
       "      <td>63161</td>\n",
       "      <td>12MAR2014</td>\n",
       "      <td>SCH</td>\n",
       "      <td>F</td>\n",
       "      <td>59</td>\n",
       "      <td>N</td>\n",
       "      <td>N</td>\n",
       "      <td>0</td>\n",
       "      <td>0</td>\n",
       "      <td>-1.532276</td>\n",
       "      <td>...</td>\n",
       "      <td>3</td>\n",
       "      <td>19000</td>\n",
       "      <td>4</td>\n",
       "      <td>1</td>\n",
       "      <td>N</td>\n",
       "      <td>0</td>\n",
       "      <td>1</td>\n",
       "      <td>737</td>\n",
       "      <td>88</td>\n",
       "      <td>0.119403</td>\n",
       "    </tr>\n",
       "    <tr>\n",
       "      <th>2</th>\n",
       "      <td>25887</td>\n",
       "      <td>01FEB2014</td>\n",
       "      <td>SCH</td>\n",
       "      <td>M</td>\n",
       "      <td>25</td>\n",
       "      <td>Y</td>\n",
       "      <td>N</td>\n",
       "      <td>2</td>\n",
       "      <td>0</td>\n",
       "      <td>-1.408142</td>\n",
       "      <td>...</td>\n",
       "      <td>2</td>\n",
       "      <td>30000</td>\n",
       "      <td>1</td>\n",
       "      <td>4</td>\n",
       "      <td>Y</td>\n",
       "      <td>0</td>\n",
       "      <td>1</td>\n",
       "      <td>542</td>\n",
       "      <td>63</td>\n",
       "      <td>0.116236</td>\n",
       "    </tr>\n",
       "    <tr>\n",
       "      <th>3</th>\n",
       "      <td>16222</td>\n",
       "      <td>23JAN2014</td>\n",
       "      <td>SCH</td>\n",
       "      <td>F</td>\n",
       "      <td>53</td>\n",
       "      <td>N</td>\n",
       "      <td>N</td>\n",
       "      <td>0</td>\n",
       "      <td>0</td>\n",
       "      <td>-2.057471</td>\n",
       "      <td>...</td>\n",
       "      <td>3</td>\n",
       "      <td>10000</td>\n",
       "      <td>1</td>\n",
       "      <td>3</td>\n",
       "      <td>N</td>\n",
       "      <td>0</td>\n",
       "      <td>1</td>\n",
       "      <td>703</td>\n",
       "      <td>122</td>\n",
       "      <td>0.173542</td>\n",
       "    </tr>\n",
       "    <tr>\n",
       "      <th>4</th>\n",
       "      <td>101655</td>\n",
       "      <td>18APR2014</td>\n",
       "      <td>GRD</td>\n",
       "      <td>M</td>\n",
       "      <td>48</td>\n",
       "      <td>N</td>\n",
       "      <td>N</td>\n",
       "      <td>0</td>\n",
       "      <td>1</td>\n",
       "      <td>-1.244723</td>\n",
       "      <td>...</td>\n",
       "      <td>3</td>\n",
       "      <td>30000</td>\n",
       "      <td>1</td>\n",
       "      <td>4</td>\n",
       "      <td>Y</td>\n",
       "      <td>0</td>\n",
       "      <td>1</td>\n",
       "      <td>661</td>\n",
       "      <td>52</td>\n",
       "      <td>0.078669</td>\n",
       "    </tr>\n",
       "    <tr>\n",
       "      <th>...</th>\n",
       "      <td>...</td>\n",
       "      <td>...</td>\n",
       "      <td>...</td>\n",
       "      <td>...</td>\n",
       "      <td>...</td>\n",
       "      <td>...</td>\n",
       "      <td>...</td>\n",
       "      <td>...</td>\n",
       "      <td>...</td>\n",
       "      <td>...</td>\n",
       "      <td>...</td>\n",
       "      <td>...</td>\n",
       "      <td>...</td>\n",
       "      <td>...</td>\n",
       "      <td>...</td>\n",
       "      <td>...</td>\n",
       "      <td>...</td>\n",
       "      <td>...</td>\n",
       "      <td>...</td>\n",
       "      <td>...</td>\n",
       "      <td>...</td>\n",
       "    </tr>\n",
       "    <tr>\n",
       "      <th>110143</th>\n",
       "      <td>83775</td>\n",
       "      <td>31MAR2014</td>\n",
       "      <td>SCH</td>\n",
       "      <td>F</td>\n",
       "      <td>37</td>\n",
       "      <td>N</td>\n",
       "      <td>N</td>\n",
       "      <td>1</td>\n",
       "      <td>0</td>\n",
       "      <td>-1.744976</td>\n",
       "      <td>...</td>\n",
       "      <td>3</td>\n",
       "      <td>15000</td>\n",
       "      <td>4</td>\n",
       "      <td>1</td>\n",
       "      <td>N</td>\n",
       "      <td>0</td>\n",
       "      <td>0</td>\n",
       "      <td>904</td>\n",
       "      <td>113</td>\n",
       "      <td>0.125000</td>\n",
       "    </tr>\n",
       "    <tr>\n",
       "      <th>110144</th>\n",
       "      <td>106254</td>\n",
       "      <td>25APR2014</td>\n",
       "      <td>GRD</td>\n",
       "      <td>F</td>\n",
       "      <td>64</td>\n",
       "      <td>Y</td>\n",
       "      <td>Y</td>\n",
       "      <td>0</td>\n",
       "      <td>0</td>\n",
       "      <td>-2.293781</td>\n",
       "      <td>...</td>\n",
       "      <td>2</td>\n",
       "      <td>200000</td>\n",
       "      <td>1</td>\n",
       "      <td>4</td>\n",
       "      <td>N</td>\n",
       "      <td>0</td>\n",
       "      <td>0</td>\n",
       "      <td>470</td>\n",
       "      <td>36</td>\n",
       "      <td>0.076596</td>\n",
       "    </tr>\n",
       "    <tr>\n",
       "      <th>110145</th>\n",
       "      <td>81852</td>\n",
       "      <td>30MAR2014</td>\n",
       "      <td>GRD</td>\n",
       "      <td>M</td>\n",
       "      <td>31</td>\n",
       "      <td>N</td>\n",
       "      <td>N</td>\n",
       "      <td>2</td>\n",
       "      <td>0</td>\n",
       "      <td>-0.940752</td>\n",
       "      <td>...</td>\n",
       "      <td>2</td>\n",
       "      <td>60000</td>\n",
       "      <td>4</td>\n",
       "      <td>2</td>\n",
       "      <td>N</td>\n",
       "      <td>0</td>\n",
       "      <td>0</td>\n",
       "      <td>475</td>\n",
       "      <td>63</td>\n",
       "      <td>0.132632</td>\n",
       "    </tr>\n",
       "    <tr>\n",
       "      <th>110146</th>\n",
       "      <td>1971</td>\n",
       "      <td>07JAN2014</td>\n",
       "      <td>UGR</td>\n",
       "      <td>F</td>\n",
       "      <td>27</td>\n",
       "      <td>N</td>\n",
       "      <td>N</td>\n",
       "      <td>1</td>\n",
       "      <td>0</td>\n",
       "      <td>-1.242392</td>\n",
       "      <td>...</td>\n",
       "      <td>3</td>\n",
       "      <td>30000</td>\n",
       "      <td>1</td>\n",
       "      <td>1</td>\n",
       "      <td>N</td>\n",
       "      <td>0</td>\n",
       "      <td>0</td>\n",
       "      <td>228</td>\n",
       "      <td>45</td>\n",
       "      <td>0.197368</td>\n",
       "    </tr>\n",
       "    <tr>\n",
       "      <th>110147</th>\n",
       "      <td>69044</td>\n",
       "      <td>17MAR2014</td>\n",
       "      <td>SCH</td>\n",
       "      <td>M</td>\n",
       "      <td>38</td>\n",
       "      <td>N</td>\n",
       "      <td>N</td>\n",
       "      <td>0</td>\n",
       "      <td>0</td>\n",
       "      <td>-1.507549</td>\n",
       "      <td>...</td>\n",
       "      <td>2</td>\n",
       "      <td>15000</td>\n",
       "      <td>4</td>\n",
       "      <td>2</td>\n",
       "      <td>N</td>\n",
       "      <td>0</td>\n",
       "      <td>0</td>\n",
       "      <td>911</td>\n",
       "      <td>129</td>\n",
       "      <td>0.141603</td>\n",
       "    </tr>\n",
       "  </tbody>\n",
       "</table>\n",
       "<p>110148 rows × 23 columns</p>\n",
       "</div>"
      ],
      "text/plain": [
       "        client_id   app_date education sex  age car car_type  decline_app_cnt  \\\n",
       "0           25905  01FEB2014       SCH   M   62   Y        Y                0   \n",
       "1           63161  12MAR2014       SCH   F   59   N        N                0   \n",
       "2           25887  01FEB2014       SCH   M   25   Y        N                2   \n",
       "3           16222  23JAN2014       SCH   F   53   N        N                0   \n",
       "4          101655  18APR2014       GRD   M   48   N        N                0   \n",
       "...           ...        ...       ...  ..  ...  ..      ...              ...   \n",
       "110143      83775  31MAR2014       SCH   F   37   N        N                1   \n",
       "110144     106254  25APR2014       GRD   F   64   Y        Y                0   \n",
       "110145      81852  30MAR2014       GRD   M   31   N        N                2   \n",
       "110146       1971  07JAN2014       UGR   F   27   N        N                1   \n",
       "110147      69044  17MAR2014       SCH   M   38   N        N                0   \n",
       "\n",
       "        good_work  score_bki  ...  work_address  income  sna  first_time  \\\n",
       "0               0  -2.008753  ...             2   18000    4           1   \n",
       "1               0  -1.532276  ...             3   19000    4           1   \n",
       "2               0  -1.408142  ...             2   30000    1           4   \n",
       "3               0  -2.057471  ...             3   10000    1           3   \n",
       "4               1  -1.244723  ...             3   30000    1           4   \n",
       "...           ...        ...  ...           ...     ...  ...         ...   \n",
       "110143          0  -1.744976  ...             3   15000    4           1   \n",
       "110144          0  -2.293781  ...             2  200000    1           4   \n",
       "110145          0  -0.940752  ...             2   60000    4           2   \n",
       "110146          0  -1.242392  ...             3   30000    1           1   \n",
       "110147          0  -1.507549  ...             2   15000    4           2   \n",
       "\n",
       "        foreign_passport  default  train num_of_app  num_of_def  share_of_def  \n",
       "0                      N        0      1        542          63      0.116236  \n",
       "1                      N        0      1        737          88      0.119403  \n",
       "2                      Y        0      1        542          63      0.116236  \n",
       "3                      N        0      1        703         122      0.173542  \n",
       "4                      Y        0      1        661          52      0.078669  \n",
       "...                  ...      ...    ...        ...         ...           ...  \n",
       "110143                 N        0      0        904         113      0.125000  \n",
       "110144                 N        0      0        470          36      0.076596  \n",
       "110145                 N        0      0        475          63      0.132632  \n",
       "110146                 N        0      0        228          45      0.197368  \n",
       "110147                 N        0      0        911         129      0.141603  \n",
       "\n",
       "[110148 rows x 23 columns]"
      ]
     },
     "execution_count": 25,
     "metadata": {},
     "output_type": "execute_result"
    }
   ],
   "source": [
    "# добавим в датасет data кол-во заявок, поданных в каждую дату по данным датасета train\n",
    "data['num_of_app'] = data['app_date'].replace(to_replace=num_of_app_train.to_dict())\n",
    "\n",
    "# добавим в датасет data кол-во дефолтов, на каждую дату поданной заявки по данным датасета train\n",
    "data['num_of_def'] = data['app_date'].replace(to_replace=num_of_def_train.to_dict())\n",
    "data\n",
    "\n",
    "# на основе добаленных переменных создадим новую - доля дефолтов от кол-ва поданных заявок\n",
    "data['share_of_def'] = data['num_of_def']/data['num_of_app']\n",
    "data"
   ]
  },
  {
   "cell_type": "markdown",
   "metadata": {
    "papermill": {
     "duration": 0.082225,
     "end_time": "2021-01-03T12:25:43.177962",
     "exception": false,
     "start_time": "2021-01-03T12:25:43.095737",
     "status": "completed"
    },
    "tags": []
   },
   "source": [
    "### Уберем из датасета data кол-во дефолтов по данным датасета train,  т.к. в новом датасете data картина может быть другой."
   ]
  },
  {
   "cell_type": "code",
   "execution_count": 26,
   "metadata": {
    "execution": {
     "iopub.execute_input": "2021-01-03T12:25:43.344402Z",
     "iopub.status.busy": "2021-01-03T12:25:43.343760Z",
     "iopub.status.idle": "2021-01-03T12:25:43.349052Z",
     "shell.execute_reply": "2021-01-03T12:25:43.348387Z"
    },
    "papermill": {
     "duration": 0.090561,
     "end_time": "2021-01-03T12:25:43.349164",
     "exception": false,
     "start_time": "2021-01-03T12:25:43.258603",
     "status": "completed"
    },
    "tags": []
   },
   "outputs": [],
   "source": [
    "del data['num_of_def']"
   ]
  },
  {
   "cell_type": "markdown",
   "metadata": {
    "papermill": {
     "duration": 0.080159,
     "end_time": "2021-01-03T12:25:43.511253",
     "exception": false,
     "start_time": "2021-01-03T12:25:43.431094",
     "status": "completed"
    },
    "tags": []
   },
   "source": [
    "### Также заменим значения в переменной кол-во заявок по данным датасета train на кол-во заявок в новом датасете data. (Т.е. по сути, добавим эту информацию для записей из датасета test.)"
   ]
  },
  {
   "cell_type": "code",
   "execution_count": 27,
   "metadata": {
    "execution": {
     "iopub.execute_input": "2021-01-03T12:25:43.678638Z",
     "iopub.status.busy": "2021-01-03T12:25:43.677788Z",
     "iopub.status.idle": "2021-01-03T12:25:44.644342Z",
     "shell.execute_reply": "2021-01-03T12:25:44.643481Z"
    },
    "papermill": {
     "duration": 1.052695,
     "end_time": "2021-01-03T12:25:44.644470",
     "exception": false,
     "start_time": "2021-01-03T12:25:43.591775",
     "status": "completed"
    },
    "tags": []
   },
   "outputs": [],
   "source": [
    "num_of_app_data = data['app_date'].value_counts()\n",
    "data['num_of_app'] = data['app_date'].replace(to_replace=num_of_app_data.to_dict())"
   ]
  },
  {
   "cell_type": "code",
   "execution_count": 30,
   "metadata": {
    "execution": {
     "iopub.execute_input": "2021-01-03T12:25:44.812968Z",
     "iopub.status.busy": "2021-01-03T12:25:44.811944Z",
     "iopub.status.idle": "2021-01-03T12:25:44.815273Z",
     "shell.execute_reply": "2021-01-03T12:25:44.814747Z"
    },
    "papermill": {
     "duration": 0.090308,
     "end_time": "2021-01-03T12:25:44.815386",
     "exception": false,
     "start_time": "2021-01-03T12:25:44.725078",
     "status": "completed"
    },
    "tags": []
   },
   "outputs": [],
   "source": [
    "# добавим новые переменные 'share_of_def', 'num_of_app' в список числовых переменных\n",
    "num_cols.append('share_of_def')\n",
    "num_cols.append('num_of_app')"
   ]
  },
  {
   "cell_type": "code",
   "execution_count": 27,
   "metadata": {
    "execution": {
     "iopub.execute_input": "2021-01-03T12:25:44.997328Z",
     "iopub.status.busy": "2021-01-03T12:25:44.996654Z",
     "iopub.status.idle": "2021-01-03T12:25:45.093031Z",
     "shell.execute_reply": "2021-01-03T12:25:45.092487Z"
    },
    "papermill": {
     "duration": 0.181287,
     "end_time": "2021-01-03T12:25:45.093147",
     "exception": false,
     "start_time": "2021-01-03T12:25:44.911860",
     "status": "completed"
    },
    "tags": []
   },
   "outputs": [
    {
     "name": "stdout",
     "output_type": "stream",
     "text": [
      "['age', 'decline_app_cnt', 'score_bki', 'bki_request_cnt', 'region_rating', 'income', 'share_of_def', 'num_of_app']\n"
     ]
    },
    {
     "data": {
      "text/html": [
       "<div>\n",
       "<style scoped>\n",
       "    .dataframe tbody tr th:only-of-type {\n",
       "        vertical-align: middle;\n",
       "    }\n",
       "\n",
       "    .dataframe tbody tr th {\n",
       "        vertical-align: top;\n",
       "    }\n",
       "\n",
       "    .dataframe thead th {\n",
       "        text-align: right;\n",
       "    }\n",
       "</style>\n",
       "<table border=\"1\" class=\"dataframe\">\n",
       "  <thead>\n",
       "    <tr style=\"text-align: right;\">\n",
       "      <th></th>\n",
       "      <th>client_id</th>\n",
       "      <th>app_date</th>\n",
       "      <th>education</th>\n",
       "      <th>sex</th>\n",
       "      <th>age</th>\n",
       "      <th>car</th>\n",
       "      <th>car_type</th>\n",
       "      <th>decline_app_cnt</th>\n",
       "      <th>good_work</th>\n",
       "      <th>score_bki</th>\n",
       "      <th>...</th>\n",
       "      <th>home_address</th>\n",
       "      <th>work_address</th>\n",
       "      <th>income</th>\n",
       "      <th>sna</th>\n",
       "      <th>first_time</th>\n",
       "      <th>foreign_passport</th>\n",
       "      <th>default</th>\n",
       "      <th>train</th>\n",
       "      <th>num_of_app</th>\n",
       "      <th>share_of_def</th>\n",
       "    </tr>\n",
       "  </thead>\n",
       "  <tbody>\n",
       "    <tr>\n",
       "      <th>0</th>\n",
       "      <td>25905</td>\n",
       "      <td>2014-02-01</td>\n",
       "      <td>SCH</td>\n",
       "      <td>M</td>\n",
       "      <td>62</td>\n",
       "      <td>Y</td>\n",
       "      <td>Y</td>\n",
       "      <td>0</td>\n",
       "      <td>0</td>\n",
       "      <td>-2.008753</td>\n",
       "      <td>...</td>\n",
       "      <td>1</td>\n",
       "      <td>2</td>\n",
       "      <td>18000</td>\n",
       "      <td>4</td>\n",
       "      <td>1</td>\n",
       "      <td>N</td>\n",
       "      <td>0</td>\n",
       "      <td>1</td>\n",
       "      <td>794</td>\n",
       "      <td>0.116236</td>\n",
       "    </tr>\n",
       "    <tr>\n",
       "      <th>1</th>\n",
       "      <td>63161</td>\n",
       "      <td>2014-03-12</td>\n",
       "      <td>SCH</td>\n",
       "      <td>F</td>\n",
       "      <td>59</td>\n",
       "      <td>N</td>\n",
       "      <td>N</td>\n",
       "      <td>0</td>\n",
       "      <td>0</td>\n",
       "      <td>-1.532276</td>\n",
       "      <td>...</td>\n",
       "      <td>2</td>\n",
       "      <td>3</td>\n",
       "      <td>19000</td>\n",
       "      <td>4</td>\n",
       "      <td>1</td>\n",
       "      <td>N</td>\n",
       "      <td>0</td>\n",
       "      <td>1</td>\n",
       "      <td>1110</td>\n",
       "      <td>0.119403</td>\n",
       "    </tr>\n",
       "    <tr>\n",
       "      <th>2</th>\n",
       "      <td>25887</td>\n",
       "      <td>2014-02-01</td>\n",
       "      <td>SCH</td>\n",
       "      <td>M</td>\n",
       "      <td>25</td>\n",
       "      <td>Y</td>\n",
       "      <td>N</td>\n",
       "      <td>2</td>\n",
       "      <td>0</td>\n",
       "      <td>-1.408142</td>\n",
       "      <td>...</td>\n",
       "      <td>1</td>\n",
       "      <td>2</td>\n",
       "      <td>30000</td>\n",
       "      <td>1</td>\n",
       "      <td>4</td>\n",
       "      <td>Y</td>\n",
       "      <td>0</td>\n",
       "      <td>1</td>\n",
       "      <td>794</td>\n",
       "      <td>0.116236</td>\n",
       "    </tr>\n",
       "    <tr>\n",
       "      <th>3</th>\n",
       "      <td>16222</td>\n",
       "      <td>2014-01-23</td>\n",
       "      <td>SCH</td>\n",
       "      <td>F</td>\n",
       "      <td>53</td>\n",
       "      <td>N</td>\n",
       "      <td>N</td>\n",
       "      <td>0</td>\n",
       "      <td>0</td>\n",
       "      <td>-2.057471</td>\n",
       "      <td>...</td>\n",
       "      <td>2</td>\n",
       "      <td>3</td>\n",
       "      <td>10000</td>\n",
       "      <td>1</td>\n",
       "      <td>3</td>\n",
       "      <td>N</td>\n",
       "      <td>0</td>\n",
       "      <td>1</td>\n",
       "      <td>1060</td>\n",
       "      <td>0.173542</td>\n",
       "    </tr>\n",
       "    <tr>\n",
       "      <th>4</th>\n",
       "      <td>101655</td>\n",
       "      <td>2014-04-18</td>\n",
       "      <td>GRD</td>\n",
       "      <td>M</td>\n",
       "      <td>48</td>\n",
       "      <td>N</td>\n",
       "      <td>N</td>\n",
       "      <td>0</td>\n",
       "      <td>1</td>\n",
       "      <td>-1.244723</td>\n",
       "      <td>...</td>\n",
       "      <td>2</td>\n",
       "      <td>3</td>\n",
       "      <td>30000</td>\n",
       "      <td>1</td>\n",
       "      <td>4</td>\n",
       "      <td>Y</td>\n",
       "      <td>0</td>\n",
       "      <td>1</td>\n",
       "      <td>981</td>\n",
       "      <td>0.078669</td>\n",
       "    </tr>\n",
       "    <tr>\n",
       "      <th>...</th>\n",
       "      <td>...</td>\n",
       "      <td>...</td>\n",
       "      <td>...</td>\n",
       "      <td>...</td>\n",
       "      <td>...</td>\n",
       "      <td>...</td>\n",
       "      <td>...</td>\n",
       "      <td>...</td>\n",
       "      <td>...</td>\n",
       "      <td>...</td>\n",
       "      <td>...</td>\n",
       "      <td>...</td>\n",
       "      <td>...</td>\n",
       "      <td>...</td>\n",
       "      <td>...</td>\n",
       "      <td>...</td>\n",
       "      <td>...</td>\n",
       "      <td>...</td>\n",
       "      <td>...</td>\n",
       "      <td>...</td>\n",
       "      <td>...</td>\n",
       "    </tr>\n",
       "    <tr>\n",
       "      <th>110143</th>\n",
       "      <td>83775</td>\n",
       "      <td>2014-03-31</td>\n",
       "      <td>SCH</td>\n",
       "      <td>F</td>\n",
       "      <td>37</td>\n",
       "      <td>N</td>\n",
       "      <td>N</td>\n",
       "      <td>1</td>\n",
       "      <td>0</td>\n",
       "      <td>-1.744976</td>\n",
       "      <td>...</td>\n",
       "      <td>2</td>\n",
       "      <td>3</td>\n",
       "      <td>15000</td>\n",
       "      <td>4</td>\n",
       "      <td>1</td>\n",
       "      <td>N</td>\n",
       "      <td>0</td>\n",
       "      <td>0</td>\n",
       "      <td>1317</td>\n",
       "      <td>0.125000</td>\n",
       "    </tr>\n",
       "    <tr>\n",
       "      <th>110144</th>\n",
       "      <td>106254</td>\n",
       "      <td>2014-04-25</td>\n",
       "      <td>GRD</td>\n",
       "      <td>F</td>\n",
       "      <td>64</td>\n",
       "      <td>Y</td>\n",
       "      <td>Y</td>\n",
       "      <td>0</td>\n",
       "      <td>0</td>\n",
       "      <td>-2.293781</td>\n",
       "      <td>...</td>\n",
       "      <td>1</td>\n",
       "      <td>2</td>\n",
       "      <td>200000</td>\n",
       "      <td>1</td>\n",
       "      <td>4</td>\n",
       "      <td>N</td>\n",
       "      <td>0</td>\n",
       "      <td>0</td>\n",
       "      <td>698</td>\n",
       "      <td>0.076596</td>\n",
       "    </tr>\n",
       "    <tr>\n",
       "      <th>110145</th>\n",
       "      <td>81852</td>\n",
       "      <td>2014-03-30</td>\n",
       "      <td>GRD</td>\n",
       "      <td>M</td>\n",
       "      <td>31</td>\n",
       "      <td>N</td>\n",
       "      <td>N</td>\n",
       "      <td>2</td>\n",
       "      <td>0</td>\n",
       "      <td>-0.940752</td>\n",
       "      <td>...</td>\n",
       "      <td>1</td>\n",
       "      <td>2</td>\n",
       "      <td>60000</td>\n",
       "      <td>4</td>\n",
       "      <td>2</td>\n",
       "      <td>N</td>\n",
       "      <td>0</td>\n",
       "      <td>0</td>\n",
       "      <td>722</td>\n",
       "      <td>0.132632</td>\n",
       "    </tr>\n",
       "    <tr>\n",
       "      <th>110146</th>\n",
       "      <td>1971</td>\n",
       "      <td>2014-01-07</td>\n",
       "      <td>UGR</td>\n",
       "      <td>F</td>\n",
       "      <td>27</td>\n",
       "      <td>N</td>\n",
       "      <td>N</td>\n",
       "      <td>1</td>\n",
       "      <td>0</td>\n",
       "      <td>-1.242392</td>\n",
       "      <td>...</td>\n",
       "      <td>2</td>\n",
       "      <td>3</td>\n",
       "      <td>30000</td>\n",
       "      <td>1</td>\n",
       "      <td>1</td>\n",
       "      <td>N</td>\n",
       "      <td>0</td>\n",
       "      <td>0</td>\n",
       "      <td>349</td>\n",
       "      <td>0.197368</td>\n",
       "    </tr>\n",
       "    <tr>\n",
       "      <th>110147</th>\n",
       "      <td>69044</td>\n",
       "      <td>2014-03-17</td>\n",
       "      <td>SCH</td>\n",
       "      <td>M</td>\n",
       "      <td>38</td>\n",
       "      <td>N</td>\n",
       "      <td>N</td>\n",
       "      <td>0</td>\n",
       "      <td>0</td>\n",
       "      <td>-1.507549</td>\n",
       "      <td>...</td>\n",
       "      <td>1</td>\n",
       "      <td>2</td>\n",
       "      <td>15000</td>\n",
       "      <td>4</td>\n",
       "      <td>2</td>\n",
       "      <td>N</td>\n",
       "      <td>0</td>\n",
       "      <td>0</td>\n",
       "      <td>1350</td>\n",
       "      <td>0.141603</td>\n",
       "    </tr>\n",
       "  </tbody>\n",
       "</table>\n",
       "<p>110148 rows × 22 columns</p>\n",
       "</div>"
      ],
      "text/plain": [
       "        client_id   app_date education sex  age car car_type  decline_app_cnt  \\\n",
       "0           25905 2014-02-01       SCH   M   62   Y        Y                0   \n",
       "1           63161 2014-03-12       SCH   F   59   N        N                0   \n",
       "2           25887 2014-02-01       SCH   M   25   Y        N                2   \n",
       "3           16222 2014-01-23       SCH   F   53   N        N                0   \n",
       "4          101655 2014-04-18       GRD   M   48   N        N                0   \n",
       "...           ...        ...       ...  ..  ...  ..      ...              ...   \n",
       "110143      83775 2014-03-31       SCH   F   37   N        N                1   \n",
       "110144     106254 2014-04-25       GRD   F   64   Y        Y                0   \n",
       "110145      81852 2014-03-30       GRD   M   31   N        N                2   \n",
       "110146       1971 2014-01-07       UGR   F   27   N        N                1   \n",
       "110147      69044 2014-03-17       SCH   M   38   N        N                0   \n",
       "\n",
       "        good_work  score_bki  ...  home_address  work_address  income  sna  \\\n",
       "0               0  -2.008753  ...             1             2   18000    4   \n",
       "1               0  -1.532276  ...             2             3   19000    4   \n",
       "2               0  -1.408142  ...             1             2   30000    1   \n",
       "3               0  -2.057471  ...             2             3   10000    1   \n",
       "4               1  -1.244723  ...             2             3   30000    1   \n",
       "...           ...        ...  ...           ...           ...     ...  ...   \n",
       "110143          0  -1.744976  ...             2             3   15000    4   \n",
       "110144          0  -2.293781  ...             1             2  200000    1   \n",
       "110145          0  -0.940752  ...             1             2   60000    4   \n",
       "110146          0  -1.242392  ...             2             3   30000    1   \n",
       "110147          0  -1.507549  ...             1             2   15000    4   \n",
       "\n",
       "        first_time  foreign_passport  default train  num_of_app  share_of_def  \n",
       "0                1                 N        0     1         794      0.116236  \n",
       "1                1                 N        0     1        1110      0.119403  \n",
       "2                4                 Y        0     1         794      0.116236  \n",
       "3                3                 N        0     1        1060      0.173542  \n",
       "4                4                 Y        0     1         981      0.078669  \n",
       "...            ...               ...      ...   ...         ...           ...  \n",
       "110143           1                 N        0     0        1317      0.125000  \n",
       "110144           4                 N        0     0         698      0.076596  \n",
       "110145           2                 N        0     0         722      0.132632  \n",
       "110146           1                 N        0     0         349      0.197368  \n",
       "110147           2                 N        0     0        1350      0.141603  \n",
       "\n",
       "[110148 rows x 22 columns]"
      ]
     },
     "metadata": {},
     "output_type": "display_data"
    }
   ],
   "source": [
    "# проверяем, что переменные добавлены\n",
    "print(num_cols)\n",
    "display(data)"
   ]
  },
  {
   "cell_type": "markdown",
   "metadata": {
    "papermill": {
     "duration": 0.082013,
     "end_time": "2021-01-03T12:25:45.257973",
     "exception": false,
     "start_time": "2021-01-03T12:25:45.175960",
     "status": "completed"
    },
    "tags": []
   },
   "source": [
    "**4.3 Категориальные переменные**"
   ]
  },
  {
   "cell_type": "code",
   "execution_count": 31,
   "metadata": {
    "execution": {
     "iopub.execute_input": "2021-01-03T12:25:45.430731Z",
     "iopub.status.busy": "2021-01-03T12:25:45.430053Z",
     "iopub.status.idle": "2021-01-03T12:25:46.239117Z",
     "shell.execute_reply": "2021-01-03T12:25:46.238160Z"
    },
    "papermill": {
     "duration": 0.898844,
     "end_time": "2021-01-03T12:25:46.239251",
     "exception": false,
     "start_time": "2021-01-03T12:25:45.340407",
     "status": "completed"
    },
    "tags": []
   },
   "outputs": [
    {
     "name": "stdout",
     "output_type": "stream",
     "text": [
      "Бинарная переменная \"education\":\n",
      "SCH    39167\n",
      "GRD    23365\n",
      "UGR     9816\n",
      "PGR     1257\n",
      "ACD      194\n",
      "Name: education, dtype: int64\n"
     ]
    },
    {
     "data": {
      "image/png": "[encoded data removed]",
      "text/plain": [
       "<Figure size 432x288 with 1 Axes>"
      ]
     },
     "metadata": {
      "needs_background": "light"
     },
     "output_type": "display_data"
    },
    {
     "name": "stdout",
     "output_type": "stream",
     "text": [
      "Бинарная переменная \"home_address\":\n",
      "2    39956\n",
      "1    32585\n",
      "3     1258\n",
      "Name: home_address, dtype: int64\n"
     ]
    },
    {
     "data": {
      "image/png": "[encoded data removed]",
      "text/plain": [
       "<Figure size 432x288 with 1 Axes>"
      ]
     },
     "metadata": {
      "needs_background": "light"
     },
     "output_type": "display_data"
    },
    {
     "name": "stdout",
     "output_type": "stream",
     "text": [
      "Бинарная переменная \"work_address\":\n",
      "3    44959\n",
      "2    20506\n",
      "1     8334\n",
      "Name: work_address, dtype: int64\n"
     ]
    },
    {
     "data": {
      "image/png": "[encoded data removed]",
      "text/plain": [
       "<Figure size 432x288 with 1 Axes>"
      ]
     },
     "metadata": {
      "needs_background": "light"
     },
     "output_type": "display_data"
    },
    {
     "name": "stdout",
     "output_type": "stream",
     "text": [
      "Бинарная переменная \"sna\":\n",
      "1    47301\n",
      "4    11749\n",
      "2    10626\n",
      "3     4123\n",
      "Name: sna, dtype: int64\n"
     ]
    },
    {
     "data": {
      "image/png": "[encoded data removed]",
      "text/plain": [
       "<Figure size 432x288 with 1 Axes>"
      ]
     },
     "metadata": {
      "needs_background": "light"
     },
     "output_type": "display_data"
    },
    {
     "name": "stdout",
     "output_type": "stream",
     "text": [
      "Бинарная переменная \"first_time\":\n",
      "3    31255\n",
      "4    18737\n",
      "1    12239\n",
      "2    11568\n",
      "Name: first_time, dtype: int64\n"
     ]
    },
    {
     "data": {
      "image/png": "[encoded data removed]",
      "text/plain": [
       "<Figure size 432x288 with 1 Axes>"
      ]
     },
     "metadata": {
      "needs_background": "light"
     },
     "output_type": "display_data"
    }
   ],
   "source": [
    "# работаем по циклу с переменными \n",
    "# рассматриваем для строк из датасета train\n",
    "for col in cat_cols:\n",
    "    print('Бинарная переменная \"{a}\":'.format(a=col)) # выводим название переменной\n",
    "    print(data[col][data['train']==1].value_counts()) # выводим уникальные значения и их количество\n",
    "    # выводим распределение заемщиков по признакам\n",
    "    plt.figure()\n",
    "    sns.countplot(x=col, data=data[data['train']==1])\n",
    "    plt.show()"
   ]
  },
  {
   "cell_type": "markdown",
   "metadata": {
    "papermill": {
     "duration": 0.0876,
     "end_time": "2021-01-03T12:25:46.415486",
     "exception": false,
     "start_time": "2021-01-03T12:25:46.327886",
     "status": "completed"
    },
    "tags": []
   },
   "source": [
    "### Выводы:\n",
    "#### в переменной \"education\" приходится малая доля на значения PGR и ACD,\n",
    "#### в переменной \"home_address\" приходится малая доля на значение 3.\n",
    "#### Для остальных переменных доля всех значений достаточно велика, но имется один ярко выраженный признак."
   ]
  },
  {
   "cell_type": "markdown",
   "metadata": {
    "papermill": {
     "duration": 0.087349,
     "end_time": "2021-01-03T12:25:46.590660",
     "exception": false,
     "start_time": "2021-01-03T12:25:46.503311",
     "status": "completed"
    },
    "tags": []
   },
   "source": [
    "**4.4 Бинарные переменные**"
   ]
  },
  {
   "cell_type": "code",
   "execution_count": 32,
   "metadata": {
    "execution": {
     "iopub.execute_input": "2021-01-03T12:25:46.775113Z",
     "iopub.status.busy": "2021-01-03T12:25:46.774308Z",
     "iopub.status.idle": "2021-01-03T12:25:47.533916Z",
     "shell.execute_reply": "2021-01-03T12:25:47.534426Z"
    },
    "papermill": {
     "duration": 0.856057,
     "end_time": "2021-01-03T12:25:47.534582",
     "exception": false,
     "start_time": "2021-01-03T12:25:46.678525",
     "status": "completed"
    },
    "tags": []
   },
   "outputs": [
    {
     "name": "stdout",
     "output_type": "stream",
     "text": [
      "Бинарная переменная \"sex\":\n",
      "F    41562\n",
      "M    32237\n",
      "Name: sex, dtype: int64\n"
     ]
    },
    {
     "data": {
      "image/png": "[encoded data removed]",
      "text/plain": [
       "<Figure size 432x288 with 1 Axes>"
      ]
     },
     "metadata": {
      "needs_background": "light"
     },
     "output_type": "display_data"
    },
    {
     "name": "stdout",
     "output_type": "stream",
     "text": [
      "Бинарная переменная \"car\":\n",
      "N    49832\n",
      "Y    23967\n",
      "Name: car, dtype: int64\n"
     ]
    },
    {
     "data": {
      "image/png": "[encoded data removed]",
      "text/plain": [
       "<Figure size 432x288 with 1 Axes>"
      ]
     },
     "metadata": {
      "needs_background": "light"
     },
     "output_type": "display_data"
    },
    {
     "name": "stdout",
     "output_type": "stream",
     "text": [
      "Бинарная переменная \"car_type\":\n",
      "N    59791\n",
      "Y    14008\n",
      "Name: car_type, dtype: int64\n"
     ]
    },
    {
     "data": {
      "image/png": "[encoded data removed]",
      "text/plain": [
       "<Figure size 432x288 with 1 Axes>"
      ]
     },
     "metadata": {
      "needs_background": "light"
     },
     "output_type": "display_data"
    },
    {
     "name": "stdout",
     "output_type": "stream",
     "text": [
      "Бинарная переменная \"good_work\":\n",
      "0    61630\n",
      "1    12169\n",
      "Name: good_work, dtype: int64\n"
     ]
    },
    {
     "data": {
      "image/png": "[encoded data removed]",
      "text/plain": [
       "<Figure size 432x288 with 1 Axes>"
      ]
     },
     "metadata": {
      "needs_background": "light"
     },
     "output_type": "display_data"
    },
    {
     "name": "stdout",
     "output_type": "stream",
     "text": [
      "Бинарная переменная \"foreign_passport\":\n",
      "N    62733\n",
      "Y    11066\n",
      "Name: foreign_passport, dtype: int64\n"
     ]
    },
    {
     "data": {
      "image/png": "[encoded data removed]",
      "text/plain": [
       "<Figure size 432x288 with 1 Axes>"
      ]
     },
     "metadata": {
      "needs_background": "light"
     },
     "output_type": "display_data"
    }
   ],
   "source": [
    "# работаем по циклу с переменными \n",
    "# рассматриваем для строк из датасета train\n",
    "for col in bin_cols:\n",
    "    print('Бинарная переменная \"{a}\":'.format(a=col)) # выводим название переменной\n",
    "    print(data[col][data['train']==1].value_counts()) # выводим уникальные значения и их количество\n",
    "    # выводим распределение заемщиков по признакам\n",
    "    plt.figure()\n",
    "    sns.countplot(x=col, data=data[data['train']==1])\n",
    "    plt.show()"
   ]
  },
  {
   "cell_type": "markdown",
   "metadata": {
    "papermill": {
     "duration": 0.093961,
     "end_time": "2021-01-03T12:25:47.723193",
     "exception": false,
     "start_time": "2021-01-03T12:25:47.629232",
     "status": "completed"
    },
    "tags": []
   },
   "source": [
    "### Выводы:\n",
    "#### в переменной \"sex\" значения распределены примерно поровну,\n",
    "#### в остальных переменные распределение неравномерно - имеется серьезное преобладание одного из признаков."
   ]
  },
  {
   "cell_type": "markdown",
   "metadata": {
    "papermill": {
     "duration": 0.095622,
     "end_time": "2021-01-03T12:25:47.914052",
     "exception": false,
     "start_time": "2021-01-03T12:25:47.818430",
     "status": "completed"
    },
    "tags": []
   },
   "source": [
    "**4.4 Числовые переменные**"
   ]
  },
  {
   "cell_type": "code",
   "execution_count": null,
   "metadata": {
    "execution": {
     "iopub.execute_input": "2021-01-03T12:25:48.107806Z",
     "iopub.status.busy": "2021-01-03T12:25:48.107080Z",
     "iopub.status.idle": "2021-01-03T12:25:49.792717Z",
     "shell.execute_reply": "2021-01-03T12:25:49.791596Z"
    },
    "papermill": {
     "duration": 1.782453,
     "end_time": "2021-01-03T12:25:49.792843",
     "exception": false,
     "start_time": "2021-01-03T12:25:48.010390",
     "status": "completed"
    },
    "tags": []
   },
   "outputs": [],
   "source": [
    "# работаем по циклу с переменными \n",
    "# рассматриваем для строк из датасета train\n",
    "for col in num_cols:\n",
    "    print('Числовая переменная \"{a}\":'.format(a=col)) # выводим название переменной\n",
    "    print(data[col][data['train']==1].describe())\n",
    "    # выводим распределение заемщиков по признакам\n",
    "    data[col].hist(bins=20)\n",
    "    plt.show()"
   ]
  },
  {
   "cell_type": "code",
   "execution_count": 33,
   "metadata": {
    "execution": {
     "iopub.execute_input": "2021-01-03T12:25:50.008106Z",
     "iopub.status.busy": "2021-01-03T12:25:50.007322Z",
     "iopub.status.idle": "2021-01-03T12:25:51.556739Z",
     "shell.execute_reply": "2021-01-03T12:25:51.556196Z"
    },
    "papermill": {
     "duration": 1.660551,
     "end_time": "2021-01-03T12:25:51.556858",
     "exception": false,
     "start_time": "2021-01-03T12:25:49.896307",
     "status": "completed"
    },
    "tags": []
   },
   "outputs": [
    {
     "name": "stdout",
     "output_type": "stream",
     "text": [
      "Числовая переменная \"age\":\n",
      "count    73799.000000\n",
      "mean        39.280641\n",
      "std         11.520378\n",
      "min         21.000000\n",
      "25%         30.000000\n",
      "50%         37.000000\n",
      "75%         48.000000\n",
      "max         72.000000\n",
      "Name: age, dtype: float64\n"
     ]
    },
    {
     "data": {
      "image/png": "[encoded data removed]",
      "text/plain": [
       "<Figure size 432x288 with 1 Axes>"
      ]
     },
     "metadata": {
      "needs_background": "light"
     },
     "output_type": "display_data"
    },
    {
     "name": "stdout",
     "output_type": "stream",
     "text": [
      "Числовая переменная \"decline_app_cnt\":\n",
      "count    73799.000000\n",
      "mean         0.275749\n",
      "std          0.804272\n",
      "min          0.000000\n",
      "25%          0.000000\n",
      "50%          0.000000\n",
      "75%          0.000000\n",
      "max         33.000000\n",
      "Name: decline_app_cnt, dtype: float64\n"
     ]
    },
    {
     "data": {
      "image/png": "[encoded data removed]",
      "text/plain": [
       "<Figure size 432x288 with 1 Axes>"
      ]
     },
     "metadata": {
      "needs_background": "light"
     },
     "output_type": "display_data"
    },
    {
     "name": "stdout",
     "output_type": "stream",
     "text": [
      "Числовая переменная \"score_bki\":\n",
      "count    73799.000000\n",
      "mean        -1.904724\n",
      "std          0.498231\n",
      "min         -3.624586\n",
      "25%         -2.259534\n",
      "50%         -1.920823\n",
      "75%         -1.569831\n",
      "max          0.199773\n",
      "Name: score_bki, dtype: float64\n"
     ]
    },
    {
     "name": "stderr",
     "output_type": "stream",
     "text": [
      "/Users/vaceslav/opt/anaconda3/lib/python3.8/site-packages/pandas/core/series.py:726: RuntimeWarning: invalid value encountered in log\n",
      "  result = getattr(ufunc, method)(*inputs, **kwargs)\n"
     ]
    },
    {
     "data": {
      "image/png": "[encoded data removed]",
      "text/plain": [
       "<Figure size 432x288 with 1 Axes>"
      ]
     },
     "metadata": {
      "needs_background": "light"
     },
     "output_type": "display_data"
    },
    {
     "name": "stdout",
     "output_type": "stream",
     "text": [
      "Числовая переменная \"bki_request_cnt\":\n",
      "count    73799.000000\n",
      "mean         2.000339\n",
      "std          2.252073\n",
      "min          0.000000\n",
      "25%          0.000000\n",
      "50%          1.000000\n",
      "75%          3.000000\n",
      "max         53.000000\n",
      "Name: bki_request_cnt, dtype: float64\n"
     ]
    },
    {
     "data": {
      "image/png": "[encoded data removed]",
      "text/plain": [
       "<Figure size 432x288 with 1 Axes>"
      ]
     },
     "metadata": {
      "needs_background": "light"
     },
     "output_type": "display_data"
    },
    {
     "name": "stdout",
     "output_type": "stream",
     "text": [
      "Числовая переменная \"region_rating\":\n",
      "count    73799.000000\n",
      "mean        56.725701\n",
      "std         13.055717\n",
      "min         20.000000\n",
      "25%         50.000000\n",
      "50%         50.000000\n",
      "75%         60.000000\n",
      "max         80.000000\n",
      "Name: region_rating, dtype: float64\n"
     ]
    },
    {
     "data": {
      "image/png": "[encoded data removed]",
      "text/plain": [
       "<Figure size 432x288 with 1 Axes>"
      ]
     },
     "metadata": {
      "needs_background": "light"
     },
     "output_type": "display_data"
    },
    {
     "name": "stdout",
     "output_type": "stream",
     "text": [
      "Числовая переменная \"income\":\n",
      "count      73799.000000\n",
      "mean       41099.775417\n",
      "std        46166.322400\n",
      "min         1000.000000\n",
      "25%        20000.000000\n",
      "50%        30000.000000\n",
      "75%        48000.000000\n",
      "max      1000000.000000\n",
      "Name: income, dtype: float64\n"
     ]
    },
    {
     "data": {
      "image/png": "[encoded data removed]",
      "text/plain": [
       "<Figure size 432x288 with 1 Axes>"
      ]
     },
     "metadata": {
      "needs_background": "light"
     },
     "output_type": "display_data"
    },
    {
     "name": "stdout",
     "output_type": "stream",
     "text": [
      "Числовая переменная \"share_of_def\":\n",
      "count    73799.000000\n",
      "mean         0.126994\n",
      "std          0.020828\n",
      "min          0.076596\n",
      "25%          0.115489\n",
      "50%          0.129464\n",
      "75%          0.140306\n",
      "max          0.203252\n",
      "Name: share_of_def, dtype: float64\n"
     ]
    },
    {
     "data": {
      "image/png": "[encoded data removed]",
      "text/plain": [
       "<Figure size 432x288 with 1 Axes>"
      ]
     },
     "metadata": {
      "needs_background": "light"
     },
     "output_type": "display_data"
    },
    {
     "name": "stdout",
     "output_type": "stream",
     "text": [
      "Числовая переменная \"num_of_app\":\n",
      "count    73799.000000\n",
      "mean      1003.073212\n",
      "std        235.056937\n",
      "min         56.000000\n",
      "25%        848.000000\n",
      "50%       1071.000000\n",
      "75%       1173.000000\n",
      "max       1491.000000\n",
      "Name: num_of_app, dtype: float64\n"
     ]
    },
    {
     "data": {
      "image/png": "[encoded data removed]",
      "text/plain": [
       "<Figure size 432x288 with 1 Axes>"
      ]
     },
     "metadata": {
      "needs_background": "light"
     },
     "output_type": "display_data"
    }
   ],
   "source": [
    "# посмотрим на распределение логарифмов переменных\n",
    "# рассматриваем для строк из датасета train\n",
    "for col in num_cols:\n",
    "    print('Числовая переменная \"{a}\":'.format(a=col)) # выводим название переменной\n",
    "    print(data[col][data['train']==1].describe())\n",
    "    # выводим распределение заемщиков по признакам\n",
    "    np.log(data[col]+1).hist(bins=20)\n",
    "    plt.show()"
   ]
  },
  {
   "cell_type": "code",
   "execution_count": 34,
   "metadata": {
    "execution": {
     "iopub.execute_input": "2021-01-03T12:25:51.791201Z",
     "iopub.status.busy": "2021-01-03T12:25:51.790489Z",
     "iopub.status.idle": "2021-01-03T12:25:53.414966Z",
     "shell.execute_reply": "2021-01-03T12:25:53.413976Z"
    },
    "papermill": {
     "duration": 1.745324,
     "end_time": "2021-01-03T12:25:53.415091",
     "exception": false,
     "start_time": "2021-01-03T12:25:51.669767",
     "status": "completed"
    },
    "tags": []
   },
   "outputs": [
    {
     "name": "stdout",
     "output_type": "stream",
     "text": [
      "Числовая переменная \"age\":\n",
      "count    73799.000000\n",
      "mean        39.280641\n",
      "std         11.520378\n",
      "min         21.000000\n",
      "25%         30.000000\n",
      "50%         37.000000\n",
      "75%         48.000000\n",
      "max         72.000000\n",
      "Name: age, dtype: float64\n"
     ]
    },
    {
     "data": {
      "image/png": "[encoded data removed]",
      "text/plain": [
       "<Figure size 432x288 with 1 Axes>"
      ]
     },
     "metadata": {
      "needs_background": "light"
     },
     "output_type": "display_data"
    },
    {
     "name": "stdout",
     "output_type": "stream",
     "text": [
      "Числовая переменная \"decline_app_cnt\":\n",
      "count    73799.000000\n",
      "mean         0.275749\n",
      "std          0.804272\n",
      "min          0.000000\n",
      "25%          0.000000\n",
      "50%          0.000000\n",
      "75%          0.000000\n",
      "max         33.000000\n",
      "Name: decline_app_cnt, dtype: float64\n"
     ]
    },
    {
     "data": {
      "image/png": "[encoded data removed]",
      "text/plain": [
       "<Figure size 432x288 with 1 Axes>"
      ]
     },
     "metadata": {
      "needs_background": "light"
     },
     "output_type": "display_data"
    },
    {
     "name": "stdout",
     "output_type": "stream",
     "text": [
      "Числовая переменная \"score_bki\":\n",
      "count    73799.000000\n",
      "mean        -1.904724\n",
      "std          0.498231\n",
      "min         -3.624586\n",
      "25%         -2.259534\n",
      "50%         -1.920823\n",
      "75%         -1.569831\n",
      "max          0.199773\n",
      "Name: score_bki, dtype: float64\n"
     ]
    },
    {
     "name": "stderr",
     "output_type": "stream",
     "text": [
      "/Users/vaceslav/opt/anaconda3/lib/python3.8/site-packages/pandas/core/series.py:726: RuntimeWarning: invalid value encountered in sqrt\n",
      "  result = getattr(ufunc, method)(*inputs, **kwargs)\n"
     ]
    },
    {
     "data": {
      "image/png": "[encoded data removed]",
      "text/plain": [
       "<Figure size 432x288 with 1 Axes>"
      ]
     },
     "metadata": {
      "needs_background": "light"
     },
     "output_type": "display_data"
    },
    {
     "name": "stdout",
     "output_type": "stream",
     "text": [
      "Числовая переменная \"bki_request_cnt\":\n",
      "count    73799.000000\n",
      "mean         2.000339\n",
      "std          2.252073\n",
      "min          0.000000\n",
      "25%          0.000000\n",
      "50%          1.000000\n",
      "75%          3.000000\n",
      "max         53.000000\n",
      "Name: bki_request_cnt, dtype: float64\n"
     ]
    },
    {
     "data": {
      "image/png": "[encoded data removed]",
      "text/plain": [
       "<Figure size 432x288 with 1 Axes>"
      ]
     },
     "metadata": {
      "needs_background": "light"
     },
     "output_type": "display_data"
    },
    {
     "name": "stdout",
     "output_type": "stream",
     "text": [
      "Числовая переменная \"region_rating\":\n",
      "count    73799.000000\n",
      "mean        56.725701\n",
      "std         13.055717\n",
      "min         20.000000\n",
      "25%         50.000000\n",
      "50%         50.000000\n",
      "75%         60.000000\n",
      "max         80.000000\n",
      "Name: region_rating, dtype: float64\n"
     ]
    },
    {
     "data": {
      "image/png": "[encoded data removed]",
      "text/plain": [
       "<Figure size 432x288 with 1 Axes>"
      ]
     },
     "metadata": {
      "needs_background": "light"
     },
     "output_type": "display_data"
    },
    {
     "name": "stdout",
     "output_type": "stream",
     "text": [
      "Числовая переменная \"income\":\n",
      "count      73799.000000\n",
      "mean       41099.775417\n",
      "std        46166.322400\n",
      "min         1000.000000\n",
      "25%        20000.000000\n",
      "50%        30000.000000\n",
      "75%        48000.000000\n",
      "max      1000000.000000\n",
      "Name: income, dtype: float64\n"
     ]
    },
    {
     "data": {
      "image/png": "[encoded data removed]",
      "text/plain": [
       "<Figure size 432x288 with 1 Axes>"
      ]
     },
     "metadata": {
      "needs_background": "light"
     },
     "output_type": "display_data"
    },
    {
     "name": "stdout",
     "output_type": "stream",
     "text": [
      "Числовая переменная \"share_of_def\":\n",
      "count    73799.000000\n",
      "mean         0.126994\n",
      "std          0.020828\n",
      "min          0.076596\n",
      "25%          0.115489\n",
      "50%          0.129464\n",
      "75%          0.140306\n",
      "max          0.203252\n",
      "Name: share_of_def, dtype: float64\n"
     ]
    },
    {
     "data": {
      "image/png": "[encoded data removed]",
      "text/plain": [
       "<Figure size 432x288 with 1 Axes>"
      ]
     },
     "metadata": {
      "needs_background": "light"
     },
     "output_type": "display_data"
    },
    {
     "name": "stdout",
     "output_type": "stream",
     "text": [
      "Числовая переменная \"num_of_app\":\n",
      "count    73799.000000\n",
      "mean      1003.073212\n",
      "std        235.056937\n",
      "min         56.000000\n",
      "25%        848.000000\n",
      "50%       1071.000000\n",
      "75%       1173.000000\n",
      "max       1491.000000\n",
      "Name: num_of_app, dtype: float64\n"
     ]
    },
    {
     "data": {
      "image/png": "[encoded data removed]",
      "text/plain": [
       "<Figure size 432x288 with 1 Axes>"
      ]
     },
     "metadata": {
      "needs_background": "light"
     },
     "output_type": "display_data"
    }
   ],
   "source": [
    "# посмотрим на распределение квадратных корней из переменных\n",
    "# рассматриваем для строк из датасета train\n",
    "for col in num_cols:\n",
    "    print('Числовая переменная \"{a}\":'.format(a=col)) # выводим название переменной\n",
    "    print(data[col][data['train']==1].describe())\n",
    "    # выводим распределение заемщиков по признакам\n",
    "    np.sqrt(data[col]+1).hist(bins=20)\n",
    "    plt.show()"
   ]
  },
  {
   "cell_type": "markdown",
   "metadata": {
    "papermill": {
     "duration": 0.12073,
     "end_time": "2021-01-03T12:25:53.656786",
     "exception": false,
     "start_time": "2021-01-03T12:25:53.536056",
     "status": "completed"
    },
    "tags": []
   },
   "source": [
    "#### Видим, что для переменных \"age\", \"bki_request_cnt\", \"income\" распределение логарифов более нормальное. Поэтому заменим значения тих переменных в датасете data на логарифмы. Переменные \"decline_app_cnt\" \"score_bki\"б \"region_rating\" оставим без изменений - логарифмирование и извлечение квадратного корня не делают распределение более нормальным."
   ]
  },
  {
   "cell_type": "code",
   "execution_count": 35,
   "metadata": {
    "execution": {
     "iopub.execute_input": "2021-01-03T12:25:53.907584Z",
     "iopub.status.busy": "2021-01-03T12:25:53.906897Z",
     "iopub.status.idle": "2021-01-03T12:25:53.932596Z",
     "shell.execute_reply": "2021-01-03T12:25:53.933089Z"
    },
    "papermill": {
     "duration": 0.154113,
     "end_time": "2021-01-03T12:25:53.933237",
     "exception": false,
     "start_time": "2021-01-03T12:25:53.779124",
     "status": "completed"
    },
    "tags": []
   },
   "outputs": [],
   "source": [
    "# замену производим для всего датасета data\n",
    "data['age'] = np.log(data['age']+1)\n",
    "data['bki_request_cnt'] = np.log(data['bki_request_cnt']+1)\n",
    "data['income'] = np.log(data['income']+1)"
   ]
  },
  {
   "cell_type": "code",
   "execution_count": 36,
   "metadata": {
    "execution": {
     "iopub.execute_input": "2021-01-03T12:25:54.185528Z",
     "iopub.status.busy": "2021-01-03T12:25:54.184898Z",
     "iopub.status.idle": "2021-01-03T12:25:55.873349Z",
     "shell.execute_reply": "2021-01-03T12:25:55.873892Z"
    },
    "papermill": {
     "duration": 1.816528,
     "end_time": "2021-01-03T12:25:55.874037",
     "exception": false,
     "start_time": "2021-01-03T12:25:54.057509",
     "status": "completed"
    },
    "tags": []
   },
   "outputs": [
    {
     "name": "stdout",
     "output_type": "stream",
     "text": [
      "Числовая переменная \"age\":\n",
      "count    110148.000000\n",
      "mean          3.654546\n",
      "std           0.285054\n",
      "min           3.091042\n",
      "25%           3.433987\n",
      "50%           3.637586\n",
      "75%           3.891820\n",
      "max           4.290459\n",
      "Name: age, dtype: float64\n"
     ]
    },
    {
     "data": {
      "image/png": "[encoded data removed]",
      "text/plain": [
       "<Figure size 432x288 with 1 Axes>"
      ]
     },
     "metadata": {
      "needs_background": "light"
     },
     "output_type": "display_data"
    },
    {
     "name": "stdout",
     "output_type": "stream",
     "text": [
      "Числовая переменная \"decline_app_cnt\":\n",
      "count    110148.000000\n",
      "mean          0.273205\n",
      "std           0.799099\n",
      "min           0.000000\n",
      "25%           0.000000\n",
      "50%           0.000000\n",
      "75%           0.000000\n",
      "max          33.000000\n",
      "Name: decline_app_cnt, dtype: float64\n"
     ]
    },
    {
     "data": {
      "image/png": "[encoded data removed]",
      "text/plain": [
       "<Figure size 432x288 with 1 Axes>"
      ]
     },
     "metadata": {
      "needs_background": "light"
     },
     "output_type": "display_data"
    },
    {
     "name": "stdout",
     "output_type": "stream",
     "text": [
      "Числовая переменная \"score_bki\":\n",
      "count    110148.000000\n",
      "mean         -1.904535\n",
      "std           0.499397\n",
      "min          -3.624586\n",
      "25%          -2.260434\n",
      "50%          -1.920823\n",
      "75%          -1.567888\n",
      "max           0.199773\n",
      "Name: score_bki, dtype: float64\n"
     ]
    },
    {
     "data": {
      "image/png": "[encoded data removed]",
      "text/plain": [
       "<Figure size 432x288 with 1 Axes>"
      ]
     },
     "metadata": {
      "needs_background": "light"
     },
     "output_type": "display_data"
    },
    {
     "name": "stdout",
     "output_type": "stream",
     "text": [
      "Числовая переменная \"bki_request_cnt\":\n",
      "count    110148.000000\n",
      "mean          0.878752\n",
      "std           0.658667\n",
      "min           0.000000\n",
      "25%           0.000000\n",
      "50%           0.693147\n",
      "75%           1.386294\n",
      "max           3.988984\n",
      "Name: bki_request_cnt, dtype: float64\n"
     ]
    },
    {
     "data": {
      "image/png": "[encoded data removed]",
      "text/plain": [
       "<Figure size 432x288 with 1 Axes>"
      ]
     },
     "metadata": {
      "needs_background": "light"
     },
     "output_type": "display_data"
    },
    {
     "name": "stdout",
     "output_type": "stream",
     "text": [
      "Числовая переменная \"region_rating\":\n",
      "count    110148.000000\n",
      "mean         56.751189\n",
      "std          13.065923\n",
      "min          20.000000\n",
      "25%          50.000000\n",
      "50%          50.000000\n",
      "75%          60.000000\n",
      "max          80.000000\n",
      "Name: region_rating, dtype: float64\n"
     ]
    },
    {
     "data": {
      "image/png": "[encoded data removed]",
      "text/plain": [
       "<Figure size 432x288 with 1 Axes>"
      ]
     },
     "metadata": {
      "needs_background": "light"
     },
     "output_type": "display_data"
    },
    {
     "name": "stdout",
     "output_type": "stream",
     "text": [
      "Числовая переменная \"income\":\n",
      "count    110148.000000\n",
      "mean         10.345792\n",
      "std           0.696636\n",
      "min           6.908755\n",
      "25%           9.903538\n",
      "50%          10.308986\n",
      "75%          10.778977\n",
      "max          13.815512\n",
      "Name: income, dtype: float64\n"
     ]
    },
    {
     "data": {
      "image/png": "[encoded data removed]",
      "text/plain": [
       "<Figure size 432x288 with 1 Axes>"
      ]
     },
     "metadata": {
      "needs_background": "light"
     },
     "output_type": "display_data"
    },
    {
     "name": "stdout",
     "output_type": "stream",
     "text": [
      "Числовая переменная \"share_of_def\":\n",
      "count    110148.000000\n",
      "mean          0.127022\n",
      "std           0.020775\n",
      "min           0.076596\n",
      "25%           0.115489\n",
      "50%           0.129464\n",
      "75%           0.140306\n",
      "max           0.203252\n",
      "Name: share_of_def, dtype: float64\n"
     ]
    },
    {
     "data": {
      "image/png": "[encoded data removed]",
      "text/plain": [
       "<Figure size 432x288 with 1 Axes>"
      ]
     },
     "metadata": {
      "needs_background": "light"
     },
     "output_type": "display_data"
    },
    {
     "name": "stdout",
     "output_type": "stream",
     "text": [
      "Числовая переменная \"num_of_app\":\n",
      "count    110148.000000\n",
      "mean       1002.761267\n",
      "std         234.959584\n",
      "min          56.000000\n",
      "25%         848.000000\n",
      "50%        1071.000000\n",
      "75%        1173.000000\n",
      "max        1491.000000\n",
      "Name: num_of_app, dtype: float64\n"
     ]
    },
    {
     "data": {
      "image/png": "[encoded data removed]",
      "text/plain": [
       "<Figure size 432x288 with 1 Axes>"
      ]
     },
     "metadata": {
      "needs_background": "light"
     },
     "output_type": "display_data"
    }
   ],
   "source": [
    "# посмотрим на распределения получишихся переменных\n",
    "# смотрим для всего датасета data\n",
    "for col in num_cols:\n",
    "    print('Числовая переменная \"{a}\":'.format(a=col)) # выводим название переменной\n",
    "    print(data[col].describe())\n",
    "    # выводим распределение заемщиков по признакам\n",
    "    data[col].hist(bins=20)\n",
    "    plt.show()"
   ]
  },
  {
   "cell_type": "markdown",
   "metadata": {
    "papermill": {
     "duration": 0.130121,
     "end_time": "2021-01-03T12:25:56.781102",
     "exception": false,
     "start_time": "2021-01-03T12:25:56.650981",
     "status": "completed"
    },
    "tags": []
   },
   "source": [
    "# **5. Оценка значимости переменных**"
   ]
  },
  {
   "cell_type": "markdown",
   "metadata": {
    "papermill": {
     "duration": 0.138619,
     "end_time": "2021-01-03T12:25:57.053563",
     "exception": false,
     "start_time": "2021-01-03T12:25:56.914944",
     "status": "completed"
    },
    "tags": []
   },
   "source": [
    "**5.1 Преобразования бинарных переменных**"
   ]
  },
  {
   "cell_type": "code",
   "execution_count": 38,
   "metadata": {
    "execution": {
     "iopub.execute_input": "2021-01-03T12:25:57.321913Z",
     "iopub.status.busy": "2021-01-03T12:25:57.321191Z",
     "iopub.status.idle": "2021-01-03T12:25:57.341398Z",
     "shell.execute_reply": "2021-01-03T12:25:57.340889Z"
    },
    "papermill": {
     "duration": 0.156312,
     "end_time": "2021-01-03T12:25:57.341510",
     "exception": false,
     "start_time": "2021-01-03T12:25:57.185198",
     "status": "completed"
    },
    "tags": []
   },
   "outputs": [
    {
     "data": {
      "text/html": [
       "<div>\n",
       "<style scoped>\n",
       "    .dataframe tbody tr th:only-of-type {\n",
       "        vertical-align: middle;\n",
       "    }\n",
       "\n",
       "    .dataframe tbody tr th {\n",
       "        vertical-align: top;\n",
       "    }\n",
       "\n",
       "    .dataframe thead th {\n",
       "        text-align: right;\n",
       "    }\n",
       "</style>\n",
       "<table border=\"1\" class=\"dataframe\">\n",
       "  <thead>\n",
       "    <tr style=\"text-align: right;\">\n",
       "      <th></th>\n",
       "      <th>sex</th>\n",
       "      <th>car</th>\n",
       "      <th>car_type</th>\n",
       "      <th>good_work</th>\n",
       "      <th>foreign_passport</th>\n",
       "    </tr>\n",
       "  </thead>\n",
       "  <tbody>\n",
       "    <tr>\n",
       "      <th>0</th>\n",
       "      <td>M</td>\n",
       "      <td>Y</td>\n",
       "      <td>Y</td>\n",
       "      <td>0</td>\n",
       "      <td>N</td>\n",
       "    </tr>\n",
       "    <tr>\n",
       "      <th>1</th>\n",
       "      <td>F</td>\n",
       "      <td>N</td>\n",
       "      <td>N</td>\n",
       "      <td>0</td>\n",
       "      <td>N</td>\n",
       "    </tr>\n",
       "    <tr>\n",
       "      <th>2</th>\n",
       "      <td>M</td>\n",
       "      <td>Y</td>\n",
       "      <td>N</td>\n",
       "      <td>0</td>\n",
       "      <td>Y</td>\n",
       "    </tr>\n",
       "    <tr>\n",
       "      <th>3</th>\n",
       "      <td>F</td>\n",
       "      <td>N</td>\n",
       "      <td>N</td>\n",
       "      <td>0</td>\n",
       "      <td>N</td>\n",
       "    </tr>\n",
       "    <tr>\n",
       "      <th>4</th>\n",
       "      <td>M</td>\n",
       "      <td>N</td>\n",
       "      <td>N</td>\n",
       "      <td>1</td>\n",
       "      <td>Y</td>\n",
       "    </tr>\n",
       "    <tr>\n",
       "      <th>...</th>\n",
       "      <td>...</td>\n",
       "      <td>...</td>\n",
       "      <td>...</td>\n",
       "      <td>...</td>\n",
       "      <td>...</td>\n",
       "    </tr>\n",
       "    <tr>\n",
       "      <th>110143</th>\n",
       "      <td>F</td>\n",
       "      <td>N</td>\n",
       "      <td>N</td>\n",
       "      <td>0</td>\n",
       "      <td>N</td>\n",
       "    </tr>\n",
       "    <tr>\n",
       "      <th>110144</th>\n",
       "      <td>F</td>\n",
       "      <td>Y</td>\n",
       "      <td>Y</td>\n",
       "      <td>0</td>\n",
       "      <td>N</td>\n",
       "    </tr>\n",
       "    <tr>\n",
       "      <th>110145</th>\n",
       "      <td>M</td>\n",
       "      <td>N</td>\n",
       "      <td>N</td>\n",
       "      <td>0</td>\n",
       "      <td>N</td>\n",
       "    </tr>\n",
       "    <tr>\n",
       "      <th>110146</th>\n",
       "      <td>F</td>\n",
       "      <td>N</td>\n",
       "      <td>N</td>\n",
       "      <td>0</td>\n",
       "      <td>N</td>\n",
       "    </tr>\n",
       "    <tr>\n",
       "      <th>110147</th>\n",
       "      <td>M</td>\n",
       "      <td>N</td>\n",
       "      <td>N</td>\n",
       "      <td>0</td>\n",
       "      <td>N</td>\n",
       "    </tr>\n",
       "  </tbody>\n",
       "</table>\n",
       "<p>110148 rows × 5 columns</p>\n",
       "</div>"
      ],
      "text/plain": [
       "       sex car car_type  good_work foreign_passport\n",
       "0        M   Y        Y          0                N\n",
       "1        F   N        N          0                N\n",
       "2        M   Y        N          0                Y\n",
       "3        F   N        N          0                N\n",
       "4        M   N        N          1                Y\n",
       "...     ..  ..      ...        ...              ...\n",
       "110143   F   N        N          0                N\n",
       "110144   F   Y        Y          0                N\n",
       "110145   M   N        N          0                N\n",
       "110146   F   N        N          0                N\n",
       "110147   M   N        N          0                N\n",
       "\n",
       "[110148 rows x 5 columns]"
      ]
     },
     "execution_count": 38,
     "metadata": {},
     "output_type": "execute_result"
    }
   ],
   "source": [
    "# посмотрим детальнее, какие данные хранятся в бинарных переменных\n",
    "data[bin_cols]"
   ]
  },
  {
   "cell_type": "code",
   "execution_count": 39,
   "metadata": {
    "execution": {
     "iopub.execute_input": "2021-01-03T12:25:57.649685Z",
     "iopub.status.busy": "2021-01-03T12:25:57.648950Z",
     "iopub.status.idle": "2021-01-03T12:25:57.775110Z",
     "shell.execute_reply": "2021-01-03T12:25:57.774525Z"
    },
    "papermill": {
     "duration": 0.302148,
     "end_time": "2021-01-03T12:25:57.775229",
     "exception": false,
     "start_time": "2021-01-03T12:25:57.473081",
     "status": "completed"
    },
    "tags": []
   },
   "outputs": [],
   "source": [
    "# преобразуем даные с помощью метода fit класса LabelEncoder\n",
    "# работаем со всем датасетом data\n",
    "label_encoder = LabelEncoder()\n",
    "for col in bin_cols:\n",
    "    data[col] = pd.Series(label_encoder.fit_transform(data[col]))"
   ]
  },
  {
   "cell_type": "code",
   "execution_count": 40,
   "metadata": {
    "execution": {
     "iopub.execute_input": "2021-01-03T12:25:58.047774Z",
     "iopub.status.busy": "2021-01-03T12:25:58.047059Z",
     "iopub.status.idle": "2021-01-03T12:25:58.066911Z",
     "shell.execute_reply": "2021-01-03T12:25:58.066334Z"
    },
    "papermill": {
     "duration": 0.159824,
     "end_time": "2021-01-03T12:25:58.067024",
     "exception": false,
     "start_time": "2021-01-03T12:25:57.907200",
     "status": "completed"
    },
    "tags": []
   },
   "outputs": [
    {
     "data": {
      "text/html": [
       "<div>\n",
       "<style scoped>\n",
       "    .dataframe tbody tr th:only-of-type {\n",
       "        vertical-align: middle;\n",
       "    }\n",
       "\n",
       "    .dataframe tbody tr th {\n",
       "        vertical-align: top;\n",
       "    }\n",
       "\n",
       "    .dataframe thead th {\n",
       "        text-align: right;\n",
       "    }\n",
       "</style>\n",
       "<table border=\"1\" class=\"dataframe\">\n",
       "  <thead>\n",
       "    <tr style=\"text-align: right;\">\n",
       "      <th></th>\n",
       "      <th>sex</th>\n",
       "      <th>car</th>\n",
       "      <th>car_type</th>\n",
       "      <th>good_work</th>\n",
       "      <th>foreign_passport</th>\n",
       "    </tr>\n",
       "  </thead>\n",
       "  <tbody>\n",
       "    <tr>\n",
       "      <th>0</th>\n",
       "      <td>1</td>\n",
       "      <td>1</td>\n",
       "      <td>1</td>\n",
       "      <td>0</td>\n",
       "      <td>0</td>\n",
       "    </tr>\n",
       "    <tr>\n",
       "      <th>1</th>\n",
       "      <td>0</td>\n",
       "      <td>0</td>\n",
       "      <td>0</td>\n",
       "      <td>0</td>\n",
       "      <td>0</td>\n",
       "    </tr>\n",
       "    <tr>\n",
       "      <th>2</th>\n",
       "      <td>1</td>\n",
       "      <td>1</td>\n",
       "      <td>0</td>\n",
       "      <td>0</td>\n",
       "      <td>1</td>\n",
       "    </tr>\n",
       "    <tr>\n",
       "      <th>3</th>\n",
       "      <td>0</td>\n",
       "      <td>0</td>\n",
       "      <td>0</td>\n",
       "      <td>0</td>\n",
       "      <td>0</td>\n",
       "    </tr>\n",
       "    <tr>\n",
       "      <th>4</th>\n",
       "      <td>1</td>\n",
       "      <td>0</td>\n",
       "      <td>0</td>\n",
       "      <td>1</td>\n",
       "      <td>1</td>\n",
       "    </tr>\n",
       "  </tbody>\n",
       "</table>\n",
       "</div>"
      ],
      "text/plain": [
       "   sex  car  car_type  good_work  foreign_passport\n",
       "0    1    1         1          0                 0\n",
       "1    0    0         0          0                 0\n",
       "2    1    1         0          0                 1\n",
       "3    0    0         0          0                 0\n",
       "4    1    0         0          1                 1"
      ]
     },
     "execution_count": 40,
     "metadata": {},
     "output_type": "execute_result"
    }
   ],
   "source": [
    "# проверим преобразования\n",
    "data[bin_cols].head()"
   ]
  },
  {
   "cell_type": "markdown",
   "metadata": {
    "papermill": {
     "duration": 0.133915,
     "end_time": "2021-01-03T12:25:58.334323",
     "exception": false,
     "start_time": "2021-01-03T12:25:58.200408",
     "status": "completed"
    },
    "tags": []
   },
   "source": [
    "**5.2 Преобразования категориальных переменных**"
   ]
  },
  {
   "cell_type": "code",
   "execution_count": 41,
   "metadata": {
    "execution": {
     "iopub.execute_input": "2021-01-03T12:25:58.607250Z",
     "iopub.status.busy": "2021-01-03T12:25:58.606611Z",
     "iopub.status.idle": "2021-01-03T12:25:58.621222Z",
     "shell.execute_reply": "2021-01-03T12:25:58.620573Z"
    },
    "papermill": {
     "duration": 0.152536,
     "end_time": "2021-01-03T12:25:58.621337",
     "exception": false,
     "start_time": "2021-01-03T12:25:58.468801",
     "status": "completed"
    },
    "tags": []
   },
   "outputs": [
    {
     "data": {
      "text/html": [
       "<div>\n",
       "<style scoped>\n",
       "    .dataframe tbody tr th:only-of-type {\n",
       "        vertical-align: middle;\n",
       "    }\n",
       "\n",
       "    .dataframe tbody tr th {\n",
       "        vertical-align: top;\n",
       "    }\n",
       "\n",
       "    .dataframe thead th {\n",
       "        text-align: right;\n",
       "    }\n",
       "</style>\n",
       "<table border=\"1\" class=\"dataframe\">\n",
       "  <thead>\n",
       "    <tr style=\"text-align: right;\">\n",
       "      <th></th>\n",
       "      <th>education</th>\n",
       "      <th>home_address</th>\n",
       "      <th>work_address</th>\n",
       "      <th>sna</th>\n",
       "      <th>first_time</th>\n",
       "    </tr>\n",
       "  </thead>\n",
       "  <tbody>\n",
       "    <tr>\n",
       "      <th>0</th>\n",
       "      <td>SCH</td>\n",
       "      <td>1</td>\n",
       "      <td>2</td>\n",
       "      <td>4</td>\n",
       "      <td>1</td>\n",
       "    </tr>\n",
       "    <tr>\n",
       "      <th>1</th>\n",
       "      <td>SCH</td>\n",
       "      <td>2</td>\n",
       "      <td>3</td>\n",
       "      <td>4</td>\n",
       "      <td>1</td>\n",
       "    </tr>\n",
       "    <tr>\n",
       "      <th>2</th>\n",
       "      <td>SCH</td>\n",
       "      <td>1</td>\n",
       "      <td>2</td>\n",
       "      <td>1</td>\n",
       "      <td>4</td>\n",
       "    </tr>\n",
       "    <tr>\n",
       "      <th>3</th>\n",
       "      <td>SCH</td>\n",
       "      <td>2</td>\n",
       "      <td>3</td>\n",
       "      <td>1</td>\n",
       "      <td>3</td>\n",
       "    </tr>\n",
       "    <tr>\n",
       "      <th>4</th>\n",
       "      <td>GRD</td>\n",
       "      <td>2</td>\n",
       "      <td>3</td>\n",
       "      <td>1</td>\n",
       "      <td>4</td>\n",
       "    </tr>\n",
       "    <tr>\n",
       "      <th>...</th>\n",
       "      <td>...</td>\n",
       "      <td>...</td>\n",
       "      <td>...</td>\n",
       "      <td>...</td>\n",
       "      <td>...</td>\n",
       "    </tr>\n",
       "    <tr>\n",
       "      <th>110143</th>\n",
       "      <td>SCH</td>\n",
       "      <td>2</td>\n",
       "      <td>3</td>\n",
       "      <td>4</td>\n",
       "      <td>1</td>\n",
       "    </tr>\n",
       "    <tr>\n",
       "      <th>110144</th>\n",
       "      <td>GRD</td>\n",
       "      <td>1</td>\n",
       "      <td>2</td>\n",
       "      <td>1</td>\n",
       "      <td>4</td>\n",
       "    </tr>\n",
       "    <tr>\n",
       "      <th>110145</th>\n",
       "      <td>GRD</td>\n",
       "      <td>1</td>\n",
       "      <td>2</td>\n",
       "      <td>4</td>\n",
       "      <td>2</td>\n",
       "    </tr>\n",
       "    <tr>\n",
       "      <th>110146</th>\n",
       "      <td>UGR</td>\n",
       "      <td>2</td>\n",
       "      <td>3</td>\n",
       "      <td>1</td>\n",
       "      <td>1</td>\n",
       "    </tr>\n",
       "    <tr>\n",
       "      <th>110147</th>\n",
       "      <td>SCH</td>\n",
       "      <td>1</td>\n",
       "      <td>2</td>\n",
       "      <td>4</td>\n",
       "      <td>2</td>\n",
       "    </tr>\n",
       "  </tbody>\n",
       "</table>\n",
       "<p>110148 rows × 5 columns</p>\n",
       "</div>"
      ],
      "text/plain": [
       "       education  home_address  work_address  sna  first_time\n",
       "0            SCH             1             2    4           1\n",
       "1            SCH             2             3    4           1\n",
       "2            SCH             1             2    1           4\n",
       "3            SCH             2             3    1           3\n",
       "4            GRD             2             3    1           4\n",
       "...          ...           ...           ...  ...         ...\n",
       "110143       SCH             2             3    4           1\n",
       "110144       GRD             1             2    1           4\n",
       "110145       GRD             1             2    4           2\n",
       "110146       UGR             2             3    1           1\n",
       "110147       SCH             1             2    4           2\n",
       "\n",
       "[110148 rows x 5 columns]"
      ]
     },
     "execution_count": 41,
     "metadata": {},
     "output_type": "execute_result"
    }
   ],
   "source": [
    "# посмотрим детальнее, какие данные хранятся в категориальных переменных\n",
    "data[cat_cols]"
   ]
  },
  {
   "cell_type": "code",
   "execution_count": 42,
   "metadata": {
    "execution": {
     "iopub.execute_input": "2021-01-03T12:25:58.892978Z",
     "iopub.status.busy": "2021-01-03T12:25:58.892305Z",
     "iopub.status.idle": "2021-01-03T12:25:58.937402Z",
     "shell.execute_reply": "2021-01-03T12:25:58.937919Z"
    },
    "papermill": {
     "duration": 0.183319,
     "end_time": "2021-01-03T12:25:58.938072",
     "exception": false,
     "start_time": "2021-01-03T12:25:58.754753",
     "status": "completed"
    },
    "tags": []
   },
   "outputs": [],
   "source": [
    "# преобразуем переменную \"education\"\n",
    "# работаем со всем датасетом data\n",
    "label_encoder = LabelEncoder()\n",
    "data['education'] = pd.Series(label_encoder.fit_transform(data['education']))"
   ]
  },
  {
   "cell_type": "code",
   "execution_count": 43,
   "metadata": {
    "execution": {
     "iopub.execute_input": "2021-01-03T12:25:59.214918Z",
     "iopub.status.busy": "2021-01-03T12:25:59.213400Z",
     "iopub.status.idle": "2021-01-03T12:25:59.238524Z",
     "shell.execute_reply": "2021-01-03T12:25:59.237894Z"
    },
    "papermill": {
     "duration": 0.166228,
     "end_time": "2021-01-03T12:25:59.238654",
     "exception": false,
     "start_time": "2021-01-03T12:25:59.072426",
     "status": "completed"
    },
    "tags": []
   },
   "outputs": [
    {
     "data": {
      "text/html": [
       "<div>\n",
       "<style scoped>\n",
       "    .dataframe tbody tr th:only-of-type {\n",
       "        vertical-align: middle;\n",
       "    }\n",
       "\n",
       "    .dataframe tbody tr th {\n",
       "        vertical-align: top;\n",
       "    }\n",
       "\n",
       "    .dataframe thead th {\n",
       "        text-align: right;\n",
       "    }\n",
       "</style>\n",
       "<table border=\"1\" class=\"dataframe\">\n",
       "  <thead>\n",
       "    <tr style=\"text-align: right;\">\n",
       "      <th></th>\n",
       "      <th>education</th>\n",
       "      <th>home_address</th>\n",
       "      <th>work_address</th>\n",
       "      <th>sna</th>\n",
       "      <th>first_time</th>\n",
       "    </tr>\n",
       "  </thead>\n",
       "  <tbody>\n",
       "    <tr>\n",
       "      <th>0</th>\n",
       "      <td>3</td>\n",
       "      <td>1</td>\n",
       "      <td>2</td>\n",
       "      <td>4</td>\n",
       "      <td>1</td>\n",
       "    </tr>\n",
       "    <tr>\n",
       "      <th>1</th>\n",
       "      <td>3</td>\n",
       "      <td>2</td>\n",
       "      <td>3</td>\n",
       "      <td>4</td>\n",
       "      <td>1</td>\n",
       "    </tr>\n",
       "    <tr>\n",
       "      <th>2</th>\n",
       "      <td>3</td>\n",
       "      <td>1</td>\n",
       "      <td>2</td>\n",
       "      <td>1</td>\n",
       "      <td>4</td>\n",
       "    </tr>\n",
       "    <tr>\n",
       "      <th>3</th>\n",
       "      <td>3</td>\n",
       "      <td>2</td>\n",
       "      <td>3</td>\n",
       "      <td>1</td>\n",
       "      <td>3</td>\n",
       "    </tr>\n",
       "    <tr>\n",
       "      <th>4</th>\n",
       "      <td>1</td>\n",
       "      <td>2</td>\n",
       "      <td>3</td>\n",
       "      <td>1</td>\n",
       "      <td>4</td>\n",
       "    </tr>\n",
       "    <tr>\n",
       "      <th>...</th>\n",
       "      <td>...</td>\n",
       "      <td>...</td>\n",
       "      <td>...</td>\n",
       "      <td>...</td>\n",
       "      <td>...</td>\n",
       "    </tr>\n",
       "    <tr>\n",
       "      <th>110143</th>\n",
       "      <td>3</td>\n",
       "      <td>2</td>\n",
       "      <td>3</td>\n",
       "      <td>4</td>\n",
       "      <td>1</td>\n",
       "    </tr>\n",
       "    <tr>\n",
       "      <th>110144</th>\n",
       "      <td>1</td>\n",
       "      <td>1</td>\n",
       "      <td>2</td>\n",
       "      <td>1</td>\n",
       "      <td>4</td>\n",
       "    </tr>\n",
       "    <tr>\n",
       "      <th>110145</th>\n",
       "      <td>1</td>\n",
       "      <td>1</td>\n",
       "      <td>2</td>\n",
       "      <td>4</td>\n",
       "      <td>2</td>\n",
       "    </tr>\n",
       "    <tr>\n",
       "      <th>110146</th>\n",
       "      <td>4</td>\n",
       "      <td>2</td>\n",
       "      <td>3</td>\n",
       "      <td>1</td>\n",
       "      <td>1</td>\n",
       "    </tr>\n",
       "    <tr>\n",
       "      <th>110147</th>\n",
       "      <td>3</td>\n",
       "      <td>1</td>\n",
       "      <td>2</td>\n",
       "      <td>4</td>\n",
       "      <td>2</td>\n",
       "    </tr>\n",
       "  </tbody>\n",
       "</table>\n",
       "<p>110148 rows × 5 columns</p>\n",
       "</div>"
      ],
      "text/plain": [
       "        education  home_address  work_address  sna  first_time\n",
       "0               3             1             2    4           1\n",
       "1               3             2             3    4           1\n",
       "2               3             1             2    1           4\n",
       "3               3             2             3    1           3\n",
       "4               1             2             3    1           4\n",
       "...           ...           ...           ...  ...         ...\n",
       "110143          3             2             3    4           1\n",
       "110144          1             1             2    1           4\n",
       "110145          1             1             2    4           2\n",
       "110146          4             2             3    1           1\n",
       "110147          3             1             2    4           2\n",
       "\n",
       "[110148 rows x 5 columns]"
      ]
     },
     "execution_count": 43,
     "metadata": {},
     "output_type": "execute_result"
    }
   ],
   "source": [
    "# проверим преобразования\n",
    "data[cat_cols]"
   ]
  },
  {
   "cell_type": "markdown",
   "metadata": {
    "papermill": {
     "duration": 0.133968,
     "end_time": "2021-01-03T12:25:59.506810",
     "exception": false,
     "start_time": "2021-01-03T12:25:59.372842",
     "status": "completed"
    },
    "tags": []
   },
   "source": [
    "5.3 Оценка корреляций"
   ]
  },
  {
   "cell_type": "code",
   "execution_count": 44,
   "metadata": {
    "execution": {
     "iopub.execute_input": "2021-01-03T12:25:59.780318Z",
     "iopub.status.busy": "2021-01-03T12:25:59.779621Z",
     "iopub.status.idle": "2021-01-03T12:26:00.063009Z",
     "shell.execute_reply": "2021-01-03T12:26:00.063570Z"
    },
    "papermill": {
     "duration": 0.42125,
     "end_time": "2021-01-03T12:26:00.063763",
     "exception": false,
     "start_time": "2021-01-03T12:25:59.642513",
     "status": "completed"
    },
    "tags": []
   },
   "outputs": [
    {
     "data": {
      "text/plain": [
       "<AxesSubplot:>"
      ]
     },
     "execution_count": 44,
     "metadata": {},
     "output_type": "execute_result"
    },
    {
     "data": {
      "image/png": "[encoded data removed]",
      "text/plain": [
       "<Figure size 432x288 with 2 Axes>"
      ]
     },
     "metadata": {
      "needs_background": "light"
     },
     "output_type": "display_data"
    }
   ],
   "source": [
    "# оценим корреляцию Пирсона для числовых переменных\n",
    "sns.heatmap(data[num_cols].corr().abs(), vmin=0, vmax=1)"
   ]
  },
  {
   "cell_type": "markdown",
   "metadata": {
    "papermill": {
     "duration": 0.135709,
     "end_time": "2021-01-03T12:26:00.335738",
     "exception": false,
     "start_time": "2021-01-03T12:26:00.200029",
     "status": "completed"
    },
    "tags": []
   },
   "source": [
    "### Выводы:\n",
    "#### 1.Признаки слабо коррелированы между собой\n",
    "#### 2.Все признаки будем использовать в модели."
   ]
  },
  {
   "cell_type": "code",
   "execution_count": 64,
   "metadata": {
    "execution": {
     "iopub.execute_input": "2021-01-03T12:26:00.618315Z",
     "iopub.status.busy": "2021-01-03T12:26:00.617027Z",
     "iopub.status.idle": "2021-01-03T12:26:00.976734Z",
     "shell.execute_reply": "2021-01-03T12:26:00.977269Z"
    },
    "papermill": {
     "duration": 0.505382,
     "end_time": "2021-01-03T12:26:00.977408",
     "exception": false,
     "start_time": "2021-01-03T12:26:00.472026",
     "status": "completed"
    },
    "tags": []
   },
   "outputs": [
    {
     "data": {
      "text/plain": [
       "<AxesSubplot:>"
      ]
     },
     "execution_count": 64,
     "metadata": {},
     "output_type": "execute_result"
    },
    {
     "data": {
      "image/png": "[encoded data removed]",
      "text/plain": [
       "<Figure size 432x288 with 2 Axes>"
      ]
     },
     "metadata": {
      "needs_background": "light"
     },
     "output_type": "display_data"
    }
   ],
   "source": [
    "# оценим корреляцию Спирмана для нечисловых переменных\n",
    "sns.heatmap(data[bin_cols + cat_cols].corr(method='spearman').abs(), vmin=0, vmax=1)"
   ]
  },
  {
   "cell_type": "markdown",
   "metadata": {
    "papermill": {
     "duration": 0.146393,
     "end_time": "2021-01-03T12:26:01.261870",
     "exception": false,
     "start_time": "2021-01-03T12:26:01.115477",
     "status": "completed"
    },
    "tags": []
   },
   "source": [
    "### Выводы:\n",
    "#### 1.Высокая коррекляция перемнных car и car_type. В модели будем использовать перемнную car_type.\n",
    "#### 2.Высокая корреляция переменных home_address и work_address. В модели будем использовать перемнную home_address."
   ]
  },
  {
   "cell_type": "code",
   "execution_count": 65,
   "metadata": {
    "execution": {
     "iopub.execute_input": "2021-01-03T12:26:01.539886Z",
     "iopub.status.busy": "2021-01-03T12:26:01.539227Z",
     "iopub.status.idle": "2021-01-03T12:26:01.543310Z",
     "shell.execute_reply": "2021-01-03T12:26:01.543819Z"
    },
    "papermill": {
     "duration": 0.144263,
     "end_time": "2021-01-03T12:26:01.543961",
     "exception": false,
     "start_time": "2021-01-03T12:26:01.399698",
     "status": "completed"
    },
    "tags": []
   },
   "outputs": [],
   "source": [
    "# оставим бинарные и категориальные переменные, которые будут использоваться в модели\n",
    "bin_cols = ['sex', 'car_type', 'good_work', 'foreign_passport']\n",
    "cat_cols = ['education', 'home_address', 'sna', 'first_time']"
   ]
  },
  {
   "cell_type": "markdown",
   "metadata": {
    "papermill": {
     "duration": 0.136315,
     "end_time": "2021-01-03T12:26:01.817431",
     "exception": false,
     "start_time": "2021-01-03T12:26:01.681116",
     "status": "completed"
    },
    "tags": []
   },
   "source": [
    "**5.3 Оценка значимости числовых переменных**"
   ]
  },
  {
   "cell_type": "code",
   "execution_count": 66,
   "metadata": {
    "execution": {
     "iopub.execute_input": "2021-01-03T12:26:02.098005Z",
     "iopub.status.busy": "2021-01-03T12:26:02.097365Z",
     "iopub.status.idle": "2021-01-03T12:26:02.267284Z",
     "shell.execute_reply": "2021-01-03T12:26:02.267748Z"
    },
    "papermill": {
     "duration": 0.311546,
     "end_time": "2021-01-03T12:26:02.267919",
     "exception": false,
     "start_time": "2021-01-03T12:26:01.956373",
     "status": "completed"
    },
    "tags": []
   },
   "outputs": [
    {
     "data": {
      "text/plain": [
       "<AxesSubplot:>"
      ]
     },
     "execution_count": 66,
     "metadata": {},
     "output_type": "execute_result"
    },
    {
     "data": {
      "image/png": "[encoded data removed]",
      "text/plain": [
       "<Figure size 432x288 with 1 Axes>"
      ]
     },
     "metadata": {
      "needs_background": "light"
     },
     "output_type": "display_data"
    }
   ],
   "source": [
    "# проверяем значимость переменных\n",
    "# работаем с записями из датасета train\n",
    "imp_num = pd.Series(f_classif(data[data['train'] == 1][num_cols],\n",
    "                              data[data['train'] == 1]['default'])[0], index=num_cols)\n",
    "imp_num.sort_values(inplace=True)\n",
    "imp_num.plot(kind='barh')"
   ]
  },
  {
   "cell_type": "markdown",
   "metadata": {
    "papermill": {
     "duration": 0.137616,
     "end_time": "2021-01-03T12:26:02.543146",
     "exception": false,
     "start_time": "2021-01-03T12:26:02.405530",
     "status": "completed"
    },
    "tags": []
   },
   "source": [
    "#### Как и ожидалось, самая важная переменная - 'score_bki'. В тоже время 'num_of_app' наименее важна."
   ]
  },
  {
   "cell_type": "markdown",
   "metadata": {
    "papermill": {
     "duration": 0.137861,
     "end_time": "2021-01-03T12:26:02.819589",
     "exception": false,
     "start_time": "2021-01-03T12:26:02.681728",
     "status": "completed"
    },
    "tags": []
   },
   "source": [
    "**5.4 Оценка значимости категориальных и бинарных переменных**"
   ]
  },
  {
   "cell_type": "code",
   "execution_count": 67,
   "metadata": {
    "execution": {
     "iopub.execute_input": "2021-01-03T12:26:03.103068Z",
     "iopub.status.busy": "2021-01-03T12:26:03.102418Z",
     "iopub.status.idle": "2021-01-03T12:26:03.358435Z",
     "shell.execute_reply": "2021-01-03T12:26:03.358995Z"
    },
    "papermill": {
     "duration": 0.399639,
     "end_time": "2021-01-03T12:26:03.359142",
     "exception": false,
     "start_time": "2021-01-03T12:26:02.959503",
     "status": "completed"
    },
    "tags": []
   },
   "outputs": [
    {
     "data": {
      "text/plain": [
       "<AxesSubplot:>"
      ]
     },
     "execution_count": 67,
     "metadata": {},
     "output_type": "execute_result"
    },
    {
     "data": {
      "image/png": "[encoded data removed]",
      "text/plain": [
       "<Figure size 432x288 with 1 Axes>"
      ]
     },
     "metadata": {
      "needs_background": "light"
     },
     "output_type": "display_data"
    }
   ],
   "source": [
    "# проверяем значимость переменных\n",
    "# работаем с записями из датасета train\n",
    "imp_cat = Series(mutual_info_classif(data[data['train'] == 1][bin_cols + cat_cols], data[data['train'] == 1]['default'],\n",
    "                                     discrete_features =True), index = bin_cols + cat_cols)\n",
    "imp_cat.sort_values(inplace = True)\n",
    "imp_cat.plot(kind = 'barh')"
   ]
  },
  {
   "cell_type": "markdown",
   "metadata": {
    "papermill": {
     "duration": 0.139038,
     "end_time": "2021-01-03T12:26:03.637713",
     "exception": false,
     "start_time": "2021-01-03T12:26:03.498675",
     "status": "completed"
    },
    "tags": []
   },
   "source": [
    "#### Самая важная переменная - 'sna'. Наименее важная переменная - 'sex' не важна. Все переменные будем использовать в модели."
   ]
  },
  {
   "cell_type": "markdown",
   "metadata": {
    "papermill": {
     "duration": 0.139054,
     "end_time": "2021-01-03T12:26:03.915993",
     "exception": false,
     "start_time": "2021-01-03T12:26:03.776939",
     "status": "completed"
    },
    "tags": []
   },
   "source": [
    "# **6. Строим модель**"
   ]
  },
  {
   "cell_type": "code",
   "execution_count": 68,
   "metadata": {
    "execution": {
     "iopub.execute_input": "2021-01-03T12:26:04.202856Z",
     "iopub.status.busy": "2021-01-03T12:26:04.202213Z",
     "iopub.status.idle": "2021-01-03T12:26:04.219502Z",
     "shell.execute_reply": "2021-01-03T12:26:04.218989Z"
    },
    "papermill": {
     "duration": 0.160728,
     "end_time": "2021-01-03T12:26:04.219636",
     "exception": false,
     "start_time": "2021-01-03T12:26:04.058908",
     "status": "completed"
    },
    "tags": []
   },
   "outputs": [],
   "source": [
    "# выделяем тренировочный датасет из датасета data\n",
    "data_train = data[data['train'] == 1]\n",
    "data_train = data_train.drop(['client_id', 'app_date', 'train'], axis=1)"
   ]
  },
  {
   "cell_type": "code",
   "execution_count": 69,
   "metadata": {
    "execution": {
     "iopub.execute_input": "2021-01-03T12:26:04.518521Z",
     "iopub.status.busy": "2021-01-03T12:26:04.517529Z",
     "iopub.status.idle": "2021-01-03T12:26:04.521760Z",
     "shell.execute_reply": "2021-01-03T12:26:04.522224Z"
    },
    "papermill": {
     "duration": 0.162657,
     "end_time": "2021-01-03T12:26:04.522366",
     "exception": false,
     "start_time": "2021-01-03T12:26:04.359709",
     "status": "completed"
    },
    "tags": []
   },
   "outputs": [
    {
     "data": {
      "text/html": [
       "<div>\n",
       "<style scoped>\n",
       "    .dataframe tbody tr th:only-of-type {\n",
       "        vertical-align: middle;\n",
       "    }\n",
       "\n",
       "    .dataframe tbody tr th {\n",
       "        vertical-align: top;\n",
       "    }\n",
       "\n",
       "    .dataframe thead th {\n",
       "        text-align: right;\n",
       "    }\n",
       "</style>\n",
       "<table border=\"1\" class=\"dataframe\">\n",
       "  <thead>\n",
       "    <tr style=\"text-align: right;\">\n",
       "      <th></th>\n",
       "      <th>education</th>\n",
       "      <th>sex</th>\n",
       "      <th>age</th>\n",
       "      <th>car</th>\n",
       "      <th>car_type</th>\n",
       "      <th>decline_app_cnt</th>\n",
       "      <th>good_work</th>\n",
       "      <th>score_bki</th>\n",
       "      <th>bki_request_cnt</th>\n",
       "      <th>region_rating</th>\n",
       "      <th>home_address</th>\n",
       "      <th>work_address</th>\n",
       "      <th>income</th>\n",
       "      <th>sna</th>\n",
       "      <th>first_time</th>\n",
       "      <th>foreign_passport</th>\n",
       "      <th>default</th>\n",
       "      <th>num_of_app</th>\n",
       "      <th>share_of_def</th>\n",
       "    </tr>\n",
       "  </thead>\n",
       "  <tbody>\n",
       "    <tr>\n",
       "      <th>0</th>\n",
       "      <td>3</td>\n",
       "      <td>1</td>\n",
       "      <td>4.143135</td>\n",
       "      <td>1</td>\n",
       "      <td>1</td>\n",
       "      <td>0</td>\n",
       "      <td>0</td>\n",
       "      <td>-2.008753</td>\n",
       "      <td>0.693147</td>\n",
       "      <td>50</td>\n",
       "      <td>1</td>\n",
       "      <td>2</td>\n",
       "      <td>9.798183</td>\n",
       "      <td>4</td>\n",
       "      <td>1</td>\n",
       "      <td>0</td>\n",
       "      <td>0</td>\n",
       "      <td>794</td>\n",
       "      <td>0.116236</td>\n",
       "    </tr>\n",
       "    <tr>\n",
       "      <th>1</th>\n",
       "      <td>3</td>\n",
       "      <td>0</td>\n",
       "      <td>4.094345</td>\n",
       "      <td>0</td>\n",
       "      <td>0</td>\n",
       "      <td>0</td>\n",
       "      <td>0</td>\n",
       "      <td>-1.532276</td>\n",
       "      <td>1.386294</td>\n",
       "      <td>50</td>\n",
       "      <td>2</td>\n",
       "      <td>3</td>\n",
       "      <td>9.852247</td>\n",
       "      <td>4</td>\n",
       "      <td>1</td>\n",
       "      <td>0</td>\n",
       "      <td>0</td>\n",
       "      <td>1110</td>\n",
       "      <td>0.119403</td>\n",
       "    </tr>\n",
       "    <tr>\n",
       "      <th>2</th>\n",
       "      <td>3</td>\n",
       "      <td>1</td>\n",
       "      <td>3.258097</td>\n",
       "      <td>1</td>\n",
       "      <td>0</td>\n",
       "      <td>2</td>\n",
       "      <td>0</td>\n",
       "      <td>-1.408142</td>\n",
       "      <td>0.693147</td>\n",
       "      <td>80</td>\n",
       "      <td>1</td>\n",
       "      <td>2</td>\n",
       "      <td>10.308986</td>\n",
       "      <td>1</td>\n",
       "      <td>4</td>\n",
       "      <td>1</td>\n",
       "      <td>0</td>\n",
       "      <td>794</td>\n",
       "      <td>0.116236</td>\n",
       "    </tr>\n",
       "    <tr>\n",
       "      <th>3</th>\n",
       "      <td>3</td>\n",
       "      <td>0</td>\n",
       "      <td>3.988984</td>\n",
       "      <td>0</td>\n",
       "      <td>0</td>\n",
       "      <td>0</td>\n",
       "      <td>0</td>\n",
       "      <td>-2.057471</td>\n",
       "      <td>1.098612</td>\n",
       "      <td>50</td>\n",
       "      <td>2</td>\n",
       "      <td>3</td>\n",
       "      <td>9.210440</td>\n",
       "      <td>1</td>\n",
       "      <td>3</td>\n",
       "      <td>0</td>\n",
       "      <td>0</td>\n",
       "      <td>1060</td>\n",
       "      <td>0.173542</td>\n",
       "    </tr>\n",
       "    <tr>\n",
       "      <th>4</th>\n",
       "      <td>1</td>\n",
       "      <td>1</td>\n",
       "      <td>3.891820</td>\n",
       "      <td>0</td>\n",
       "      <td>0</td>\n",
       "      <td>0</td>\n",
       "      <td>1</td>\n",
       "      <td>-1.244723</td>\n",
       "      <td>0.693147</td>\n",
       "      <td>60</td>\n",
       "      <td>2</td>\n",
       "      <td>3</td>\n",
       "      <td>10.308986</td>\n",
       "      <td>1</td>\n",
       "      <td>4</td>\n",
       "      <td>1</td>\n",
       "      <td>0</td>\n",
       "      <td>981</td>\n",
       "      <td>0.078669</td>\n",
       "    </tr>\n",
       "  </tbody>\n",
       "</table>\n",
       "</div>"
      ],
      "text/plain": [
       "   education  sex       age  car  car_type  decline_app_cnt  good_work  \\\n",
       "0          3    1  4.143135    1         1                0          0   \n",
       "1          3    0  4.094345    0         0                0          0   \n",
       "2          3    1  3.258097    1         0                2          0   \n",
       "3          3    0  3.988984    0         0                0          0   \n",
       "4          1    1  3.891820    0         0                0          1   \n",
       "\n",
       "   score_bki  bki_request_cnt  region_rating  home_address  work_address  \\\n",
       "0  -2.008753         0.693147             50             1             2   \n",
       "1  -1.532276         1.386294             50             2             3   \n",
       "2  -1.408142         0.693147             80             1             2   \n",
       "3  -2.057471         1.098612             50             2             3   \n",
       "4  -1.244723         0.693147             60             2             3   \n",
       "\n",
       "      income  sna  first_time  foreign_passport  default  num_of_app  \\\n",
       "0   9.798183    4           1                 0        0         794   \n",
       "1   9.852247    4           1                 0        0        1110   \n",
       "2  10.308986    1           4                 1        0         794   \n",
       "3   9.210440    1           3                 0        0        1060   \n",
       "4  10.308986    1           4                 1        0         981   \n",
       "\n",
       "   share_of_def  \n",
       "0      0.116236  \n",
       "1      0.119403  \n",
       "2      0.116236  \n",
       "3      0.173542  \n",
       "4      0.078669  "
      ]
     },
     "metadata": {},
     "output_type": "display_data"
    }
   ],
   "source": [
    "# проверяем тренировочный датасет\n",
    "display(data_train.head(5))"
   ]
  },
  {
   "cell_type": "code",
   "execution_count": 70,
   "metadata": {
    "execution": {
     "iopub.execute_input": "2021-01-03T12:26:04.810949Z",
     "iopub.status.busy": "2021-01-03T12:26:04.809600Z",
     "iopub.status.idle": "2021-01-03T12:26:04.823058Z",
     "shell.execute_reply": "2021-01-03T12:26:04.823627Z"
    },
    "papermill": {
     "duration": 0.160595,
     "end_time": "2021-01-03T12:26:04.823769",
     "exception": false,
     "start_time": "2021-01-03T12:26:04.663174",
     "status": "completed"
    },
    "tags": []
   },
   "outputs": [
    {
     "name": "stdout",
     "output_type": "stream",
     "text": [
      "<class 'pandas.core.frame.DataFrame'>\n",
      "Int64Index: 73799 entries, 0 to 73798\n",
      "Data columns (total 19 columns):\n",
      " #   Column            Non-Null Count  Dtype  \n",
      "---  ------            --------------  -----  \n",
      " 0   education         73799 non-null  int64  \n",
      " 1   sex               73799 non-null  int64  \n",
      " 2   age               73799 non-null  float64\n",
      " 3   car               73799 non-null  int64  \n",
      " 4   car_type          73799 non-null  int64  \n",
      " 5   decline_app_cnt   73799 non-null  int64  \n",
      " 6   good_work         73799 non-null  int64  \n",
      " 7   score_bki         73799 non-null  float64\n",
      " 8   bki_request_cnt   73799 non-null  float64\n",
      " 9   region_rating     73799 non-null  int64  \n",
      " 10  home_address      73799 non-null  int64  \n",
      " 11  work_address      73799 non-null  int64  \n",
      " 12  income            73799 non-null  float64\n",
      " 13  sna               73799 non-null  int64  \n",
      " 14  first_time        73799 non-null  int64  \n",
      " 15  foreign_passport  73799 non-null  int64  \n",
      " 16  default           73799 non-null  int64  \n",
      " 17  num_of_app        73799 non-null  int64  \n",
      " 18  share_of_def      73799 non-null  float64\n",
      "dtypes: float64(5), int64(14)\n",
      "memory usage: 11.3 MB\n"
     ]
    }
   ],
   "source": [
    "data_train.info()"
   ]
  },
  {
   "cell_type": "code",
   "execution_count": 71,
   "metadata": {
    "execution": {
     "iopub.execute_input": "2021-01-03T12:26:05.112505Z",
     "iopub.status.busy": "2021-01-03T12:26:05.111868Z",
     "iopub.status.idle": "2021-01-03T12:26:05.155221Z",
     "shell.execute_reply": "2021-01-03T12:26:05.154614Z"
    },
    "papermill": {
     "duration": 0.189086,
     "end_time": "2021-01-03T12:26:05.155338",
     "exception": false,
     "start_time": "2021-01-03T12:26:04.966252",
     "status": "completed"
    },
    "tags": []
   },
   "outputs": [],
   "source": [
    "# преобразуем категориальные переменные методом One-Hot Encoding\n",
    "data_train_cat = OneHotEncoder(sparse = False).fit_transform(data_train[cat_cols].values)"
   ]
  },
  {
   "cell_type": "code",
   "execution_count": 72,
   "metadata": {
    "execution": {
     "iopub.execute_input": "2021-01-03T12:26:05.445242Z",
     "iopub.status.busy": "2021-01-03T12:26:05.444329Z",
     "iopub.status.idle": "2021-01-03T12:26:05.448644Z",
     "shell.execute_reply": "2021-01-03T12:26:05.447965Z"
    },
    "papermill": {
     "duration": 0.150765,
     "end_time": "2021-01-03T12:26:05.448763",
     "exception": false,
     "start_time": "2021-01-03T12:26:05.297998",
     "status": "completed"
    },
    "tags": []
   },
   "outputs": [
    {
     "data": {
      "text/plain": [
       "array([[0., 0., 0., ..., 0., 0., 0.],\n",
       "       [0., 0., 0., ..., 0., 0., 0.],\n",
       "       [0., 0., 0., ..., 0., 0., 1.],\n",
       "       ...,\n",
       "       [0., 0., 0., ..., 1., 0., 0.],\n",
       "       [0., 0., 0., ..., 0., 1., 0.],\n",
       "       [0., 1., 0., ..., 0., 1., 0.]])"
      ]
     },
     "execution_count": 72,
     "metadata": {},
     "output_type": "execute_result"
    }
   ],
   "source": [
    "# проверяем\n",
    "data_train_cat"
   ]
  },
  {
   "cell_type": "code",
   "execution_count": 73,
   "metadata": {
    "execution": {
     "iopub.execute_input": "2021-01-03T12:26:05.740992Z",
     "iopub.status.busy": "2021-01-03T12:26:05.740268Z",
     "iopub.status.idle": "2021-01-03T12:26:05.755739Z",
     "shell.execute_reply": "2021-01-03T12:26:05.755179Z"
    },
    "papermill": {
     "duration": 0.165024,
     "end_time": "2021-01-03T12:26:05.755875",
     "exception": false,
     "start_time": "2021-01-03T12:26:05.590851",
     "status": "completed"
    },
    "tags": []
   },
   "outputs": [],
   "source": [
    "# стандартизируем числовые переменные\n",
    "data_train_num = StandardScaler().fit_transform(data_train[num_cols].values)"
   ]
  },
  {
   "cell_type": "code",
   "execution_count": 74,
   "metadata": {
    "execution": {
     "iopub.execute_input": "2021-01-03T12:26:06.048933Z",
     "iopub.status.busy": "2021-01-03T12:26:06.048229Z",
     "iopub.status.idle": "2021-01-03T12:26:06.051357Z",
     "shell.execute_reply": "2021-01-03T12:26:06.051839Z"
    },
    "papermill": {
     "duration": 0.154127,
     "end_time": "2021-01-03T12:26:06.051993",
     "exception": false,
     "start_time": "2021-01-03T12:26:05.897866",
     "status": "completed"
    },
    "tags": []
   },
   "outputs": [
    {
     "data": {
      "text/plain": [
       "array([[ 1.71113664, -0.34285766, -0.2087987 , ..., -0.78501579,\n",
       "        -0.51650253, -0.88946377],\n",
       "       [ 1.5399884 , -0.34285766,  0.74754461, ..., -0.70752611,\n",
       "        -0.36445207,  0.45490047],\n",
       "       [-1.39343857,  2.14387966,  0.99669566, ..., -0.05288771,\n",
       "        -0.51650253, -0.88946377],\n",
       "       ...,\n",
       "       [-0.66507223, -0.34285766,  0.78696739, ...,  0.5282444 ,\n",
       "        -1.73254563, -0.03860032],\n",
       "       [-0.89146325, -0.34285766,  0.85380611, ..., -1.25140899,\n",
       "         2.34635007, -2.36571184],\n",
       "       [-0.35072683, -0.34285766,  0.28102087, ..., -0.31419734,\n",
       "         2.2349535 ,  0.24218461]])"
      ]
     },
     "execution_count": 74,
     "metadata": {},
     "output_type": "execute_result"
    }
   ],
   "source": [
    "# проверяем\n",
    "data_train_num"
   ]
  },
  {
   "cell_type": "code",
   "execution_count": 75,
   "metadata": {
    "execution": {
     "iopub.execute_input": "2021-01-03T12:26:06.371010Z",
     "iopub.status.busy": "2021-01-03T12:26:06.370371Z",
     "iopub.status.idle": "2021-01-03T12:26:06.386517Z",
     "shell.execute_reply": "2021-01-03T12:26:06.387098Z"
    },
    "papermill": {
     "duration": 0.179352,
     "end_time": "2021-01-03T12:26:06.387238",
     "exception": false,
     "start_time": "2021-01-03T12:26:06.207886",
     "status": "completed"
    },
    "tags": []
   },
   "outputs": [],
   "source": [
    "# объединяем категориальные, бинарные, числовые признаки в одно признаковое пространство\n",
    "X = np.hstack([data_train_num, data_train[bin_cols].values, data_train_cat])\n",
    "y = data_train['default'].values"
   ]
  },
  {
   "cell_type": "code",
   "execution_count": 76,
   "metadata": {
    "execution": {
     "iopub.execute_input": "2021-01-03T12:26:06.676060Z",
     "iopub.status.busy": "2021-01-03T12:26:06.675398Z",
     "iopub.status.idle": "2021-01-03T12:26:06.694424Z",
     "shell.execute_reply": "2021-01-03T12:26:06.695028Z"
    },
    "papermill": {
     "duration": 0.165278,
     "end_time": "2021-01-03T12:26:06.695178",
     "exception": false,
     "start_time": "2021-01-03T12:26:06.529900",
     "status": "completed"
    },
    "tags": []
   },
   "outputs": [],
   "source": [
    "# Разобьем данные для обучения и тестирования\n",
    "X_train, X_test, y_train, y_test = train_test_split(X, y, test_size=0.20, random_state=42)"
   ]
  },
  {
   "cell_type": "code",
   "execution_count": 77,
   "metadata": {
    "execution": {
     "iopub.execute_input": "2021-01-03T12:26:06.998254Z",
     "iopub.status.busy": "2021-01-03T12:26:06.997621Z",
     "iopub.status.idle": "2021-01-03T12:26:07.669502Z",
     "shell.execute_reply": "2021-01-03T12:26:07.670157Z"
    },
    "papermill": {
     "duration": 0.832131,
     "end_time": "2021-01-03T12:26:07.670336",
     "exception": false,
     "start_time": "2021-01-03T12:26:06.838205",
     "status": "completed"
    },
    "tags": []
   },
   "outputs": [
    {
     "name": "stderr",
     "output_type": "stream",
     "text": [
      "/Users/vaceslav/opt/anaconda3/lib/python3.8/site-packages/sklearn/linear_model/_logistic.py:762: ConvergenceWarning: lbfgs failed to converge (status=1):\n",
      "STOP: TOTAL NO. of ITERATIONS REACHED LIMIT.\n",
      "\n",
      "Increase the number of iterations (max_iter) or scale the data as shown in:\n",
      "    https://scikit-learn.org/stable/modules/preprocessing.html\n",
      "Please also refer to the documentation for alternative solver options:\n",
      "    https://scikit-learn.org/stable/modules/linear_model.html#logistic-regression\n",
      "  n_iter_i = _check_optimize_result(\n"
     ]
    },
    {
     "data": {
      "text/plain": [
       "LogisticRegression()"
      ]
     },
     "execution_count": 77,
     "metadata": {},
     "output_type": "execute_result"
    }
   ],
   "source": [
    "# строим модель\n",
    "model = LogisticRegression()\n",
    "model.fit(X_train, y_train)"
   ]
  },
  {
   "cell_type": "markdown",
   "metadata": {
    "papermill": {
     "duration": 0.14347,
     "end_time": "2021-01-03T12:26:07.962677",
     "exception": false,
     "start_time": "2021-01-03T12:26:07.819207",
     "status": "completed"
    },
    "tags": []
   },
   "source": [
    "# **7. Оценка качества модели**"
   ]
  },
  {
   "cell_type": "markdown",
   "metadata": {
    "papermill": {
     "duration": 0.143636,
     "end_time": "2021-01-03T12:26:08.252431",
     "exception": false,
     "start_time": "2021-01-03T12:26:08.108795",
     "status": "completed"
    },
    "tags": []
   },
   "source": [
    "**7.1 ROC-анализ**"
   ]
  },
  {
   "cell_type": "code",
   "execution_count": 78,
   "metadata": {
    "execution": {
     "iopub.execute_input": "2021-01-03T12:26:08.546859Z",
     "iopub.status.busy": "2021-01-03T12:26:08.545662Z",
     "iopub.status.idle": "2021-01-03T12:26:08.582856Z",
     "shell.execute_reply": "2021-01-03T12:26:08.582162Z"
    },
    "papermill": {
     "duration": 0.18662,
     "end_time": "2021-01-03T12:26:08.582971",
     "exception": false,
     "start_time": "2021-01-03T12:26:08.396351",
     "status": "completed"
    },
    "tags": []
   },
   "outputs": [],
   "source": [
    "# считаем метрики обучающей (X_train, y_train) выборки\n",
    "y_train_probs = model.predict_proba(X_train)\n",
    "y_train_probs = y_train_probs[:,1]\n",
    "fpr_train, tpr_train, threshold_train = roc_curve(y_train, y_train_probs)\n",
    "roc_auc_train = roc_auc_score(y_train, y_train_probs)"
   ]
  },
  {
   "cell_type": "code",
   "execution_count": 79,
   "metadata": {
    "execution": {
     "iopub.execute_input": "2021-01-03T12:26:08.878813Z",
     "iopub.status.busy": "2021-01-03T12:26:08.878102Z",
     "iopub.status.idle": "2021-01-03T12:26:08.895506Z",
     "shell.execute_reply": "2021-01-03T12:26:08.896041Z"
    },
    "papermill": {
     "duration": 0.167393,
     "end_time": "2021-01-03T12:26:08.896198",
     "exception": false,
     "start_time": "2021-01-03T12:26:08.728805",
     "status": "completed"
    },
    "tags": []
   },
   "outputs": [],
   "source": [
    "# считаем метрики тестовой (X_test, y_test) выборки\n",
    "y_test_probs = model.predict_proba(X_test)\n",
    "y_test_probs = y_test_probs[:,1]\n",
    "fpr_test, tpr_test, threshold_test = roc_curve(y_test, y_test_probs)\n",
    "roc_auc_test = roc_auc_score(y_test, y_test_probs)"
   ]
  },
  {
   "cell_type": "code",
   "execution_count": 80,
   "metadata": {
    "execution": {
     "iopub.execute_input": "2021-01-03T12:26:09.191611Z",
     "iopub.status.busy": "2021-01-03T12:26:09.190956Z",
     "iopub.status.idle": "2021-01-03T12:26:09.372337Z",
     "shell.execute_reply": "2021-01-03T12:26:09.372859Z"
    },
    "papermill": {
     "duration": 0.33,
     "end_time": "2021-01-03T12:26:09.373015",
     "exception": false,
     "start_time": "2021-01-03T12:26:09.043015",
     "status": "completed"
    },
    "tags": []
   },
   "outputs": [
    {
     "data": {
      "image/png": "[encoded data removed]",
      "text/plain": [
       "<Figure size 432x288 with 1 Axes>"
      ]
     },
     "metadata": {
      "needs_background": "light"
     },
     "output_type": "display_data"
    }
   ],
   "source": [
    "# строим графики метрик\n",
    "plt.figure()\n",
    "plt.plot([0, 1], label='Baseline', linestyle='--')\n",
    "plt.plot(fpr_train, tpr_train, label = 'Train')\n",
    "plt.plot(fpr_test, tpr_test, label = 'Test')\n",
    "plt.title('Logistic Regression ROC AUC Train = {a} \\n Logistic Regression ROC AUC Test = {b}'\n",
    "          .format(a = roc_auc_train.round(3), b = roc_auc_test.round(3)))\n",
    "plt.ylabel('True Positive Rate')\n",
    "plt.xlabel('False Positive Rate')\n",
    "plt.legend(loc = 'lower right')\n",
    "plt.show()"
   ]
  },
  {
   "cell_type": "markdown",
   "metadata": {
    "papermill": {
     "duration": 0.14687,
     "end_time": "2021-01-03T12:26:09.666752",
     "exception": false,
     "start_time": "2021-01-03T12:26:09.519882",
     "status": "completed"
    },
    "tags": []
   },
   "source": [
    "#### Вывод: метрика ROC AUC для обучающей и тестовоый выборок близка. Посмотрим, можно ли найти более оптимальные параметры для модели."
   ]
  },
  {
   "cell_type": "markdown",
   "metadata": {
    "papermill": {
     "duration": 0.146915,
     "end_time": "2021-01-03T12:26:09.959841",
     "exception": false,
     "start_time": "2021-01-03T12:26:09.812926",
     "status": "completed"
    },
    "tags": []
   },
   "source": [
    "# **8. Поиск оптимальных значений гиперпараметров**"
   ]
  },
  {
   "cell_type": "code",
   "execution_count": 81,
   "metadata": {
    "execution": {
     "iopub.execute_input": "2021-01-03T12:26:10.258692Z",
     "iopub.status.busy": "2021-01-03T12:26:10.257996Z",
     "iopub.status.idle": "2021-01-03T12:26:10.262214Z",
     "shell.execute_reply": "2021-01-03T12:26:10.262756Z"
    },
    "papermill": {
     "duration": 0.154645,
     "end_time": "2021-01-03T12:26:10.262917",
     "exception": false,
     "start_time": "2021-01-03T12:26:10.108272",
     "status": "completed"
    },
    "tags": []
   },
   "outputs": [],
   "source": [
    "# импорт библиотеки\n",
    "from sklearn.model_selection import GridSearchCV"
   ]
  },
  {
   "cell_type": "code",
   "execution_count": 83,
   "metadata": {
    "execution": {
     "iopub.execute_input": "2021-01-03T12:26:10.559353Z",
     "iopub.status.busy": "2021-01-03T12:26:10.558694Z",
     "iopub.status.idle": "2021-01-03T12:28:13.597304Z",
     "shell.execute_reply": "2021-01-03T12:28:13.597916Z"
    },
    "papermill": {
     "duration": 123.189254,
     "end_time": "2021-01-03T12:28:13.598090",
     "exception": false,
     "start_time": "2021-01-03T12:26:10.408836",
     "status": "completed"
    },
    "tags": []
   },
   "outputs": [
    {
     "ename": "KeyboardInterrupt",
     "evalue": "",
     "output_type": "error",
     "traceback": [
      "\u001b[0;31m---------------------------------------------------------------------------\u001b[0m",
      "\u001b[0;31mKeyboardInterrupt\u001b[0m                         Traceback (most recent call last)",
      "\u001b[0;32m<ipython-input-83-5d0dc09d75b6>\u001b[0m in \u001b[0;36m<module>\u001b[0;34m\u001b[0m\n\u001b[1;32m     16\u001b[0m ]\n\u001b[1;32m     17\u001b[0m \u001b[0mgridsearch\u001b[0m \u001b[0;34m=\u001b[0m \u001b[0mGridSearchCV\u001b[0m\u001b[0;34m(\u001b[0m\u001b[0mmodel\u001b[0m\u001b[0;34m,\u001b[0m \u001b[0mparam_grid\u001b[0m\u001b[0;34m,\u001b[0m \u001b[0mscoring\u001b[0m\u001b[0;34m=\u001b[0m\u001b[0;34m'f1'\u001b[0m\u001b[0;34m,\u001b[0m \u001b[0mn_jobs\u001b[0m\u001b[0;34m=\u001b[0m\u001b[0;34m-\u001b[0m\u001b[0;36m1\u001b[0m\u001b[0;34m)\u001b[0m\u001b[0;34m\u001b[0m\u001b[0;34m\u001b[0m\u001b[0m\n\u001b[0;32m---> 18\u001b[0;31m \u001b[0mgridsearch\u001b[0m\u001b[0;34m.\u001b[0m\u001b[0mfit\u001b[0m\u001b[0;34m(\u001b[0m\u001b[0mX_train\u001b[0m\u001b[0;34m,\u001b[0m \u001b[0my_train\u001b[0m\u001b[0;34m)\u001b[0m\u001b[0;34m\u001b[0m\u001b[0;34m\u001b[0m\u001b[0m\n\u001b[0m\u001b[1;32m     19\u001b[0m \u001b[0mmodel\u001b[0m \u001b[0;34m=\u001b[0m \u001b[0mgridsearch\u001b[0m\u001b[0;34m.\u001b[0m\u001b[0mbest_estimator_\u001b[0m\u001b[0;34m\u001b[0m\u001b[0;34m\u001b[0m\u001b[0m\n\u001b[1;32m     20\u001b[0m \u001b[0;31m## печатаем параметры\u001b[0m\u001b[0;34m\u001b[0m\u001b[0;34m\u001b[0m\u001b[0;34m\u001b[0m\u001b[0m\n",
      "\u001b[0;32m~/opt/anaconda3/lib/python3.8/site-packages/sklearn/utils/validation.py\u001b[0m in \u001b[0;36minner_f\u001b[0;34m(*args, **kwargs)\u001b[0m\n\u001b[1;32m     70\u001b[0m                           FutureWarning)\n\u001b[1;32m     71\u001b[0m         \u001b[0mkwargs\u001b[0m\u001b[0;34m.\u001b[0m\u001b[0mupdate\u001b[0m\u001b[0;34m(\u001b[0m\u001b[0;34m{\u001b[0m\u001b[0mk\u001b[0m\u001b[0;34m:\u001b[0m \u001b[0marg\u001b[0m \u001b[0;32mfor\u001b[0m \u001b[0mk\u001b[0m\u001b[0;34m,\u001b[0m \u001b[0marg\u001b[0m \u001b[0;32min\u001b[0m \u001b[0mzip\u001b[0m\u001b[0;34m(\u001b[0m\u001b[0msig\u001b[0m\u001b[0;34m.\u001b[0m\u001b[0mparameters\u001b[0m\u001b[0;34m,\u001b[0m \u001b[0margs\u001b[0m\u001b[0;34m)\u001b[0m\u001b[0;34m}\u001b[0m\u001b[0;34m)\u001b[0m\u001b[0;34m\u001b[0m\u001b[0;34m\u001b[0m\u001b[0m\n\u001b[0;32m---> 72\u001b[0;31m         \u001b[0;32mreturn\u001b[0m \u001b[0mf\u001b[0m\u001b[0;34m(\u001b[0m\u001b[0;34m**\u001b[0m\u001b[0mkwargs\u001b[0m\u001b[0;34m)\u001b[0m\u001b[0;34m\u001b[0m\u001b[0;34m\u001b[0m\u001b[0m\n\u001b[0m\u001b[1;32m     73\u001b[0m     \u001b[0;32mreturn\u001b[0m \u001b[0minner_f\u001b[0m\u001b[0;34m\u001b[0m\u001b[0;34m\u001b[0m\u001b[0m\n\u001b[1;32m     74\u001b[0m \u001b[0;34m\u001b[0m\u001b[0m\n",
      "\u001b[0;32m~/opt/anaconda3/lib/python3.8/site-packages/sklearn/model_selection/_search.py\u001b[0m in \u001b[0;36mfit\u001b[0;34m(self, X, y, groups, **fit_params)\u001b[0m\n\u001b[1;32m    734\u001b[0m                 \u001b[0;32mreturn\u001b[0m \u001b[0mresults\u001b[0m\u001b[0;34m\u001b[0m\u001b[0;34m\u001b[0m\u001b[0m\n\u001b[1;32m    735\u001b[0m \u001b[0;34m\u001b[0m\u001b[0m\n\u001b[0;32m--> 736\u001b[0;31m             \u001b[0mself\u001b[0m\u001b[0;34m.\u001b[0m\u001b[0m_run_search\u001b[0m\u001b[0;34m(\u001b[0m\u001b[0mevaluate_candidates\u001b[0m\u001b[0;34m)\u001b[0m\u001b[0;34m\u001b[0m\u001b[0;34m\u001b[0m\u001b[0m\n\u001b[0m\u001b[1;32m    737\u001b[0m \u001b[0;34m\u001b[0m\u001b[0m\n\u001b[1;32m    738\u001b[0m         \u001b[0;31m# For multi-metric evaluation, store the best_index_, best_params_ and\u001b[0m\u001b[0;34m\u001b[0m\u001b[0;34m\u001b[0m\u001b[0;34m\u001b[0m\u001b[0m\n",
      "\u001b[0;32m~/opt/anaconda3/lib/python3.8/site-packages/sklearn/model_selection/_search.py\u001b[0m in \u001b[0;36m_run_search\u001b[0;34m(self, evaluate_candidates)\u001b[0m\n\u001b[1;32m   1186\u001b[0m     \u001b[0;32mdef\u001b[0m \u001b[0m_run_search\u001b[0m\u001b[0;34m(\u001b[0m\u001b[0mself\u001b[0m\u001b[0;34m,\u001b[0m \u001b[0mevaluate_candidates\u001b[0m\u001b[0;34m)\u001b[0m\u001b[0;34m:\u001b[0m\u001b[0;34m\u001b[0m\u001b[0;34m\u001b[0m\u001b[0m\n\u001b[1;32m   1187\u001b[0m         \u001b[0;34m\"\"\"Search all candidates in param_grid\"\"\"\u001b[0m\u001b[0;34m\u001b[0m\u001b[0;34m\u001b[0m\u001b[0m\n\u001b[0;32m-> 1188\u001b[0;31m         \u001b[0mevaluate_candidates\u001b[0m\u001b[0;34m(\u001b[0m\u001b[0mParameterGrid\u001b[0m\u001b[0;34m(\u001b[0m\u001b[0mself\u001b[0m\u001b[0;34m.\u001b[0m\u001b[0mparam_grid\u001b[0m\u001b[0;34m)\u001b[0m\u001b[0;34m)\u001b[0m\u001b[0;34m\u001b[0m\u001b[0;34m\u001b[0m\u001b[0m\n\u001b[0m\u001b[1;32m   1189\u001b[0m \u001b[0;34m\u001b[0m\u001b[0m\n\u001b[1;32m   1190\u001b[0m \u001b[0;34m\u001b[0m\u001b[0m\n",
      "\u001b[0;32m~/opt/anaconda3/lib/python3.8/site-packages/sklearn/model_selection/_search.py\u001b[0m in \u001b[0;36mevaluate_candidates\u001b[0;34m(candidate_params)\u001b[0m\n\u001b[1;32m    706\u001b[0m                               n_splits, n_candidates, n_candidates * n_splits))\n\u001b[1;32m    707\u001b[0m \u001b[0;34m\u001b[0m\u001b[0m\n\u001b[0;32m--> 708\u001b[0;31m                 out = parallel(delayed(_fit_and_score)(clone(base_estimator),\n\u001b[0m\u001b[1;32m    709\u001b[0m                                                        \u001b[0mX\u001b[0m\u001b[0;34m,\u001b[0m \u001b[0my\u001b[0m\u001b[0;34m,\u001b[0m\u001b[0;34m\u001b[0m\u001b[0;34m\u001b[0m\u001b[0m\n\u001b[1;32m    710\u001b[0m                                                        \u001b[0mtrain\u001b[0m\u001b[0;34m=\u001b[0m\u001b[0mtrain\u001b[0m\u001b[0;34m,\u001b[0m \u001b[0mtest\u001b[0m\u001b[0;34m=\u001b[0m\u001b[0mtest\u001b[0m\u001b[0;34m,\u001b[0m\u001b[0;34m\u001b[0m\u001b[0;34m\u001b[0m\u001b[0m\n",
      "\u001b[0;32m~/opt/anaconda3/lib/python3.8/site-packages/joblib/parallel.py\u001b[0m in \u001b[0;36m__call__\u001b[0;34m(self, iterable)\u001b[0m\n\u001b[1;32m   1059\u001b[0m \u001b[0;34m\u001b[0m\u001b[0m\n\u001b[1;32m   1060\u001b[0m             \u001b[0;32mwith\u001b[0m \u001b[0mself\u001b[0m\u001b[0;34m.\u001b[0m\u001b[0m_backend\u001b[0m\u001b[0;34m.\u001b[0m\u001b[0mretrieval_context\u001b[0m\u001b[0;34m(\u001b[0m\u001b[0;34m)\u001b[0m\u001b[0;34m:\u001b[0m\u001b[0;34m\u001b[0m\u001b[0;34m\u001b[0m\u001b[0m\n\u001b[0;32m-> 1061\u001b[0;31m                 \u001b[0mself\u001b[0m\u001b[0;34m.\u001b[0m\u001b[0mretrieve\u001b[0m\u001b[0;34m(\u001b[0m\u001b[0;34m)\u001b[0m\u001b[0;34m\u001b[0m\u001b[0;34m\u001b[0m\u001b[0m\n\u001b[0m\u001b[1;32m   1062\u001b[0m             \u001b[0;31m# Make sure that we get a last message telling us we are done\u001b[0m\u001b[0;34m\u001b[0m\u001b[0;34m\u001b[0m\u001b[0;34m\u001b[0m\u001b[0m\n\u001b[1;32m   1063\u001b[0m             \u001b[0melapsed_time\u001b[0m \u001b[0;34m=\u001b[0m \u001b[0mtime\u001b[0m\u001b[0;34m.\u001b[0m\u001b[0mtime\u001b[0m\u001b[0;34m(\u001b[0m\u001b[0;34m)\u001b[0m \u001b[0;34m-\u001b[0m \u001b[0mself\u001b[0m\u001b[0;34m.\u001b[0m\u001b[0m_start_time\u001b[0m\u001b[0;34m\u001b[0m\u001b[0;34m\u001b[0m\u001b[0m\n",
      "\u001b[0;32m~/opt/anaconda3/lib/python3.8/site-packages/joblib/parallel.py\u001b[0m in \u001b[0;36mretrieve\u001b[0;34m(self)\u001b[0m\n\u001b[1;32m    938\u001b[0m             \u001b[0;32mtry\u001b[0m\u001b[0;34m:\u001b[0m\u001b[0;34m\u001b[0m\u001b[0;34m\u001b[0m\u001b[0m\n\u001b[1;32m    939\u001b[0m                 \u001b[0;32mif\u001b[0m \u001b[0mgetattr\u001b[0m\u001b[0;34m(\u001b[0m\u001b[0mself\u001b[0m\u001b[0;34m.\u001b[0m\u001b[0m_backend\u001b[0m\u001b[0;34m,\u001b[0m \u001b[0;34m'supports_timeout'\u001b[0m\u001b[0;34m,\u001b[0m \u001b[0;32mFalse\u001b[0m\u001b[0;34m)\u001b[0m\u001b[0;34m:\u001b[0m\u001b[0;34m\u001b[0m\u001b[0;34m\u001b[0m\u001b[0m\n\u001b[0;32m--> 940\u001b[0;31m                     \u001b[0mself\u001b[0m\u001b[0;34m.\u001b[0m\u001b[0m_output\u001b[0m\u001b[0;34m.\u001b[0m\u001b[0mextend\u001b[0m\u001b[0;34m(\u001b[0m\u001b[0mjob\u001b[0m\u001b[0;34m.\u001b[0m\u001b[0mget\u001b[0m\u001b[0;34m(\u001b[0m\u001b[0mtimeout\u001b[0m\u001b[0;34m=\u001b[0m\u001b[0mself\u001b[0m\u001b[0;34m.\u001b[0m\u001b[0mtimeout\u001b[0m\u001b[0;34m)\u001b[0m\u001b[0;34m)\u001b[0m\u001b[0;34m\u001b[0m\u001b[0;34m\u001b[0m\u001b[0m\n\u001b[0m\u001b[1;32m    941\u001b[0m                 \u001b[0;32melse\u001b[0m\u001b[0;34m:\u001b[0m\u001b[0;34m\u001b[0m\u001b[0;34m\u001b[0m\u001b[0m\n\u001b[1;32m    942\u001b[0m                     \u001b[0mself\u001b[0m\u001b[0;34m.\u001b[0m\u001b[0m_output\u001b[0m\u001b[0;34m.\u001b[0m\u001b[0mextend\u001b[0m\u001b[0;34m(\u001b[0m\u001b[0mjob\u001b[0m\u001b[0;34m.\u001b[0m\u001b[0mget\u001b[0m\u001b[0;34m(\u001b[0m\u001b[0;34m)\u001b[0m\u001b[0;34m)\u001b[0m\u001b[0;34m\u001b[0m\u001b[0;34m\u001b[0m\u001b[0m\n",
      "\u001b[0;32m~/opt/anaconda3/lib/python3.8/site-packages/joblib/_parallel_backends.py\u001b[0m in \u001b[0;36mwrap_future_result\u001b[0;34m(future, timeout)\u001b[0m\n\u001b[1;32m    540\u001b[0m         AsyncResults.get from multiprocessing.\"\"\"\n\u001b[1;32m    541\u001b[0m         \u001b[0;32mtry\u001b[0m\u001b[0;34m:\u001b[0m\u001b[0;34m\u001b[0m\u001b[0;34m\u001b[0m\u001b[0m\n\u001b[0;32m--> 542\u001b[0;31m             \u001b[0;32mreturn\u001b[0m \u001b[0mfuture\u001b[0m\u001b[0;34m.\u001b[0m\u001b[0mresult\u001b[0m\u001b[0;34m(\u001b[0m\u001b[0mtimeout\u001b[0m\u001b[0;34m=\u001b[0m\u001b[0mtimeout\u001b[0m\u001b[0;34m)\u001b[0m\u001b[0;34m\u001b[0m\u001b[0;34m\u001b[0m\u001b[0m\n\u001b[0m\u001b[1;32m    543\u001b[0m         \u001b[0;32mexcept\u001b[0m \u001b[0mCfTimeoutError\u001b[0m \u001b[0;32mas\u001b[0m \u001b[0me\u001b[0m\u001b[0;34m:\u001b[0m\u001b[0;34m\u001b[0m\u001b[0;34m\u001b[0m\u001b[0m\n\u001b[1;32m    544\u001b[0m             \u001b[0;32mraise\u001b[0m \u001b[0mTimeoutError\u001b[0m \u001b[0;32mfrom\u001b[0m \u001b[0me\u001b[0m\u001b[0;34m\u001b[0m\u001b[0;34m\u001b[0m\u001b[0m\n",
      "\u001b[0;32m~/opt/anaconda3/lib/python3.8/concurrent/futures/_base.py\u001b[0m in \u001b[0;36mresult\u001b[0;34m(self, timeout)\u001b[0m\n\u001b[1;32m    432\u001b[0m                 \u001b[0;32mreturn\u001b[0m \u001b[0mself\u001b[0m\u001b[0;34m.\u001b[0m\u001b[0m__get_result\u001b[0m\u001b[0;34m(\u001b[0m\u001b[0;34m)\u001b[0m\u001b[0;34m\u001b[0m\u001b[0;34m\u001b[0m\u001b[0m\n\u001b[1;32m    433\u001b[0m \u001b[0;34m\u001b[0m\u001b[0m\n\u001b[0;32m--> 434\u001b[0;31m             \u001b[0mself\u001b[0m\u001b[0;34m.\u001b[0m\u001b[0m_condition\u001b[0m\u001b[0;34m.\u001b[0m\u001b[0mwait\u001b[0m\u001b[0;34m(\u001b[0m\u001b[0mtimeout\u001b[0m\u001b[0;34m)\u001b[0m\u001b[0;34m\u001b[0m\u001b[0;34m\u001b[0m\u001b[0m\n\u001b[0m\u001b[1;32m    435\u001b[0m \u001b[0;34m\u001b[0m\u001b[0m\n\u001b[1;32m    436\u001b[0m             \u001b[0;32mif\u001b[0m \u001b[0mself\u001b[0m\u001b[0;34m.\u001b[0m\u001b[0m_state\u001b[0m \u001b[0;32min\u001b[0m \u001b[0;34m[\u001b[0m\u001b[0mCANCELLED\u001b[0m\u001b[0;34m,\u001b[0m \u001b[0mCANCELLED_AND_NOTIFIED\u001b[0m\u001b[0;34m]\u001b[0m\u001b[0;34m:\u001b[0m\u001b[0;34m\u001b[0m\u001b[0;34m\u001b[0m\u001b[0m\n",
      "\u001b[0;32m~/opt/anaconda3/lib/python3.8/threading.py\u001b[0m in \u001b[0;36mwait\u001b[0;34m(self, timeout)\u001b[0m\n\u001b[1;32m    300\u001b[0m         \u001b[0;32mtry\u001b[0m\u001b[0;34m:\u001b[0m    \u001b[0;31m# restore state no matter what (e.g., KeyboardInterrupt)\u001b[0m\u001b[0;34m\u001b[0m\u001b[0;34m\u001b[0m\u001b[0m\n\u001b[1;32m    301\u001b[0m             \u001b[0;32mif\u001b[0m \u001b[0mtimeout\u001b[0m \u001b[0;32mis\u001b[0m \u001b[0;32mNone\u001b[0m\u001b[0;34m:\u001b[0m\u001b[0;34m\u001b[0m\u001b[0;34m\u001b[0m\u001b[0m\n\u001b[0;32m--> 302\u001b[0;31m                 \u001b[0mwaiter\u001b[0m\u001b[0;34m.\u001b[0m\u001b[0macquire\u001b[0m\u001b[0;34m(\u001b[0m\u001b[0;34m)\u001b[0m\u001b[0;34m\u001b[0m\u001b[0;34m\u001b[0m\u001b[0m\n\u001b[0m\u001b[1;32m    303\u001b[0m                 \u001b[0mgotit\u001b[0m \u001b[0;34m=\u001b[0m \u001b[0;32mTrue\u001b[0m\u001b[0;34m\u001b[0m\u001b[0;34m\u001b[0m\u001b[0m\n\u001b[1;32m    304\u001b[0m             \u001b[0;32melse\u001b[0m\u001b[0;34m:\u001b[0m\u001b[0;34m\u001b[0m\u001b[0;34m\u001b[0m\u001b[0m\n",
      "\u001b[0;31mKeyboardInterrupt\u001b[0m: "
     ]
    }
   ],
   "source": [
    "# ищем оптимальные значения гиперпараметров\n",
    "model = LogisticRegression()\n",
    "param_grid = [\n",
    "    {'penalty': ['l1'], \n",
    "     'solver': ['liblinear', 'lbfgs'], \n",
    "     'class_weight':['none', 'balanced'], \n",
    "     'multi_class': ['auto','ovr']}, \n",
    "    {'penalty': ['l2'], \n",
    "     'solver': ['newton-cg', 'lbfgs', 'liblinear', 'sag', 'saga'], \n",
    "     'class_weight':['none', 'balanced'], \n",
    "     'multi_class': ['auto','ovr']}, \n",
    "    {'penalty': ['none'], \n",
    "     'solver': ['newton-cg', 'lbfgs', 'sag', 'saga'], \n",
    "     'class_weight':['none', 'balanced'], \n",
    "     'multi_class': ['auto','ovr']} \n",
    "]\n",
    "gridsearch = GridSearchCV(model, param_grid, scoring='f1', n_jobs=-1)\n",
    "gridsearch.fit(X_train, y_train)\n",
    "model = gridsearch.best_estimator_\n",
    "## печатаем параметры\n",
    "best_parameters = model.get_params()\n",
    "for param_name in best_parameters:\n",
    "        print(param_name, best_parameters[param_name], '\\n')"
   ]
  },
  {
   "cell_type": "markdown",
   "metadata": {
    "papermill": {
     "duration": 0.145444,
     "end_time": "2021-01-03T12:28:13.890760",
     "exception": false,
     "start_time": "2021-01-03T12:28:13.745316",
     "status": "completed"
    },
    "tags": []
   },
   "source": [
    "## 9. Строим модель с подобранными гиперпарметрами"
   ]
  },
  {
   "cell_type": "code",
   "execution_count": 84,
   "metadata": {
    "execution": {
     "iopub.execute_input": "2021-01-03T12:28:14.199198Z",
     "iopub.status.busy": "2021-01-03T12:28:14.198480Z",
     "iopub.status.idle": "2021-01-03T12:28:14.210303Z",
     "shell.execute_reply": "2021-01-03T12:28:14.209473Z"
    },
    "papermill": {
     "duration": 0.169177,
     "end_time": "2021-01-03T12:28:14.210436",
     "exception": false,
     "start_time": "2021-01-03T12:28:14.041259",
     "status": "completed"
    },
    "tags": []
   },
   "outputs": [],
   "source": [
    "# Разобьем данные для обучения и тестирования по новой\n",
    "X_train, X_test, y_train, y_test = train_test_split(X, y, test_size=0.20, random_state=42)"
   ]
  },
  {
   "cell_type": "code",
   "execution_count": 85,
   "metadata": {
    "execution": {
     "iopub.execute_input": "2021-01-03T12:28:14.517146Z",
     "iopub.status.busy": "2021-01-03T12:28:14.516384Z",
     "iopub.status.idle": "2021-01-03T12:28:19.118302Z",
     "shell.execute_reply": "2021-01-03T12:28:19.117620Z"
    },
    "papermill": {
     "duration": 4.75978,
     "end_time": "2021-01-03T12:28:19.118418",
     "exception": false,
     "start_time": "2021-01-03T12:28:14.358638",
     "status": "completed"
    },
    "tags": []
   },
   "outputs": [
    {
     "data": {
      "text/plain": [
       "LogisticRegression(C=1, class_weight='balanced', penalty='l1',\n",
       "                   solver='liblinear')"
      ]
     },
     "execution_count": 85,
     "metadata": {},
     "output_type": "execute_result"
    }
   ],
   "source": [
    "# строим модель\n",
    "new_model = LogisticRegression(random_state = None, \n",
    "                               C = 1, \n",
    "                               class_weight = 'balanced', \n",
    "                               dual = False, \n",
    "                               fit_intercept = True, \n",
    "                               intercept_scaling = 1, \n",
    "                               l1_ratio = None, \n",
    "                               max_iter = 100, \n",
    "                               multi_class = 'auto', \n",
    "                               n_jobs = None, \n",
    "                               penalty = 'l1', \n",
    "                               solver = 'liblinear', \n",
    "                               tol = 0.0001,\n",
    "                               verbose = 0, \n",
    "                               warm_start = False)\n",
    "new_model.fit(X_train, y_train)"
   ]
  },
  {
   "cell_type": "code",
   "execution_count": 86,
   "metadata": {
    "execution": {
     "iopub.execute_input": "2021-01-03T12:28:19.424337Z",
     "iopub.status.busy": "2021-01-03T12:28:19.423638Z",
     "iopub.status.idle": "2021-01-03T12:28:19.469386Z",
     "shell.execute_reply": "2021-01-03T12:28:19.470021Z"
    },
    "papermill": {
     "duration": 0.202443,
     "end_time": "2021-01-03T12:28:19.470184",
     "exception": false,
     "start_time": "2021-01-03T12:28:19.267741",
     "status": "completed"
    },
    "tags": []
   },
   "outputs": [],
   "source": [
    "# считаем метрики обучающещей (X_train, y_train) выборки\n",
    "y_train_probs = new_model.predict_proba(X_train)\n",
    "y_train_probs = y_train_probs[:,1]\n",
    "fpr_train, tpr_train, threshold_train = roc_curve(y_train, y_train_probs)\n",
    "roc_auc_train = roc_auc_score(y_train, y_train_probs)"
   ]
  },
  {
   "cell_type": "code",
   "execution_count": 87,
   "metadata": {
    "execution": {
     "iopub.execute_input": "2021-01-03T12:28:19.773621Z",
     "iopub.status.busy": "2021-01-03T12:28:19.772921Z",
     "iopub.status.idle": "2021-01-03T12:28:19.790479Z",
     "shell.execute_reply": "2021-01-03T12:28:19.791102Z"
    },
    "papermill": {
     "duration": 0.170678,
     "end_time": "2021-01-03T12:28:19.791263",
     "exception": false,
     "start_time": "2021-01-03T12:28:19.620585",
     "status": "completed"
    },
    "tags": []
   },
   "outputs": [],
   "source": [
    "# считаем метрики тестовой (X_test, y_test) выборки\n",
    "y_test_probs = new_model.predict_proba(X_test)\n",
    "y_test_probs = y_test_probs[:,1]\n",
    "fpr_test, tpr_test, threshold_test = roc_curve(y_test, y_test_probs)\n",
    "roc_auc_test = roc_auc_score(y_test, y_test_probs)"
   ]
  },
  {
   "cell_type": "code",
   "execution_count": 88,
   "metadata": {
    "execution": {
     "iopub.execute_input": "2021-01-03T12:28:20.096313Z",
     "iopub.status.busy": "2021-01-03T12:28:20.095578Z",
     "iopub.status.idle": "2021-01-03T12:28:20.279881Z",
     "shell.execute_reply": "2021-01-03T12:28:20.280505Z"
    },
    "papermill": {
     "duration": 0.336661,
     "end_time": "2021-01-03T12:28:20.280680",
     "exception": false,
     "start_time": "2021-01-03T12:28:19.944019",
     "status": "completed"
    },
    "tags": []
   },
   "outputs": [
    {
     "data": {
      "image/png": "[encoded data removed]",
      "text/plain": [
       "<Figure size 432x288 with 1 Axes>"
      ]
     },
     "metadata": {
      "needs_background": "light"
     },
     "output_type": "display_data"
    }
   ],
   "source": [
    "# строи графики метрик\n",
    "plt.figure()\n",
    "plt.plot([0, 1], label='Baseline', linestyle='--')\n",
    "plt.plot(fpr_train, tpr_train, label = 'Train')\n",
    "plt.plot(fpr_test, tpr_test, label = 'Test')\n",
    "plt.title('Logistic Regression ROC AUC Train = {a} \\n Logistic Regression ROC AUC Test = {b}'\n",
    "          .format(a = roc_auc_train.round(3), b = roc_auc_test.round(3)))\n",
    "plt.ylabel('True Positive Rate')\n",
    "plt.xlabel('False Positive Rate')\n",
    "plt.legend(loc = 'lower right')\n",
    "plt.show()"
   ]
  },
  {
   "cell_type": "markdown",
   "metadata": {
    "papermill": {
     "duration": 0.148964,
     "end_time": "2021-01-03T12:28:20.579781",
     "exception": false,
     "start_time": "2021-01-03T12:28:20.430817",
     "status": "completed"
    },
    "tags": []
   },
   "source": [
    "#### Вывод: расхождение метрика ROC AUC для обучающей и тестовоый выборок не изменилось. Будем использовать модель с подобранными гиперпараметрами."
   ]
  },
  {
   "cell_type": "markdown",
   "metadata": {
    "papermill": {
     "duration": 0.153339,
     "end_time": "2021-01-03T12:28:20.882316",
     "exception": false,
     "start_time": "2021-01-03T12:28:20.728977",
     "status": "completed"
    },
    "tags": []
   },
   "source": [
    "# **9. Определяем значение дефолта клиентов**"
   ]
  },
  {
   "cell_type": "code",
   "execution_count": 89,
   "metadata": {
    "execution": {
     "iopub.execute_input": "2021-01-03T12:28:21.191063Z",
     "iopub.status.busy": "2021-01-03T12:28:21.190003Z",
     "iopub.status.idle": "2021-01-03T12:28:21.202068Z",
     "shell.execute_reply": "2021-01-03T12:28:21.202567Z"
    },
    "papermill": {
     "duration": 0.168038,
     "end_time": "2021-01-03T12:28:21.202724",
     "exception": false,
     "start_time": "2021-01-03T12:28:21.034686",
     "status": "completed"
    },
    "tags": []
   },
   "outputs": [],
   "source": [
    "# выделяем тестовый датасет из датасета data\n",
    "data_test = data[data['train'] == 0]\n",
    "data_test = data_test.drop(['client_id', 'app_date', 'train'], axis=1)"
   ]
  },
  {
   "cell_type": "code",
   "execution_count": 90,
   "metadata": {
    "execution": {
     "iopub.execute_input": "2021-01-03T12:28:21.506566Z",
     "iopub.status.busy": "2021-01-03T12:28:21.505500Z",
     "iopub.status.idle": "2021-01-03T12:28:21.525433Z",
     "shell.execute_reply": "2021-01-03T12:28:21.525950Z"
    },
    "papermill": {
     "duration": 0.173129,
     "end_time": "2021-01-03T12:28:21.526112",
     "exception": false,
     "start_time": "2021-01-03T12:28:21.352983",
     "status": "completed"
    },
    "tags": []
   },
   "outputs": [],
   "source": [
    "# преобразуем категориальные переменные методом One-Hot Encoding\n",
    "data_test_cat = OneHotEncoder(sparse = False).fit_transform(data_test[cat_cols].values)"
   ]
  },
  {
   "cell_type": "code",
   "execution_count": 91,
   "metadata": {
    "execution": {
     "iopub.execute_input": "2021-01-03T12:28:21.828285Z",
     "iopub.status.busy": "2021-01-03T12:28:21.827274Z",
     "iopub.status.idle": "2021-01-03T12:28:21.833678Z",
     "shell.execute_reply": "2021-01-03T12:28:21.834297Z"
    },
    "papermill": {
     "duration": 0.159016,
     "end_time": "2021-01-03T12:28:21.834497",
     "exception": false,
     "start_time": "2021-01-03T12:28:21.675481",
     "status": "completed"
    },
    "tags": []
   },
   "outputs": [
    {
     "data": {
      "text/plain": [
       "array([[0., 1., 0., ..., 0., 0., 1.],\n",
       "       [0., 0., 0., ..., 0., 1., 0.],\n",
       "       [0., 0., 0., ..., 0., 1., 0.],\n",
       "       ...,\n",
       "       [0., 1., 0., ..., 1., 0., 0.],\n",
       "       [0., 0., 0., ..., 0., 0., 0.],\n",
       "       [0., 0., 0., ..., 1., 0., 0.]])"
      ]
     },
     "execution_count": 91,
     "metadata": {},
     "output_type": "execute_result"
    }
   ],
   "source": [
    "# проверяем\n",
    "data_test_cat"
   ]
  },
  {
   "cell_type": "code",
   "execution_count": 92,
   "metadata": {
    "execution": {
     "iopub.execute_input": "2021-01-03T12:28:22.138659Z",
     "iopub.status.busy": "2021-01-03T12:28:22.137981Z",
     "iopub.status.idle": "2021-01-03T12:28:22.149295Z",
     "shell.execute_reply": "2021-01-03T12:28:22.149922Z"
    },
    "papermill": {
     "duration": 0.164129,
     "end_time": "2021-01-03T12:28:22.150081",
     "exception": false,
     "start_time": "2021-01-03T12:28:21.985952",
     "status": "completed"
    },
    "tags": []
   },
   "outputs": [],
   "source": [
    "# стандартизируем числовые переменные\n",
    "data_test_num = StandardScaler().fit_transform(data_test[num_cols].values)"
   ]
  },
  {
   "cell_type": "code",
   "execution_count": 93,
   "metadata": {
    "execution": {
     "iopub.execute_input": "2021-01-03T12:28:22.455458Z",
     "iopub.status.busy": "2021-01-03T12:28:22.454784Z",
     "iopub.status.idle": "2021-01-03T12:28:22.461778Z",
     "shell.execute_reply": "2021-01-03T12:28:22.461132Z"
    },
    "papermill": {
     "duration": 0.160909,
     "end_time": "2021-01-03T12:28:22.461897",
     "exception": false,
     "start_time": "2021-01-03T12:28:22.300988",
     "status": "completed"
    },
    "tags": []
   },
   "outputs": [
    {
     "data": {
      "text/plain": [
       "array([[-0.88333898, -0.33995109, -0.73288746, ...,  0.68282058,\n",
       "         0.4450004 , -0.99730532],\n",
       "       [ 0.12606863,  6.00146439,  0.79551047, ..., -2.63253397,\n",
       "        -0.56077739,  0.35300684],\n",
       "       [ 0.97850869, -0.33995109,  0.42413578, ..., -0.05272498,\n",
       "         0.31650603, -1.33807811],\n",
       "       ...,\n",
       "       [-0.65688874,  2.1966151 ,  1.92005304, ...,  0.9453502 ,\n",
       "         0.26864856, -1.19324967],\n",
       "       [-1.12541848,  0.92833201,  1.31888606, ..., -0.05272498,\n",
       "         3.40089756, -2.78210279],\n",
       "       [ 0.0372345 , -0.33995109,  0.79042787, ..., -1.05077617,\n",
       "         0.70270711,  1.4818167 ]])"
      ]
     },
     "execution_count": 93,
     "metadata": {},
     "output_type": "execute_result"
    }
   ],
   "source": [
    "# проверяем\n",
    "data_test_num"
   ]
  },
  {
   "cell_type": "code",
   "execution_count": 94,
   "metadata": {
    "execution": {
     "iopub.execute_input": "2021-01-03T12:28:22.776362Z",
     "iopub.status.busy": "2021-01-03T12:28:22.775612Z",
     "iopub.status.idle": "2021-01-03T12:28:22.783179Z",
     "shell.execute_reply": "2021-01-03T12:28:22.782639Z"
    },
    "papermill": {
     "duration": 0.167569,
     "end_time": "2021-01-03T12:28:22.783342",
     "exception": false,
     "start_time": "2021-01-03T12:28:22.615773",
     "status": "completed"
    },
    "tags": []
   },
   "outputs": [],
   "source": [
    "# объединяем категориальные, бинарные, числовые признаки в одно признаковое пространство\n",
    "X = np.hstack([data_test_num, data_test[bin_cols].values, data_test_cat])"
   ]
  },
  {
   "cell_type": "code",
   "execution_count": 95,
   "metadata": {
    "execution": {
     "iopub.execute_input": "2021-01-03T12:28:23.133036Z",
     "iopub.status.busy": "2021-01-03T12:28:23.132345Z",
     "iopub.status.idle": "2021-01-03T12:28:23.138365Z",
     "shell.execute_reply": "2021-01-03T12:28:23.138942Z"
    },
    "papermill": {
     "duration": 0.161691,
     "end_time": "2021-01-03T12:28:23.139089",
     "exception": false,
     "start_time": "2021-01-03T12:28:22.977398",
     "status": "completed"
    },
    "tags": []
   },
   "outputs": [],
   "source": [
    "# делаем расчет\n",
    "y = new_model.predict_proba(X)\n",
    "y = y[:,1]"
   ]
  },
  {
   "cell_type": "code",
   "execution_count": 96,
   "metadata": {
    "execution": {
     "iopub.execute_input": "2021-01-03T12:28:23.463288Z",
     "iopub.status.busy": "2021-01-03T12:28:23.462280Z",
     "iopub.status.idle": "2021-01-03T12:28:23.465928Z",
     "shell.execute_reply": "2021-01-03T12:28:23.465386Z"
    },
    "papermill": {
     "duration": 0.165203,
     "end_time": "2021-01-03T12:28:23.466050",
     "exception": false,
     "start_time": "2021-01-03T12:28:23.300847",
     "status": "completed"
    },
    "tags": []
   },
   "outputs": [],
   "source": [
    "# создаем новый датасет\n",
    "submit = pd.DataFrame(test.client_id)"
   ]
  },
  {
   "cell_type": "code",
   "execution_count": 97,
   "metadata": {
    "execution": {
     "iopub.execute_input": "2021-01-03T12:28:23.780820Z",
     "iopub.status.busy": "2021-01-03T12:28:23.780044Z",
     "iopub.status.idle": "2021-01-03T12:28:23.782976Z",
     "shell.execute_reply": "2021-01-03T12:28:23.782381Z"
    },
    "papermill": {
     "duration": 0.163625,
     "end_time": "2021-01-03T12:28:23.783092",
     "exception": false,
     "start_time": "2021-01-03T12:28:23.619467",
     "status": "completed"
    },
    "tags": []
   },
   "outputs": [],
   "source": [
    "# включаем в датасет парсчитанные значения переменной default\n",
    "submit['default'] = y"
   ]
  },
  {
   "cell_type": "code",
   "execution_count": 100,
   "metadata": {
    "execution": {
     "iopub.execute_input": "2021-01-03T12:28:24.093826Z",
     "iopub.status.busy": "2021-01-03T12:28:24.093061Z",
     "iopub.status.idle": "2021-01-03T12:28:24.565518Z",
     "shell.execute_reply": "2021-01-03T12:28:24.564795Z"
    },
    "papermill": {
     "duration": 0.628946,
     "end_time": "2021-01-03T12:28:24.565663",
     "exception": false,
     "start_time": "2021-01-03T12:28:23.936717",
     "status": "completed"
    },
    "tags": []
   },
   "outputs": [],
   "source": [
    "# выгружаем получившийся датасет в файл\n",
    "submit.to_csv('submission.csv', index=False)"
   ]
  },
  {
   "cell_type": "code",
   "execution_count": null,
   "metadata": {},
   "outputs": [],
   "source": []
  }
 ],
 "metadata": {
  "kernelspec": {
   "display_name": "Python 3",
   "language": "python",
   "name": "python3"
  },
  "language_info": {
   "codemirror_mode": {
    "name": "ipython",
    "version": 3
   },
   "file_extension": ".py",
   "mimetype": "text/x-python",
   "name": "python",
   "nbconvert_exporter": "python",
   "pygments_lexer": "ipython3",
   "version": "3.8.5"
  },
  "papermill": {
   "duration": 181.99022,
   "end_time": "2021-01-03T12:28:24.840557",
   "environment_variables": {},
   "exception": null,
   "input_path": "__notebook__.ipynb",
   "output_path": "__notebook__.ipynb",
   "parameters": {},
   "start_time": "2021-01-03T12:25:22.850337",
   "version": "2.1.0"
  }
 },
 "nbformat": 4,
 "nbformat_minor": 4
}
